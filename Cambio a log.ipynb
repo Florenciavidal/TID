{
  "cells": [
    {
      "cell_type": "markdown",
      "id": "7f7d69f9",
      "metadata": {
        "id": "7f7d69f9"
      },
      "source": [
        "Copyright © 2022 Gurobi Optimization, LLC\n",
        "\n",
        "# How Much Is Too Much? Avocado Pricing and Supply Using Mathematical Optimization\n",
        "\n",
        "A [Food Network article](https://www.foodnetwork.com/fn-dish/news/2018/3/avocado-unseats-banana-as-america-s-top-fruit-import-by-value) from March 2017 declared, \"Avocado unseats banana as America's top fruit import.\" This declaration is incomplete and debatable for reasons other than whether  avocado is a fruit. Avocados are expensive.\n",
        "\n",
        "As a supplier, setting an appropriate avocado price requires a delicate trade-off. \n",
        "Set it too high and you lose customers. Set it too low and you won't make a profit.\n",
        "Equipped with good data, the avocado pricing and supply problem is *ripe* with opportunities for demonstrating the power of optimization and data science.\n",
        "\n",
        "They say when life gives you avocados, make guacamole.\n",
        "Just like the perfect guacamole needs the right blend of onion, lemon and spices, finding an optimal avocado price needs the right blend of descriptive, predictive and prescriptive analytics.\n",
        "\n",
        "|<img src=\"https://github.com/Gurobi/modeling-examples/blob/master/price_optimization/avocado_image_grocery.jpeg?raw=1\" width=\"500\" align=\"center\">| \n",
        "|:--:|\n",
        "| <b>Avocados: a quintessential corner of a grocery store. Image Credits: [New York Post](https://nypost.com/2022/02/15/us-will-halt-mexico-avocado-imports-as-long-as-necessary/) </b>| \n",
        "\n",
        "\n",
        "**Goal**: Develop a data science pipeline for pricing and distribution of avocados to maximize revenue.\n",
        "\n",
        "This notebook walks through a decision-making pipeline that culminates in a mathematical optimization model.\n",
        "There are three stages: \n",
        "- First, understand the dataset and infer the relationships between categories such as the sales, price, region, and seasonal trends.\n",
        "- Second, build a prediction model that predicts the demand for avocados as a function of price, region, year and the seasonality.\n",
        "- Third, design an optimization problem that sets the optimal price and supply quantity to maximize the net revenue while incorporating costs for wastage and transportation.\n"
      ]
    },
    {
      "cell_type": "markdown",
      "id": "2e5dc427",
      "metadata": {
        "id": "2e5dc427"
      },
      "source": [
        "## Load the Packages and the Datasets\n",
        "\n",
        "We use real sales data provided by the [Hass Avocado Board](https://hassavocadoboard.com/) (HAB), whose aim is to \"make avocados America’s most popular fruit\". This dataset contains consolidated information on several years' worth of market prices and sales of avocados. \n",
        "\n",
        "We will now load the following packages for analyzing and visualizing the data."
      ]
    },
    {
      "cell_type": "code",
      "execution_count": 791,
      "id": "d0d518e0-8f9f-465e-a8da-3b66c1e3761e",
      "metadata": {
        "id": "d0d518e0-8f9f-465e-a8da-3b66c1e3761e",
        "colab": {
          "base_uri": "https://localhost:8080/"
        },
        "outputId": "ebb1b616-0dcf-4191-f610-b65617c525a1"
      },
      "outputs": [
        {
          "output_type": "stream",
          "name": "stdout",
          "text": [
            "Looking in indexes: https://pypi.org/simple, https://us-python.pkg.dev/colab-wheels/public/simple/\n",
            "Requirement already satisfied: gurobipy in /usr/local/lib/python3.9/dist-packages (10.0.1)\n"
          ]
        }
      ],
      "source": [
        "\n",
        "# Comando de IPython que se utiliza para instalar la biblioteca Gurobi Optimizer en un entorno Python.\n",
        "# descarga e instala la biblioteca Gurobi Optimizer y su interfaz gurobipy en el entorno de Python. \n",
        "# Es importante tener en cuenta que esta línea de código solo funciona si el paquete pip está instalado en el sistema y \n",
        "# si el usuario tiene permisos de administrador para instalar paquetes.\n",
        "%pip install gurobipy "
      ]
    },
    {
      "cell_type": "code",
      "execution_count": 792,
      "id": "3024295a",
      "metadata": {
        "id": "3024295a",
        "colab": {
          "base_uri": "https://localhost:8080/"
        },
        "outputId": "59d26ddf-a644-4aa2-f282-71ab443073a2"
      },
      "outputs": [
        {
          "output_type": "stream",
          "name": "stdout",
          "text": [
            "3.24 µs ± 1.55 µs per loop (mean ± std. dev. of 7 runs, 1000000 loops each)\n"
          ]
        }
      ],
      "source": [
        "%%timeit\n",
        "# Importa la biblioteca Pandas y le asigna un alias 'pd' para facilitar su uso en el código. Pandas es una biblioteca popular de análisis de datos \n",
        "# que proporciona estructuras de datos flexibles y herramientas para manipular y analizar datos.\n",
        "import pandas as pd\n",
        "# Importa el módulo de advertencias de Python para manejar advertencias en el código.\n",
        "import warnings\n",
        "\n",
        "# Importa la biblioteca Matplotlib para crear visualizaciones de datos. Se le asigna el alias 'plt' para abreviar su uso en el código.\n",
        "import matplotlib.pyplot as plt\n",
        "# Importa el módulo de árboles de decisión de la biblioteca scikit-learn (también conocida como sklearn), que proporciona una amplia gama de \n",
        "# herramientas para el aprendizaje automático en Python.\n",
        "from sklearn import tree\n",
        "# Importa la biblioteca Seaborn para crear visualizaciones estadísticas más complejas y estéticamente atractivas. Seaborn se basa en Matplotlib \n",
        "# y se usa comúnmente en conjunción con Pandas y scikit-learn.\n",
        "import seaborn as sns\n",
        "# Importa la biblioteca scikit-learn en su totalidad, que proporciona una amplia variedad de herramientas de aprendizaje automático para \n",
        "# Problemas de clasificación, regresión y clustering, así como para la selección de modelos y la evaluación de modelos.\n",
        "import sklearn\n",
        "# Importa la biblioteca NumPy y le asigna el alias 'np'. NumPy es una biblioteca fundamental para el cálculo científico en Python, \n",
        "# que proporciona un soporte potente para la creación y manipulación de matrices y matrices multidimensionales.\n",
        "import numpy as np"
      ]
    },
    {
      "cell_type": "markdown",
      "id": "4537e1ae",
      "metadata": {
        "id": "4537e1ae"
      },
      "source": [
        "The dataset from HAB contains sales data for the years 2019-2022. This data is augmented by a previous download from HAB available on [Kaggle](https://www.kaggle.com/datasets/timmate/avocado-prices-2020) with sales for the years 2015-2018.\n",
        "\n",
        "Each row in the dataset is the weekly number of avocados sold and the weekly average price of an avocado categorized by region and type of avocado. There are two types of avocados: conventional and organic. In this notebook, we will only consider the conventional avocados.\n",
        "There are eight large regions, namely the Great Lakes, Midsouth, North East, Northern New England, South Central, South East, West and Plains.\n",
        "\n",
        "Now, load the data and store into a Pandas dataframe."
      ]
    },
    {
      "cell_type": "code",
      "execution_count": 793,
      "id": "d7ebd6bb",
      "metadata": {
        "id": "d7ebd6bb",
        "outputId": "f2d3a163-79ff-4a01-ec1b-4ef04873f667",
        "colab": {
          "base_uri": "https://localhost:8080/",
          "height": 473
        }
      },
      "outputs": [
        {
          "output_type": "stream",
          "name": "stderr",
          "text": [
            "<ipython-input-793-f8855d8f8ea4>:7: FutureWarning: The frame.append method is deprecated and will be removed from pandas in a future version. Use pandas.concat instead.\n",
            "  avocado = avocado.append(avocado_old, ignore_index=True)\n"
          ]
        },
        {
          "output_type": "execute_result",
          "data": {
            "text/plain": [
              "           region          date          type     price  units_sold\n",
              "0     Great_Lakes   1/7/19 0:00  Conventional  1.106743  3812441.96\n",
              "1     Great_Lakes   1/7/19 0:00       Organic  1.371280   275987.52\n",
              "2     Great_Lakes  1/13/19 0:00  Conventional  1.063457  3843318.68\n",
              "3     Great_Lakes  1/13/19 0:00       Organic  1.493384   244991.95\n",
              "4     Great_Lakes  1/20/19 0:00  Conventional  1.049931  4587957.69\n",
              "...           ...           ...           ...       ...         ...\n",
              "6799         West      11/18/18       Organic  1.610000   334096.14\n",
              "6800         West      11/25/18  Conventional  1.240000  3260102.17\n",
              "6801         West      11/25/18       Organic  1.730000   268362.34\n",
              "6802         West       12/2/18  Conventional  1.200000  4594863.86\n",
              "6803         West       12/2/18       Organic  1.620000   268969.03\n",
              "\n",
              "[6804 rows x 5 columns]"
            ],
            "text/html": [
              "\n",
              "  <div id=\"df-08d9943d-3cd8-47fc-b39d-247f577226f2\">\n",
              "    <div class=\"colab-df-container\">\n",
              "      <div>\n",
              "<style scoped>\n",
              "    .dataframe tbody tr th:only-of-type {\n",
              "        vertical-align: middle;\n",
              "    }\n",
              "\n",
              "    .dataframe tbody tr th {\n",
              "        vertical-align: top;\n",
              "    }\n",
              "\n",
              "    .dataframe thead th {\n",
              "        text-align: right;\n",
              "    }\n",
              "</style>\n",
              "<table border=\"1\" class=\"dataframe\">\n",
              "  <thead>\n",
              "    <tr style=\"text-align: right;\">\n",
              "      <th></th>\n",
              "      <th>region</th>\n",
              "      <th>date</th>\n",
              "      <th>type</th>\n",
              "      <th>price</th>\n",
              "      <th>units_sold</th>\n",
              "    </tr>\n",
              "  </thead>\n",
              "  <tbody>\n",
              "    <tr>\n",
              "      <th>0</th>\n",
              "      <td>Great_Lakes</td>\n",
              "      <td>1/7/19 0:00</td>\n",
              "      <td>Conventional</td>\n",
              "      <td>1.106743</td>\n",
              "      <td>3812441.96</td>\n",
              "    </tr>\n",
              "    <tr>\n",
              "      <th>1</th>\n",
              "      <td>Great_Lakes</td>\n",
              "      <td>1/7/19 0:00</td>\n",
              "      <td>Organic</td>\n",
              "      <td>1.371280</td>\n",
              "      <td>275987.52</td>\n",
              "    </tr>\n",
              "    <tr>\n",
              "      <th>2</th>\n",
              "      <td>Great_Lakes</td>\n",
              "      <td>1/13/19 0:00</td>\n",
              "      <td>Conventional</td>\n",
              "      <td>1.063457</td>\n",
              "      <td>3843318.68</td>\n",
              "    </tr>\n",
              "    <tr>\n",
              "      <th>3</th>\n",
              "      <td>Great_Lakes</td>\n",
              "      <td>1/13/19 0:00</td>\n",
              "      <td>Organic</td>\n",
              "      <td>1.493384</td>\n",
              "      <td>244991.95</td>\n",
              "    </tr>\n",
              "    <tr>\n",
              "      <th>4</th>\n",
              "      <td>Great_Lakes</td>\n",
              "      <td>1/20/19 0:00</td>\n",
              "      <td>Conventional</td>\n",
              "      <td>1.049931</td>\n",
              "      <td>4587957.69</td>\n",
              "    </tr>\n",
              "    <tr>\n",
              "      <th>...</th>\n",
              "      <td>...</td>\n",
              "      <td>...</td>\n",
              "      <td>...</td>\n",
              "      <td>...</td>\n",
              "      <td>...</td>\n",
              "    </tr>\n",
              "    <tr>\n",
              "      <th>6799</th>\n",
              "      <td>West</td>\n",
              "      <td>11/18/18</td>\n",
              "      <td>Organic</td>\n",
              "      <td>1.610000</td>\n",
              "      <td>334096.14</td>\n",
              "    </tr>\n",
              "    <tr>\n",
              "      <th>6800</th>\n",
              "      <td>West</td>\n",
              "      <td>11/25/18</td>\n",
              "      <td>Conventional</td>\n",
              "      <td>1.240000</td>\n",
              "      <td>3260102.17</td>\n",
              "    </tr>\n",
              "    <tr>\n",
              "      <th>6801</th>\n",
              "      <td>West</td>\n",
              "      <td>11/25/18</td>\n",
              "      <td>Organic</td>\n",
              "      <td>1.730000</td>\n",
              "      <td>268362.34</td>\n",
              "    </tr>\n",
              "    <tr>\n",
              "      <th>6802</th>\n",
              "      <td>West</td>\n",
              "      <td>12/2/18</td>\n",
              "      <td>Conventional</td>\n",
              "      <td>1.200000</td>\n",
              "      <td>4594863.86</td>\n",
              "    </tr>\n",
              "    <tr>\n",
              "      <th>6803</th>\n",
              "      <td>West</td>\n",
              "      <td>12/2/18</td>\n",
              "      <td>Organic</td>\n",
              "      <td>1.620000</td>\n",
              "      <td>268969.03</td>\n",
              "    </tr>\n",
              "  </tbody>\n",
              "</table>\n",
              "<p>6804 rows × 5 columns</p>\n",
              "</div>\n",
              "      <button class=\"colab-df-convert\" onclick=\"convertToInteractive('df-08d9943d-3cd8-47fc-b39d-247f577226f2')\"\n",
              "              title=\"Convert this dataframe to an interactive table.\"\n",
              "              style=\"display:none;\">\n",
              "        \n",
              "  <svg xmlns=\"http://www.w3.org/2000/svg\" height=\"24px\"viewBox=\"0 0 24 24\"\n",
              "       width=\"24px\">\n",
              "    <path d=\"M0 0h24v24H0V0z\" fill=\"none\"/>\n",
              "    <path d=\"M18.56 5.44l.94 2.06.94-2.06 2.06-.94-2.06-.94-.94-2.06-.94 2.06-2.06.94zm-11 1L8.5 8.5l.94-2.06 2.06-.94-2.06-.94L8.5 2.5l-.94 2.06-2.06.94zm10 10l.94 2.06.94-2.06 2.06-.94-2.06-.94-.94-2.06-.94 2.06-2.06.94z\"/><path d=\"M17.41 7.96l-1.37-1.37c-.4-.4-.92-.59-1.43-.59-.52 0-1.04.2-1.43.59L10.3 9.45l-7.72 7.72c-.78.78-.78 2.05 0 2.83L4 21.41c.39.39.9.59 1.41.59.51 0 1.02-.2 1.41-.59l7.78-7.78 2.81-2.81c.8-.78.8-2.07 0-2.86zM5.41 20L4 18.59l7.72-7.72 1.47 1.35L5.41 20z\"/>\n",
              "  </svg>\n",
              "      </button>\n",
              "      \n",
              "  <style>\n",
              "    .colab-df-container {\n",
              "      display:flex;\n",
              "      flex-wrap:wrap;\n",
              "      gap: 12px;\n",
              "    }\n",
              "\n",
              "    .colab-df-convert {\n",
              "      background-color: #E8F0FE;\n",
              "      border: none;\n",
              "      border-radius: 50%;\n",
              "      cursor: pointer;\n",
              "      display: none;\n",
              "      fill: #1967D2;\n",
              "      height: 32px;\n",
              "      padding: 0 0 0 0;\n",
              "      width: 32px;\n",
              "    }\n",
              "\n",
              "    .colab-df-convert:hover {\n",
              "      background-color: #E2EBFA;\n",
              "      box-shadow: 0px 1px 2px rgba(60, 64, 67, 0.3), 0px 1px 3px 1px rgba(60, 64, 67, 0.15);\n",
              "      fill: #174EA6;\n",
              "    }\n",
              "\n",
              "    [theme=dark] .colab-df-convert {\n",
              "      background-color: #3B4455;\n",
              "      fill: #D2E3FC;\n",
              "    }\n",
              "\n",
              "    [theme=dark] .colab-df-convert:hover {\n",
              "      background-color: #434B5C;\n",
              "      box-shadow: 0px 1px 3px 1px rgba(0, 0, 0, 0.15);\n",
              "      filter: drop-shadow(0px 1px 2px rgba(0, 0, 0, 0.3));\n",
              "      fill: #FFFFFF;\n",
              "    }\n",
              "  </style>\n",
              "\n",
              "      <script>\n",
              "        const buttonEl =\n",
              "          document.querySelector('#df-08d9943d-3cd8-47fc-b39d-247f577226f2 button.colab-df-convert');\n",
              "        buttonEl.style.display =\n",
              "          google.colab.kernel.accessAllowed ? 'block' : 'none';\n",
              "\n",
              "        async function convertToInteractive(key) {\n",
              "          const element = document.querySelector('#df-08d9943d-3cd8-47fc-b39d-247f577226f2');\n",
              "          const dataTable =\n",
              "            await google.colab.kernel.invokeFunction('convertToInteractive',\n",
              "                                                     [key], {});\n",
              "          if (!dataTable) return;\n",
              "\n",
              "          const docLinkHtml = 'Like what you see? Visit the ' +\n",
              "            '<a target=\"_blank\" href=https://colab.research.google.com/notebooks/data_table.ipynb>data table notebook</a>'\n",
              "            + ' to learn more about interactive tables.';\n",
              "          element.innerHTML = '';\n",
              "          dataTable['output_type'] = 'display_data';\n",
              "          await google.colab.output.renderOutput(dataTable, element);\n",
              "          const docLink = document.createElement('div');\n",
              "          docLink.innerHTML = docLinkHtml;\n",
              "          element.appendChild(docLink);\n",
              "        }\n",
              "      </script>\n",
              "    </div>\n",
              "  </div>\n",
              "  "
            ]
          },
          "metadata": {},
          "execution_count": 793
        }
      ],
      "source": [
        "# Carga un archivo CSV de precios de palta desde una URL directamente en un dataframe de Pandas llamado avocado.\n",
        "avocado = pd.read_csv('https://raw.githubusercontent.com/Gurobi/modeling-examples/master/price_optimization/HABdata_2019_2022.csv') # dataset downloaded directly from HAB\n",
        "# Carga otro archivo CSV de precios de palta desde otra URL en otro dataframe de Pandas llamado avocado_old.\n",
        "avocado_old = pd.read_csv('https://raw.githubusercontent.com/Gurobi/modeling-examples/master/price_optimization/kaggledata_till2018.csv') # dataset downloaded from Kaggle\n",
        "# Combina los dos dataframes de Pandas (avocado y avocado_old) en uno solo llamado avocado, mediante la función append(). Se utiliza el parámetro \n",
        "# ignore_index=True para evitar conflictos de índice, es decir, reindexar las filas de forma consecutiva en el nuevo dataframe.\n",
        "avocado = avocado.append(avocado_old, ignore_index=True)\n",
        "# Muestra el dataframe combinado resultante, que contiene los datos de ambos archivos CSV cargados.\n",
        "\n",
        "avocado"
      ]
    },
    {
      "cell_type": "markdown",
      "id": "68efc9c1",
      "metadata": {
        "id": "68efc9c1"
      },
      "source": [
        "## Prepare the Dataset\n",
        "\n",
        "We will now prepare the data for making sales predictions. Add new columns to the dataframe for the year and seasonality. Let each year from 2015 through 2022 be given an index from 0 through 7 in the increasing order of the year. We will define the peak season to be the months of February through July. These months are set based on visual inspection of the trends, but you can try setting other months."
      ]
    },
    {
      "cell_type": "code",
      "execution_count": 794,
      "id": "cd09a61a",
      "metadata": {
        "id": "cd09a61a",
        "outputId": "3256168f-c65e-498f-e86d-fda8e4da1f75",
        "colab": {
          "base_uri": "https://localhost:8080/",
          "height": 419
        }
      },
      "outputs": [
        {
          "output_type": "execute_result",
          "data": {
            "text/plain": [
              "           date  units_sold     price                region  year  month  \\\n",
              "0    2015-01-04    3.382800  1.020000           Great_Lakes  2015      1   \n",
              "1    2015-01-04    2.578275  1.100000              Midsouth  2015      1   \n",
              "2    2015-01-04    5.794411  0.890000                  West  2015      1   \n",
              "3    2015-01-04    3.204112  0.980000             Southeast  2015      1   \n",
              "4    2015-01-04    0.321824  1.050000  Northern_New_England  2015      1   \n",
              "...         ...         ...       ...                   ...   ...    ...   \n",
              "3397 2022-05-15    4.150433  1.269883          SouthCentral  2022      5   \n",
              "3398 2022-05-15    4.668815  1.644873             Northeast  2022      5   \n",
              "3399 2022-05-15   32.745321  1.527357              Total_US  2022      5   \n",
              "3400 2022-05-15    3.542902  1.514583              Midsouth  2022      5   \n",
              "3401 2022-05-15    1.560202  1.541429                Plains  2022      5   \n",
              "\n",
              "      year_index  peak  \n",
              "0              0     0  \n",
              "1              0     0  \n",
              "2              0     0  \n",
              "3              0     0  \n",
              "4              0     0  \n",
              "...          ...   ...  \n",
              "3397           7     1  \n",
              "3398           7     1  \n",
              "3399           7     1  \n",
              "3400           7     1  \n",
              "3401           7     1  \n",
              "\n",
              "[3402 rows x 8 columns]"
            ],
            "text/html": [
              "\n",
              "  <div id=\"df-43aa5326-d959-43c7-8d59-3455521a0033\">\n",
              "    <div class=\"colab-df-container\">\n",
              "      <div>\n",
              "<style scoped>\n",
              "    .dataframe tbody tr th:only-of-type {\n",
              "        vertical-align: middle;\n",
              "    }\n",
              "\n",
              "    .dataframe tbody tr th {\n",
              "        vertical-align: top;\n",
              "    }\n",
              "\n",
              "    .dataframe thead th {\n",
              "        text-align: right;\n",
              "    }\n",
              "</style>\n",
              "<table border=\"1\" class=\"dataframe\">\n",
              "  <thead>\n",
              "    <tr style=\"text-align: right;\">\n",
              "      <th></th>\n",
              "      <th>date</th>\n",
              "      <th>units_sold</th>\n",
              "      <th>price</th>\n",
              "      <th>region</th>\n",
              "      <th>year</th>\n",
              "      <th>month</th>\n",
              "      <th>year_index</th>\n",
              "      <th>peak</th>\n",
              "    </tr>\n",
              "  </thead>\n",
              "  <tbody>\n",
              "    <tr>\n",
              "      <th>0</th>\n",
              "      <td>2015-01-04</td>\n",
              "      <td>3.382800</td>\n",
              "      <td>1.020000</td>\n",
              "      <td>Great_Lakes</td>\n",
              "      <td>2015</td>\n",
              "      <td>1</td>\n",
              "      <td>0</td>\n",
              "      <td>0</td>\n",
              "    </tr>\n",
              "    <tr>\n",
              "      <th>1</th>\n",
              "      <td>2015-01-04</td>\n",
              "      <td>2.578275</td>\n",
              "      <td>1.100000</td>\n",
              "      <td>Midsouth</td>\n",
              "      <td>2015</td>\n",
              "      <td>1</td>\n",
              "      <td>0</td>\n",
              "      <td>0</td>\n",
              "    </tr>\n",
              "    <tr>\n",
              "      <th>2</th>\n",
              "      <td>2015-01-04</td>\n",
              "      <td>5.794411</td>\n",
              "      <td>0.890000</td>\n",
              "      <td>West</td>\n",
              "      <td>2015</td>\n",
              "      <td>1</td>\n",
              "      <td>0</td>\n",
              "      <td>0</td>\n",
              "    </tr>\n",
              "    <tr>\n",
              "      <th>3</th>\n",
              "      <td>2015-01-04</td>\n",
              "      <td>3.204112</td>\n",
              "      <td>0.980000</td>\n",
              "      <td>Southeast</td>\n",
              "      <td>2015</td>\n",
              "      <td>1</td>\n",
              "      <td>0</td>\n",
              "      <td>0</td>\n",
              "    </tr>\n",
              "    <tr>\n",
              "      <th>4</th>\n",
              "      <td>2015-01-04</td>\n",
              "      <td>0.321824</td>\n",
              "      <td>1.050000</td>\n",
              "      <td>Northern_New_England</td>\n",
              "      <td>2015</td>\n",
              "      <td>1</td>\n",
              "      <td>0</td>\n",
              "      <td>0</td>\n",
              "    </tr>\n",
              "    <tr>\n",
              "      <th>...</th>\n",
              "      <td>...</td>\n",
              "      <td>...</td>\n",
              "      <td>...</td>\n",
              "      <td>...</td>\n",
              "      <td>...</td>\n",
              "      <td>...</td>\n",
              "      <td>...</td>\n",
              "      <td>...</td>\n",
              "    </tr>\n",
              "    <tr>\n",
              "      <th>3397</th>\n",
              "      <td>2022-05-15</td>\n",
              "      <td>4.150433</td>\n",
              "      <td>1.269883</td>\n",
              "      <td>SouthCentral</td>\n",
              "      <td>2022</td>\n",
              "      <td>5</td>\n",
              "      <td>7</td>\n",
              "      <td>1</td>\n",
              "    </tr>\n",
              "    <tr>\n",
              "      <th>3398</th>\n",
              "      <td>2022-05-15</td>\n",
              "      <td>4.668815</td>\n",
              "      <td>1.644873</td>\n",
              "      <td>Northeast</td>\n",
              "      <td>2022</td>\n",
              "      <td>5</td>\n",
              "      <td>7</td>\n",
              "      <td>1</td>\n",
              "    </tr>\n",
              "    <tr>\n",
              "      <th>3399</th>\n",
              "      <td>2022-05-15</td>\n",
              "      <td>32.745321</td>\n",
              "      <td>1.527357</td>\n",
              "      <td>Total_US</td>\n",
              "      <td>2022</td>\n",
              "      <td>5</td>\n",
              "      <td>7</td>\n",
              "      <td>1</td>\n",
              "    </tr>\n",
              "    <tr>\n",
              "      <th>3400</th>\n",
              "      <td>2022-05-15</td>\n",
              "      <td>3.542902</td>\n",
              "      <td>1.514583</td>\n",
              "      <td>Midsouth</td>\n",
              "      <td>2022</td>\n",
              "      <td>5</td>\n",
              "      <td>7</td>\n",
              "      <td>1</td>\n",
              "    </tr>\n",
              "    <tr>\n",
              "      <th>3401</th>\n",
              "      <td>2022-05-15</td>\n",
              "      <td>1.560202</td>\n",
              "      <td>1.541429</td>\n",
              "      <td>Plains</td>\n",
              "      <td>2022</td>\n",
              "      <td>5</td>\n",
              "      <td>7</td>\n",
              "      <td>1</td>\n",
              "    </tr>\n",
              "  </tbody>\n",
              "</table>\n",
              "<p>3402 rows × 8 columns</p>\n",
              "</div>\n",
              "      <button class=\"colab-df-convert\" onclick=\"convertToInteractive('df-43aa5326-d959-43c7-8d59-3455521a0033')\"\n",
              "              title=\"Convert this dataframe to an interactive table.\"\n",
              "              style=\"display:none;\">\n",
              "        \n",
              "  <svg xmlns=\"http://www.w3.org/2000/svg\" height=\"24px\"viewBox=\"0 0 24 24\"\n",
              "       width=\"24px\">\n",
              "    <path d=\"M0 0h24v24H0V0z\" fill=\"none\"/>\n",
              "    <path d=\"M18.56 5.44l.94 2.06.94-2.06 2.06-.94-2.06-.94-.94-2.06-.94 2.06-2.06.94zm-11 1L8.5 8.5l.94-2.06 2.06-.94-2.06-.94L8.5 2.5l-.94 2.06-2.06.94zm10 10l.94 2.06.94-2.06 2.06-.94-2.06-.94-.94-2.06-.94 2.06-2.06.94z\"/><path d=\"M17.41 7.96l-1.37-1.37c-.4-.4-.92-.59-1.43-.59-.52 0-1.04.2-1.43.59L10.3 9.45l-7.72 7.72c-.78.78-.78 2.05 0 2.83L4 21.41c.39.39.9.59 1.41.59.51 0 1.02-.2 1.41-.59l7.78-7.78 2.81-2.81c.8-.78.8-2.07 0-2.86zM5.41 20L4 18.59l7.72-7.72 1.47 1.35L5.41 20z\"/>\n",
              "  </svg>\n",
              "      </button>\n",
              "      \n",
              "  <style>\n",
              "    .colab-df-container {\n",
              "      display:flex;\n",
              "      flex-wrap:wrap;\n",
              "      gap: 12px;\n",
              "    }\n",
              "\n",
              "    .colab-df-convert {\n",
              "      background-color: #E8F0FE;\n",
              "      border: none;\n",
              "      border-radius: 50%;\n",
              "      cursor: pointer;\n",
              "      display: none;\n",
              "      fill: #1967D2;\n",
              "      height: 32px;\n",
              "      padding: 0 0 0 0;\n",
              "      width: 32px;\n",
              "    }\n",
              "\n",
              "    .colab-df-convert:hover {\n",
              "      background-color: #E2EBFA;\n",
              "      box-shadow: 0px 1px 2px rgba(60, 64, 67, 0.3), 0px 1px 3px 1px rgba(60, 64, 67, 0.15);\n",
              "      fill: #174EA6;\n",
              "    }\n",
              "\n",
              "    [theme=dark] .colab-df-convert {\n",
              "      background-color: #3B4455;\n",
              "      fill: #D2E3FC;\n",
              "    }\n",
              "\n",
              "    [theme=dark] .colab-df-convert:hover {\n",
              "      background-color: #434B5C;\n",
              "      box-shadow: 0px 1px 3px 1px rgba(0, 0, 0, 0.15);\n",
              "      filter: drop-shadow(0px 1px 2px rgba(0, 0, 0, 0.3));\n",
              "      fill: #FFFFFF;\n",
              "    }\n",
              "  </style>\n",
              "\n",
              "      <script>\n",
              "        const buttonEl =\n",
              "          document.querySelector('#df-43aa5326-d959-43c7-8d59-3455521a0033 button.colab-df-convert');\n",
              "        buttonEl.style.display =\n",
              "          google.colab.kernel.accessAllowed ? 'block' : 'none';\n",
              "\n",
              "        async function convertToInteractive(key) {\n",
              "          const element = document.querySelector('#df-43aa5326-d959-43c7-8d59-3455521a0033');\n",
              "          const dataTable =\n",
              "            await google.colab.kernel.invokeFunction('convertToInteractive',\n",
              "                                                     [key], {});\n",
              "          if (!dataTable) return;\n",
              "\n",
              "          const docLinkHtml = 'Like what you see? Visit the ' +\n",
              "            '<a target=\"_blank\" href=https://colab.research.google.com/notebooks/data_table.ipynb>data table notebook</a>'\n",
              "            + ' to learn more about interactive tables.';\n",
              "          element.innerHTML = '';\n",
              "          dataTable['output_type'] = 'display_data';\n",
              "          await google.colab.output.renderOutput(dataTable, element);\n",
              "          const docLink = document.createElement('div');\n",
              "          docLink.innerHTML = docLinkHtml;\n",
              "          element.appendChild(docLink);\n",
              "        }\n",
              "      </script>\n",
              "    </div>\n",
              "  </div>\n",
              "  "
            ]
          },
          "metadata": {},
          "execution_count": 794
        }
      ],
      "source": [
        "# Add the index for each year from 2015 through 2022\n",
        "\n",
        "# Convierte la columna \"date\" del dataframe \"avocado\" en formato de fecha y hora utilizando la función \"to_datetime\" de la librería Pandas.\n",
        "avocado['date'] = pd.to_datetime(avocado['date'])\n",
        "# Extrae el año de la fecha en la columna \"date\" del dataframe \"avocado\" y lo guarda en una nueva columna llamada \"year\".\n",
        "avocado['year'] = pd.DatetimeIndex(avocado['date']).year\n",
        "# Crea una nueva columna llamada \"year_index\" en el dataframe \"avocado\" que indica el índice del año (de 0 a 7) a partir de 2015. \n",
        "# Por ejemplo, el año 2015 se asigna un índice de 0, el año 2016 se asigna un índice de 1, y así sucesivamente.\n",
        "avocado['year_index'] = avocado['year'] - 2015\n",
        "# Ordena el dataframe \"avocado\" por fecha en orden ascendente.\n",
        "avocado = avocado.sort_values(by='date')\n",
        "\n",
        "# Define the peak season\n",
        "\n",
        "# crea una nueva columna llamada \"month\" en el conjunto de datos \"avocado\", que contiene el mes correspondiente a cada registro \n",
        "# de fecha en la columna \"date\".\n",
        "avocado['month'] = pd.DatetimeIndex(avocado['date']).month\n",
        "# crea un rango de números que corresponde a los meses considerados como temporada alta de aguacates. En este caso, los meses son febrero (2) a julio (7).\n",
        "peak_months = range(2,8)        # <--------- Set the months for the \"peak season\"\n",
        "# define una función llamada \"peak_season\" que toma una fila del conjunto de datos \"avocado\" como entrada.\n",
        "def peak_season(row):\n",
        "  # la función \"peak_season\" devuelve 1 si el mes correspondiente a la fila de entrada se encuentra dentro del rango\n",
        "  # de meses de temporada alta de aguacates, de lo contrario devuelve 0.\n",
        "    return 1 if int(row['month']) in peak_months else 0  \n",
        "# crea una nueva columna llamada \"peak\" en el conjunto de datos \"avocado\" que contiene el valor de la función \"peak_season\" \n",
        "# para cada fila del conjunto de datos \"avocado\". Se utiliza la función \"apply\" para aplicar la función \"peak_season\" a cada fila del conjunto \n",
        "# de datos \"avocado\", y el argumento \"axis=1\" indica que se debe aplicar la función a cada fila (en contraposición a aplicarla a cada columna).\n",
        "avocado['peak'] = avocado.apply(lambda row: peak_season(row), axis=1)\n",
        "\n",
        "# Scale the number of avocados to millions\n",
        "# convierte la columna \"units_sold\" del dataframe \"avocado\" de unidades a millones.\n",
        "avocado['units_sold'] = avocado['units_sold']/1000000\n",
        "\n",
        "# Select only conventional avocados\n",
        "# selecciona solamente las filas en el dataframe \"avocado\" donde el tipo de aguacate es \"Conventional\".\n",
        "avocado = avocado[avocado['type'] == 'Conventional'] \n",
        "\n",
        "# selecciona solamente las columnas relevantes para el análisis y reinicia el índice del dataframe \"avocado\" para que comience desde 0.\n",
        "avocado = avocado[['date','units_sold','price','region','year','month','year_index','peak']].reset_index(drop = True)\n",
        "\n",
        "avocado"
      ]
    },
    {
      "cell_type": "markdown",
      "id": "65bb1d21",
      "metadata": {
        "id": "65bb1d21"
      },
      "source": [
        "## Part 1: Observe Trends in the Data\n",
        "\n",
        "Now, we will infer sales trends in time and seasonality. For simplicity, let's proceed with data from the United States as a whole."
      ]
    },
    {
      "cell_type": "code",
      "execution_count": 795,
      "id": "ab0c4402",
      "metadata": {
        "id": "ab0c4402",
        "colab": {
          "base_uri": "https://localhost:8080/",
          "height": 419
        },
        "outputId": "30db9f55-f246-41e6-fc9a-557ef06a2422"
      },
      "outputs": [
        {
          "output_type": "execute_result",
          "data": {
            "text/plain": [
              "           date  units_sold     price    region  year  month  year_index  peak\n",
              "5    2015-01-04   31.324278  0.950000  Total_US  2015      1           0     0\n",
              "14   2015-01-11   29.063543  1.010000  Total_US  2015      1           0     0\n",
              "21   2015-01-18   29.043459  1.030000  Total_US  2015      1           0     0\n",
              "34   2015-01-25   28.470311  1.040000  Total_US  2015      1           0     0\n",
              "44   2015-02-01   44.655462  0.890000  Total_US  2015      2           0     1\n",
              "...         ...         ...       ...       ...   ...    ...         ...   ...\n",
              "3357 2022-04-17   35.333545  1.456068  Total_US  2022      4           7     1\n",
              "3374 2022-04-24   33.297205  1.471539  Total_US  2022      4           7     1\n",
              "3378 2022-05-01   41.009154  1.380105  Total_US  2022      5           7     1\n",
              "3392 2022-05-08   38.280200  1.438612  Total_US  2022      5           7     1\n",
              "3399 2022-05-15   32.745321  1.527357  Total_US  2022      5           7     1\n",
              "\n",
              "[378 rows x 8 columns]"
            ],
            "text/html": [
              "\n",
              "  <div id=\"df-0e463f4a-04ed-411f-bbd8-3c508b4373f7\">\n",
              "    <div class=\"colab-df-container\">\n",
              "      <div>\n",
              "<style scoped>\n",
              "    .dataframe tbody tr th:only-of-type {\n",
              "        vertical-align: middle;\n",
              "    }\n",
              "\n",
              "    .dataframe tbody tr th {\n",
              "        vertical-align: top;\n",
              "    }\n",
              "\n",
              "    .dataframe thead th {\n",
              "        text-align: right;\n",
              "    }\n",
              "</style>\n",
              "<table border=\"1\" class=\"dataframe\">\n",
              "  <thead>\n",
              "    <tr style=\"text-align: right;\">\n",
              "      <th></th>\n",
              "      <th>date</th>\n",
              "      <th>units_sold</th>\n",
              "      <th>price</th>\n",
              "      <th>region</th>\n",
              "      <th>year</th>\n",
              "      <th>month</th>\n",
              "      <th>year_index</th>\n",
              "      <th>peak</th>\n",
              "    </tr>\n",
              "  </thead>\n",
              "  <tbody>\n",
              "    <tr>\n",
              "      <th>5</th>\n",
              "      <td>2015-01-04</td>\n",
              "      <td>31.324278</td>\n",
              "      <td>0.950000</td>\n",
              "      <td>Total_US</td>\n",
              "      <td>2015</td>\n",
              "      <td>1</td>\n",
              "      <td>0</td>\n",
              "      <td>0</td>\n",
              "    </tr>\n",
              "    <tr>\n",
              "      <th>14</th>\n",
              "      <td>2015-01-11</td>\n",
              "      <td>29.063543</td>\n",
              "      <td>1.010000</td>\n",
              "      <td>Total_US</td>\n",
              "      <td>2015</td>\n",
              "      <td>1</td>\n",
              "      <td>0</td>\n",
              "      <td>0</td>\n",
              "    </tr>\n",
              "    <tr>\n",
              "      <th>21</th>\n",
              "      <td>2015-01-18</td>\n",
              "      <td>29.043459</td>\n",
              "      <td>1.030000</td>\n",
              "      <td>Total_US</td>\n",
              "      <td>2015</td>\n",
              "      <td>1</td>\n",
              "      <td>0</td>\n",
              "      <td>0</td>\n",
              "    </tr>\n",
              "    <tr>\n",
              "      <th>34</th>\n",
              "      <td>2015-01-25</td>\n",
              "      <td>28.470311</td>\n",
              "      <td>1.040000</td>\n",
              "      <td>Total_US</td>\n",
              "      <td>2015</td>\n",
              "      <td>1</td>\n",
              "      <td>0</td>\n",
              "      <td>0</td>\n",
              "    </tr>\n",
              "    <tr>\n",
              "      <th>44</th>\n",
              "      <td>2015-02-01</td>\n",
              "      <td>44.655462</td>\n",
              "      <td>0.890000</td>\n",
              "      <td>Total_US</td>\n",
              "      <td>2015</td>\n",
              "      <td>2</td>\n",
              "      <td>0</td>\n",
              "      <td>1</td>\n",
              "    </tr>\n",
              "    <tr>\n",
              "      <th>...</th>\n",
              "      <td>...</td>\n",
              "      <td>...</td>\n",
              "      <td>...</td>\n",
              "      <td>...</td>\n",
              "      <td>...</td>\n",
              "      <td>...</td>\n",
              "      <td>...</td>\n",
              "      <td>...</td>\n",
              "    </tr>\n",
              "    <tr>\n",
              "      <th>3357</th>\n",
              "      <td>2022-04-17</td>\n",
              "      <td>35.333545</td>\n",
              "      <td>1.456068</td>\n",
              "      <td>Total_US</td>\n",
              "      <td>2022</td>\n",
              "      <td>4</td>\n",
              "      <td>7</td>\n",
              "      <td>1</td>\n",
              "    </tr>\n",
              "    <tr>\n",
              "      <th>3374</th>\n",
              "      <td>2022-04-24</td>\n",
              "      <td>33.297205</td>\n",
              "      <td>1.471539</td>\n",
              "      <td>Total_US</td>\n",
              "      <td>2022</td>\n",
              "      <td>4</td>\n",
              "      <td>7</td>\n",
              "      <td>1</td>\n",
              "    </tr>\n",
              "    <tr>\n",
              "      <th>3378</th>\n",
              "      <td>2022-05-01</td>\n",
              "      <td>41.009154</td>\n",
              "      <td>1.380105</td>\n",
              "      <td>Total_US</td>\n",
              "      <td>2022</td>\n",
              "      <td>5</td>\n",
              "      <td>7</td>\n",
              "      <td>1</td>\n",
              "    </tr>\n",
              "    <tr>\n",
              "      <th>3392</th>\n",
              "      <td>2022-05-08</td>\n",
              "      <td>38.280200</td>\n",
              "      <td>1.438612</td>\n",
              "      <td>Total_US</td>\n",
              "      <td>2022</td>\n",
              "      <td>5</td>\n",
              "      <td>7</td>\n",
              "      <td>1</td>\n",
              "    </tr>\n",
              "    <tr>\n",
              "      <th>3399</th>\n",
              "      <td>2022-05-15</td>\n",
              "      <td>32.745321</td>\n",
              "      <td>1.527357</td>\n",
              "      <td>Total_US</td>\n",
              "      <td>2022</td>\n",
              "      <td>5</td>\n",
              "      <td>7</td>\n",
              "      <td>1</td>\n",
              "    </tr>\n",
              "  </tbody>\n",
              "</table>\n",
              "<p>378 rows × 8 columns</p>\n",
              "</div>\n",
              "      <button class=\"colab-df-convert\" onclick=\"convertToInteractive('df-0e463f4a-04ed-411f-bbd8-3c508b4373f7')\"\n",
              "              title=\"Convert this dataframe to an interactive table.\"\n",
              "              style=\"display:none;\">\n",
              "        \n",
              "  <svg xmlns=\"http://www.w3.org/2000/svg\" height=\"24px\"viewBox=\"0 0 24 24\"\n",
              "       width=\"24px\">\n",
              "    <path d=\"M0 0h24v24H0V0z\" fill=\"none\"/>\n",
              "    <path d=\"M18.56 5.44l.94 2.06.94-2.06 2.06-.94-2.06-.94-.94-2.06-.94 2.06-2.06.94zm-11 1L8.5 8.5l.94-2.06 2.06-.94-2.06-.94L8.5 2.5l-.94 2.06-2.06.94zm10 10l.94 2.06.94-2.06 2.06-.94-2.06-.94-.94-2.06-.94 2.06-2.06.94z\"/><path d=\"M17.41 7.96l-1.37-1.37c-.4-.4-.92-.59-1.43-.59-.52 0-1.04.2-1.43.59L10.3 9.45l-7.72 7.72c-.78.78-.78 2.05 0 2.83L4 21.41c.39.39.9.59 1.41.59.51 0 1.02-.2 1.41-.59l7.78-7.78 2.81-2.81c.8-.78.8-2.07 0-2.86zM5.41 20L4 18.59l7.72-7.72 1.47 1.35L5.41 20z\"/>\n",
              "  </svg>\n",
              "      </button>\n",
              "      \n",
              "  <style>\n",
              "    .colab-df-container {\n",
              "      display:flex;\n",
              "      flex-wrap:wrap;\n",
              "      gap: 12px;\n",
              "    }\n",
              "\n",
              "    .colab-df-convert {\n",
              "      background-color: #E8F0FE;\n",
              "      border: none;\n",
              "      border-radius: 50%;\n",
              "      cursor: pointer;\n",
              "      display: none;\n",
              "      fill: #1967D2;\n",
              "      height: 32px;\n",
              "      padding: 0 0 0 0;\n",
              "      width: 32px;\n",
              "    }\n",
              "\n",
              "    .colab-df-convert:hover {\n",
              "      background-color: #E2EBFA;\n",
              "      box-shadow: 0px 1px 2px rgba(60, 64, 67, 0.3), 0px 1px 3px 1px rgba(60, 64, 67, 0.15);\n",
              "      fill: #174EA6;\n",
              "    }\n",
              "\n",
              "    [theme=dark] .colab-df-convert {\n",
              "      background-color: #3B4455;\n",
              "      fill: #D2E3FC;\n",
              "    }\n",
              "\n",
              "    [theme=dark] .colab-df-convert:hover {\n",
              "      background-color: #434B5C;\n",
              "      box-shadow: 0px 1px 3px 1px rgba(0, 0, 0, 0.15);\n",
              "      filter: drop-shadow(0px 1px 2px rgba(0, 0, 0, 0.3));\n",
              "      fill: #FFFFFF;\n",
              "    }\n",
              "  </style>\n",
              "\n",
              "      <script>\n",
              "        const buttonEl =\n",
              "          document.querySelector('#df-0e463f4a-04ed-411f-bbd8-3c508b4373f7 button.colab-df-convert');\n",
              "        buttonEl.style.display =\n",
              "          google.colab.kernel.accessAllowed ? 'block' : 'none';\n",
              "\n",
              "        async function convertToInteractive(key) {\n",
              "          const element = document.querySelector('#df-0e463f4a-04ed-411f-bbd8-3c508b4373f7');\n",
              "          const dataTable =\n",
              "            await google.colab.kernel.invokeFunction('convertToInteractive',\n",
              "                                                     [key], {});\n",
              "          if (!dataTable) return;\n",
              "\n",
              "          const docLinkHtml = 'Like what you see? Visit the ' +\n",
              "            '<a target=\"_blank\" href=https://colab.research.google.com/notebooks/data_table.ipynb>data table notebook</a>'\n",
              "            + ' to learn more about interactive tables.';\n",
              "          element.innerHTML = '';\n",
              "          dataTable['output_type'] = 'display_data';\n",
              "          await google.colab.output.renderOutput(dataTable, element);\n",
              "          const docLink = document.createElement('div');\n",
              "          docLink.innerHTML = docLinkHtml;\n",
              "          element.appendChild(docLink);\n",
              "        }\n",
              "      </script>\n",
              "    </div>\n",
              "  </div>\n",
              "  "
            ]
          },
          "metadata": {},
          "execution_count": 795
        }
      ],
      "source": [
        "# crea un nuevo dataframe llamado df_Total_US que contiene sólo los datos de las ventas de aguacates en la región de los Estados Unidos.\n",
        "df_Total_US = avocado[avocado['region']=='Total_US']\n",
        "\n",
        "df_Total_US "
      ]
    },
    {
      "cell_type": "markdown",
      "id": "7903d4b5",
      "metadata": {
        "id": "7903d4b5"
      },
      "source": [
        "### Sales Over the Years"
      ]
    },
    {
      "cell_type": "code",
      "execution_count": 796,
      "id": "2ec7e699",
      "metadata": {
        "id": "2ec7e699",
        "outputId": "322a8837-b16f-48e0-901f-36225d23e9bc",
        "colab": {
          "base_uri": "https://localhost:8080/",
          "height": 507
        }
      },
      "outputs": [
        {
          "output_type": "display_data",
          "data": {
            "text/plain": [
              "<Figure size 1000x500 with 1 Axes>"
            ],
            "image/png": "[encoded data removed]"
          },
          "metadata": {}
        }
      ],
      "source": [
        "# crea una figura y un eje para mostrar el gráfico con una sola fila y columna, con un tamaño de 10 por 5 pulgadas.\n",
        "fig, axes = plt.subplots(nrows=1, ncols=1, figsize=(10, 5)) \n",
        "\n",
        "# agrupa los datos de df_Total_US por año y calcula la media de las unidades vendidas para cada año, almacenándolas en una variable llamada mean.\n",
        "mean = df_Total_US.groupby('year')['units_sold'].mean()\n",
        "# agrupa los datos de df_Total_US por año y calcula la desviación estándar de las unidades vendidas para cada año, almacenándolas en \n",
        "# una variable llamada std.\n",
        "std  = df_Total_US.groupby('year')['units_sold'].std()\n",
        "# traza un gráfico de error en el eje axes utilizando los valores medios de ventas por año (mean), especificando el índice de cada año \n",
        "# como la posición en el eje X (mean.index), y la desviación estándar (std) como el tamaño de los errores. El parámetro xerr=0.5 \n",
        "# establece la longitud de los errores horizontales en 0.5, y yerr=2*std establece la longitud de los errores verticales como el \n",
        "# doble de la desviación estándar. El parámetro linestyle='' elimina la línea entre los puntos de datos.\n",
        "axes.errorbar(mean.index, mean, xerr=0.5, yerr=2*std, linestyle='') \n",
        "# establece la etiqueta del eje Y como \"Unidades vendidas (millones)\".\n",
        "axes.set_ylabel('Units Sold (millions)')\n",
        "# establece la etiqueta del eje X como \"Año\".\n",
        "axes.set_xlabel('Year') \n",
        "\n",
        "# ajusta el tamaño de la figura para que todos los elementos queden dentro del área de trazado. \n",
        "fig.tight_layout()"
      ]
    },
    {
      "cell_type": "markdown",
      "id": "e37ba680",
      "metadata": {
        "id": "e37ba680"
      },
      "source": [
        "We can see that the sales generally increased over the years, albeit marginally. The dip in 2019 is the effect of the well-documented [2019 avocado shortage](https://abc7news.com/avocado-shortage-season-prices/5389855/) that led to avocados [nearly doubling in price.](https://abc7news.com/avocado-shortage-season-prices/5389855/)"
      ]
    },
    {
      "cell_type": "markdown",
      "id": "30abfba6",
      "metadata": {
        "id": "30abfba6"
      },
      "source": [
        "### Seasonality\n",
        "\n",
        "We will now see the sales trends within a year."
      ]
    },
    {
      "cell_type": "code",
      "execution_count": 797,
      "id": "4a594510",
      "metadata": {
        "id": "4a594510",
        "outputId": "38612125-062e-44e3-8a83-c1cff96ecce4",
        "colab": {
          "base_uri": "https://localhost:8080/",
          "height": 506
        }
      },
      "outputs": [
        {
          "output_type": "display_data",
          "data": {
            "text/plain": [
              "<Figure size 1000x500 with 1 Axes>"
            ],
            "image/png": "[encoded data removed]"
          },
          "metadata": {}
        }
      ],
      "source": [
        "# crea una figura y un conjunto de ejes utilizando la función subplots() de Matplotlib. Se le asigna a fig el objeto de \n",
        "# la figura y a axes el objeto del conjunto de ejes. El argumento nrows=1 especifica que la figura tendrá una sola fila de ejes, \n",
        "# mientras que ncols=1 especifica que la figura tendrá una sola columna de ejes. El argumento figsize=(10,5) especifica el tamaño de la figura en pulgadas.\n",
        "fig, axes = plt.subplots(nrows=1, ncols=1, figsize=(10, 5)) \n",
        "\n",
        "# calcula la media de las unidades vendidas agrupadas por mes en el DataFrame df_Total_US. El resultado se almacena en la variable mean.\n",
        "mean = df_Total_US.groupby('month')['units_sold'].mean()\n",
        "# calcula la desviación estándar de las unidades vendidas agrupadas por mes en el DataFrame df_Total_US. El resultado se almacena en la variable std.\n",
        "std  = df_Total_US.groupby('month')['units_sold'].std()\n",
        "\n",
        "# crea un gráfico de barras con barras de error utilizando la función errorbar() de Matplotlib en los ejes axes. El argumento \n",
        "# mean.index especifica la ubicación en el eje x de cada barra, mean especifica la altura de cada barra, xerr=0.5 especifica la longitud \n",
        "# de las barras de error horizontales (en este caso, todas las barras de error tienen la misma longitud de 0.5), yerr=2*std especifica \n",
        "# la longitud de las barras de error verticales (en este caso, las barras de error son dos veces la desviación estándar), y linestyle='' \n",
        "# especifica que no se dibuje una línea de conexión entre la barra y la barra de error.\n",
        "axes.errorbar(mean.index, mean, xerr=0.5, yerr=2*std, linestyle='')\n",
        "# establece la etiqueta del eje y como \"Unidades vendidas (millones)\". \n",
        "axes.set_ylabel('Units Sold (millions)')\n",
        "# establece la etiqueta del eje x como \"Mes\".\n",
        "axes.set_xlabel('Month') \n",
        "\n",
        "# ajusta automáticamente el diseño de la figura para que no haya superposición entre los elementos. \n",
        "fig.tight_layout()\n",
        "\n",
        "# establece la etiqueta del eje x como \"Mes\".\n",
        "plt.xlabel('Month')\n",
        "#  establece las marcas del eje x en los valores de 1 a 12.\n",
        "axes.set_xticks(range(1,13)) \n",
        "# establece la etiqueta del eje y como \"Unidades vendidas (millones)\".\n",
        "plt.ylabel('Units sold (millions)')\n",
        "# muestra la figura.\n",
        "plt.show()"
      ]
    },
    {
      "cell_type": "markdown",
      "id": "c87738d0",
      "metadata": {
        "id": "c87738d0"
      },
      "source": [
        "We see a Super Bowl peak in February and a Cinco de Mayo peak in May. "
      ]
    },
    {
      "cell_type": "markdown",
      "id": "2e04cef1",
      "metadata": {
        "id": "2e04cef1"
      },
      "source": [
        "### Correlations\n",
        "\n",
        "Now, we will see how the variables are correlated with each other.\n",
        "The end goal is to predict sales given the price of an avocado, year and seasonality (peak or not)."
      ]
    },
    {
      "cell_type": "code",
      "execution_count": 798,
      "id": "25729f7d",
      "metadata": {
        "id": "25729f7d",
        "outputId": "2aa0cfab-e4e7-4890-d9c4-891e6d0329b6",
        "colab": {
          "base_uri": "https://localhost:8080/",
          "height": 468
        }
      },
      "outputs": [
        {
          "output_type": "display_data",
          "data": {
            "text/plain": [
              "<Figure size 1500x500 with 2 Axes>"
            ],
            "image/png": "[encoded data removed]"
          },
          "metadata": {}
        }
      ],
      "source": [
        "# crea una figura y un conjunto de ejes utilizando la función subplots() de Matplotlib. Se le asigna a fig el objeto de la figura\n",
        "# y a axes el objeto del conjunto de ejes. El argumento nrows=1 especifica que la figura tendrá una sola fila de ejes, mientras \n",
        "# que ncols=1 especifica que la figura tendrá una sola columna de ejes. El argumento figsize=(15,5) especifica el tamaño de la figura en pulgadas.\n",
        "fig, axes = plt.subplots(nrows=1, ncols=1, figsize=(15, 5)) \n",
        "# crea un mapa de calor utilizando la función heatmap() de Seaborn. Se utiliza el DataFrame df_Total_US y se seleccionan \n",
        "# las columnas 'units_sold', 'price', 'year' y 'peak'. El método corr() calcula la correlación entre estas columnas \n",
        "# y el resultado se visualiza en el mapa de calor. El argumento annot=True muestra los valores de correlación en el mapa de calor. \n",
        "# El argumento center=0 establece el valor central del mapa de calor en 0. El argumento ax=axes indica que el mapa de calor \n",
        "# se debe dibujar en los ejes axes creados anteriormente.\n",
        "sns.heatmap(df_Total_US[['units_sold', 'price', 'year', 'peak']].corr(),annot=True, center=0,ax=axes) \n",
        "\n",
        "# establece el título de los ejes como \"Correlaciones para aguacates convencionales\".\n",
        "axes.set_title('Correlations for conventional avocados') \n",
        "# muestra la figura.\n",
        "plt.show()"
      ]
    },
    {
      "cell_type": "markdown",
      "id": "fe48eecb",
      "metadata": {
        "id": "fe48eecb"
      },
      "source": [
        "As expected, the sales quantity has a negative correlation with the price per avocado. The sales quantity has a positive correlation with the year and season being a peak season."
      ]
    },
    {
      "cell_type": "markdown",
      "id": "27356cce",
      "metadata": {
        "id": "27356cce"
      },
      "source": [
        "### Regions\n",
        "\n",
        "Finally, we will see how the sales differ among the different regions. This will determine the number of avocados that we want to supply to each region."
      ]
    },
    {
      "cell_type": "code",
      "execution_count": 799,
      "id": "081b3f31",
      "metadata": {
        "id": "081b3f31",
        "outputId": "bcdf0e42-7db1-473d-9775-65c671a2e260",
        "colab": {
          "base_uri": "https://localhost:8080/",
          "height": 581
        }
      },
      "outputs": [
        {
          "output_type": "display_data",
          "data": {
            "text/plain": [
              "<Figure size 1000x500 with 1 Axes>"
            ],
            "image/png": "[encoded data removed]"
          },
          "metadata": {}
        }
      ],
      "source": [
        "# esta línea crea un objeto de figura fig y un objeto de ejes axes para un gráfico con una sola fila y \n",
        "# una sola columna de subgráficos, y establece el tamaño de la figura en (10, 5).\n",
        "fig, axes = plt.subplots(nrows=1, ncols=1, figsize=(10, 5)) \n",
        "\n",
        "#  esta línea define una lista de las regiones para las que queremos ver los datos.\n",
        "regions = ['Great_Lakes','Midsouth','Northeast','Northern_New_England','SouthCentral','Southeast','West','Plains']\n",
        "# esta línea crea un nuevo dataframe df que contiene solo las filas que pertenecen a las regiones definidas en la lista regions. \n",
        "df = avocado[avocado.region.isin(regions)]  \n",
        "\n",
        "# esta línea agrupa el dataframe df por región y calcula la media del número de unidades vendidas para cada región.\n",
        "mean = df.groupby('region')['units_sold'].mean()\n",
        "# esta línea hace lo mismo que la anterior pero calcula la desviación estándar en lugar de la media.\n",
        "std  = df.groupby('region')['units_sold'].std() \n",
        "\n",
        "\n",
        "# esta línea traza un gráfico de barras con barras de error para cada región, utilizando los valores de mean y std para el número de unidades vendidas. \n",
        "# range(len(mean)) se utiliza para establecer las posiciones de las barras en el gráfico.\n",
        "axes.errorbar(range(len(mean)), mean, xerr=0.5, yerr=2*std, linestyle='')  \n",
        "\n",
        "# esta línea ajusta automáticamente el espaciado del gráfico para que no haya superposición entre los subgráficos y los bordes de la figura.\n",
        "fig.tight_layout()\n",
        "\n",
        "# esta línea establece una etiqueta para el eje x del gráfico. \n",
        "plt.xlabel('Region') \n",
        "# esta línea establece las etiquetas de las regiones en el eje x del gráfico, utilizando los nombres de las regiones en la lista regions.\n",
        "plt.xticks(range(len(mean)), pd.DataFrame(mean)['units_sold'].index,rotation=20)\n",
        "# esta línea establece una etiqueta para el eje y del gráfico.\n",
        "plt.ylabel('Units sold (millions)')\n",
        "# esta línea muestra el gráfico en la pantalla.\n",
        "plt.show()"
      ]
    },
    {
      "cell_type": "markdown",
      "id": "1d1a2716",
      "metadata": {
        "id": "1d1a2716"
      },
      "source": [
        "Clearly, west-coasters love avocados."
      ]
    },
    {
      "cell_type": "markdown",
      "id": "b20e125e",
      "metadata": {
        "id": "b20e125e"
      },
      "source": [
        "## Part II: Predict the Sales\n",
        "\n",
        "The trends observed in Part I motivate us to construct a prediction model for sales using the independent variables- price, year, region and seasonality.\n",
        "Henceforth, the sales quantity will be referred to as the *predicted demand*.\n",
        "\n",
        "Let us now construct a linear regressor for the demand.\n",
        "Note that the region is a categorical variable.\n",
        "The linear regressor can be mathematically expressed as:\n",
        "\n",
        "$$demand = \\beta_0 + \\beta_1 * price + \\sum\\limits_{region} \\beta^{region}_3 * \\mathbb{1}(region)  +  \\beta_4 w_{year}*year +  \\beta_5  * \\mathbb{1}(peak).$$\n",
        "\n",
        "Here, the $\\beta$ values are weights (or \"co-efficients\") that have to be learned from the data. \n",
        "Note that the notation $\\mathbb{1}(region)$ is an indicator function that takes the value $1$ for each region in the summation. The value of $\\mathbb{1}(peak)$ is $1$ if we consider the peak season.\n",
        "\n",
        "To validate the regression model, we will randomly split the dataset into $80\\%$ training and $20\\%$ testing data and learn the weights using sklearns. "
      ]
    },
    {
      "cell_type": "code",
      "execution_count": 800,
      "id": "55a07590",
      "metadata": {
        "id": "55a07590",
        "outputId": "74419556-ddad-4746-c829-c332bf654b3c",
        "colab": {
          "base_uri": "https://localhost:8080/"
        }
      },
      "outputs": [
        {
          "output_type": "stream",
          "name": "stdout",
          "text": [
            "                            OLS Regression Results                            \n",
            "==============================================================================\n",
            "Dep. Variable:             log_demand   R-squared:                       0.973\n",
            "Model:                            OLS   Adj. R-squared:                  0.973\n",
            "Method:                 Least Squares   F-statistic:                     8661.\n",
            "Date:                Wed, 19 Apr 2023   Prob (F-statistic):               0.00\n",
            "Time:                        01:22:49   Log-Likelihood:                 1372.4\n",
            "No. Observations:                2419   AIC:                            -2723.\n",
            "Df Residuals:                    2408   BIC:                            -2659.\n",
            "Df Model:                          10                                         \n",
            "Covariance Type:            nonrobust                                         \n",
            "=====================================================================================================\n",
            "                                        coef    std err          t      P>|t|      [0.025      0.975]\n",
            "-----------------------------------------------------------------------------------------------------\n",
            "Intercept                             1.1538      0.010    119.991      0.000       1.135       1.173\n",
            "C(region)[T.Midsouth]                -0.0603      0.011     -5.427      0.000      -0.082      -0.038\n",
            "C(region)[T.Northeast]                0.3548      0.012     30.800      0.000       0.332       0.377\n",
            "C(region)[T.Northern_New_England]    -2.0313      0.011   -180.522      0.000      -2.053      -2.009\n",
            "C(region)[T.Plains]                  -0.6641      0.011    -59.482      0.000      -0.686      -0.642\n",
            "C(region)[T.SouthCentral]             0.2959      0.012     23.934      0.000       0.272       0.320\n",
            "C(region)[T.Southeast]                0.1321      0.011     11.869      0.000       0.110       0.154\n",
            "C(region)[T.West]                     0.5080      0.011     44.591      0.000       0.486       0.530\n",
            "log_price                            -0.7279      0.018    -39.579      0.000      -0.764      -0.692\n",
            "year_index                            0.0465      0.001     35.597      0.000       0.044       0.049\n",
            "peak                                  0.1471      0.006     26.238      0.000       0.136       0.158\n",
            "==============================================================================\n",
            "Omnibus:                       19.283   Durbin-Watson:                   1.962\n",
            "Prob(Omnibus):                  0.000   Jarque-Bera (JB):               27.236\n",
            "Skew:                          -0.074   Prob(JB):                     1.22e-06\n",
            "Kurtosis:                       3.499   Cond. No.                         34.0\n",
            "==============================================================================\n",
            "\n",
            "Notes:\n",
            "[1] Standard Errors assume that the covariance matrix of the errors is correctly specified.\n",
            "El R^2 del modelo en los datos de prueba es: 0.9715354787611009\n"
          ]
        },
        {
          "output_type": "stream",
          "name": "stderr",
          "text": [
            "<ipython-input-800-b616f2fc890a>:8: SettingWithCopyWarning: \n",
            "A value is trying to be set on a copy of a slice from a DataFrame.\n",
            "Try using .loc[row_indexer,col_indexer] = value instead\n",
            "\n",
            "See the caveats in the documentation: https://pandas.pydata.org/pandas-docs/stable/user_guide/indexing.html#returning-a-view-versus-a-copy\n",
            "  df['log_demand'] = np.log(df['units_sold'])\n",
            "<ipython-input-800-b616f2fc890a>:9: SettingWithCopyWarning: \n",
            "A value is trying to be set on a copy of a slice from a DataFrame.\n",
            "Try using .loc[row_indexer,col_indexer] = value instead\n",
            "\n",
            "See the caveats in the documentation: https://pandas.pydata.org/pandas-docs/stable/user_guide/indexing.html#returning-a-view-versus-a-copy\n",
            "  df['log_price'] = np.log(df['price'])\n"
          ]
        }
      ],
      "source": [
        "# Importar las librerías necesarias\n",
        "import statsmodels.api as sm # Para ajustar el modelo de regresión lineal\n",
        "import statsmodels.formula.api as smf # Para especificar la fórmula del modelo\n",
        "from sklearn.model_selection import train_test_split # Para dividir los datos en conjuntos de entrenamiento y prueba\n",
        "from sklearn.metrics import r2_score # Para calcular el coeficiente de determinación (R^2) del modelo\n",
        "\n",
        "#np.log()para transformar variables\n",
        "df['log_demand'] = np.log(df['units_sold'])\n",
        "df['log_price'] = np.log(df['price'])\n",
        "\n",
        "# Dividir los datos en conjuntos de entrenamiento y prueba\n",
        "train, test = train_test_split(df, train_size=0.8, random_state=1)\n",
        "\n",
        "# Crear dataframes de pandas para los datos de entrenamiento y prueba\n",
        "df_train = pd.DataFrame(train, columns=df.columns)\n",
        "df_test = pd.DataFrame(test, columns=df.columns)\n",
        "\n",
        "# Especificar la fórmula del modelo de regresión lineal\n",
        "formula = 'log_demand ~ log_price + year_index + C(region)+ peak'\n",
        "\n",
        "# Ajustar el modelo utilizando los datos de entrenamiento\n",
        "mod = smf.ols(formula, data=df_train) # Crear el modelo utilizando la fórmula y los datos de entrenamiento\n",
        "result = mod.fit() # Ajustar el modelo utilizando los datos de entrenamiento\n",
        "\n",
        "# Imprimir un resumen de los resultados del modelo\n",
        "print(result.summary()) # Imprimir un resumen de los resultados del modelo ajustado \n",
        "\n",
        "# Calcular el R^2 del modelo en los datos de prueba\n",
        "y_true = df_test['log_demand'] # Guardar los valores reales de la variable dependiente en los datos de prueba\n",
        "y_pred = result.predict(df_test) # Predecir los valores de la variable dependiente utilizando el modelo ajustado y los datos de prueba\n",
        "r2 = r2_score(y_true, y_pred) # Calcular el R^2 utilizando los valores reales y predichos de la variable dependiente\n",
        "\n",
        "# Imprimir el R^2 del modelo en los datos de prueba\n",
        "print('El R^2 del modelo en los datos de prueba es:', r2)\n"
      ]
    },
    {
      "cell_type": "code",
      "execution_count": 801,
      "id": "506c8804",
      "metadata": {
        "id": "506c8804",
        "outputId": "0d4017bb-2013-4c1f-d8c2-ecb4fef841d9",
        "colab": {
          "base_uri": "https://localhost:8080/"
        }
      },
      "outputs": [
        {
          "output_type": "stream",
          "name": "stdout",
          "text": [
            "El coeficiente de determinación (R^2) del modelo en todos los datos es: 0.9726792445723748\n"
          ]
        }
      ],
      "source": [
        "# Especificar la fórmula del modelo de regresión lineal\n",
        "formula = 'log_demand ~ log_price + year_index + C(region)+ peak'\n",
        "\n",
        "# Ajustar el modelo utilizando todos los datos\n",
        "mod_full = smf.ols(formula, data=df)\n",
        "result_full = mod_full.fit()\n",
        "\n",
        "# Predecir los valores de la variable dependiente utilizando el modelo ajustado y todos los datos\n",
        "y_true_full = df['log_demand'] # Guardar los valores reales de la variable dependiente en todos los datos\n",
        "y_pred_full = result_full.predict(df) # Predecir los valores de la variable dependiente utilizando el modelo ajustado y todos los datos\n",
        "\n",
        "# Imprimir el R^2 del modelo en todos los datos\n",
        "r2_full = r2_score(y_true_full, y_pred_full) # Calcular el R^2 utilizando los valores reales y predichos de la variable dependiente en todos los datos\n",
        "print(\"El coeficiente de determinación (R^2) del modelo en todos los datos es:\", r2_full)\n",
        "\n",
        "# Obtener los coeficientes del modelo y almacenarlos en un diccionario\n",
        "coef_dict = result_full.params.to_dict()\n",
        "# Establecer el coeficiente de la región Great_Lakes en cero\n",
        "coef_dict['C(region)[T.Great_Lakes]'] = 0\n"
      ]
    },
    {
      "cell_type": "markdown",
      "id": "7cbe1cd5",
      "metadata": {
        "id": "7cbe1cd5"
      },
      "source": [
        "## Part III: Optimize for Price and Supply of Avocados"
      ]
    },
    {
      "cell_type": "markdown",
      "id": "214906e5",
      "metadata": {
        "id": "214906e5"
      },
      "source": [
        "Knowing how the price of an avocado affects the demand, how can we set the optimal avocado price? \n",
        "We don't want to set the price too high, since that could drive demand and sales down. At the same time, setting the price too low could be sub-optimal when maximizing revenue. So what is the sweet spot? \n",
        "\n",
        "On the distribution logistics, we want to make sure that there are enough avocados across the regions. We can address these considerations in a mathematical optimization model.\n",
        "An optimization model finds the **best solution** according to an **objective function** such that the solution satisfies a set of **constraints**. \n",
        "Here, a solution is expressed as a vector of real values or integer values called **decision variables**.\n",
        "Constraints are a set of equations or inequalities written as a function of the decision variables.\n",
        "\n",
        "At the start of each week, assume that the total number of available products is finite. This quantity needs to be distributed to the various regions while maximizing net revenue. So there are two key decisions - the price of an avocado in each region, and the number of avocados allocated to each region. \n",
        "\n",
        "Let us now define some input parameters and notations used for creating the model. The subscript $r$ will be used to denote each region.\n",
        "\n",
        "### Input Parameters\n",
        "- $R$: set of regions,\n",
        "- $d(p,r)$: predicted demand in region $r\\in R$ when the avocado per product is $p$, \n",
        "- $B$: available avocados to be distributed across the regions, \n",
        "- $c_{waste}$: cost ($\\$$) per wasted avocado,\n",
        "- $c^r_{transport}$: cost ($\\$$) of transporting a avocado to region $r \\in R$,\n",
        "- $a^r_{min},a^r_{max}$: minimum and maximum price ($\\$$) per avocado for reigon $r \\in R$,\n",
        "- $b^r_{min},b^r_{max}$: minimum and maximum number of avocados allocated to region $r \\in R$,\n",
        "\n",
        "The following code loads the Gurobi python package and initiates the optimization model. \n",
        "The value of $B$ is set to $30$ million avocados, which is close to the average weekly supply value from the data.\n",
        "For illustration, let us consider the peak season of 2021.\n",
        "The cost of wasting an avocado is set to $\\$0.10$.\n",
        "The cost of transporting an avocado ranges between $\\$0.10$ to $\\$0.50$ based on each region's distance from the southern border, where the [majority of avocado supply comes from](https://www.britannica.com/plant/avocado).\n",
        "Further, we can set the price of an avocado to not exceed $\\$ 2$ apiece. "
      ]
    },
    {
      "cell_type": "code",
      "execution_count": 802,
      "id": "29328983",
      "metadata": {
        "id": "29328983"
      },
      "outputs": [],
      "source": [
        "import gurobipy as gp \n",
        "from gurobipy import GRB\n",
        "\n",
        "# Crear un modelo llamado \"Avocado_Price_Allocation\"\n",
        "m = gp.Model(\"Avocado_Price_Allocation\")\n",
        "\n",
        "# Definir los sets y parámetros\n",
        "R = regions   # set de todas las regiones\n",
        "B = 30  # cantidad total de aguacates disponibles\n",
        "peak_or_not = 1 # 1 si es temporada alta, 0 si no lo es\n",
        "year = 2022\n",
        "c_waste = 0.1 # costo ($) de desperdiciar un aguacate\n",
        "c_transport = {'Great_Lakes': .3,'Midsouth':.1,'Northeast':.4,'Northern_New_England':.5,'SouthCentral':.3,'Southeast':.2,'West':.2,'Plains':.2}\n",
        "# costo de transportar un aguacate por región\n",
        "\n",
        "# Obtener los límites inferior y superior de precio y número de productos a ser almacenados\n",
        "a_min = {r: 0 for r in R} # precio mínimo del aguacate en cada región \n",
        "a_max = {r: 2 for r in R} # precio máximo del aguacate en cada región \n",
        "b_min = dict(df.groupby('region')['units_sold'].min())  # número mínimo de aguacates a ser distribuidos en cada región\n",
        "b_max = dict(df.groupby('region')['units_sold'].max())   # número máximo de aguacates a ser distribuidos en cada región\n"
      ]
    },
    {
      "cell_type": "markdown",
      "id": "1fa17930",
      "metadata": {
        "id": "1fa17930"
      },
      "source": [
        "### Decision Variables\n",
        "\n",
        "Let us now define the decision variables.\n",
        "In our model, we want to store the price and number of avocados allocated to each region. We also want variables that track how many avocados are predicted to be sold and how many are predicted to be wasted. \n",
        "The following notation is used to model these decision variables, indexed for each region $r$.\n",
        "\n",
        "$p_r$: the price of an avocado ($\\$$) in region $r$,\n",
        "\n",
        "$x_r$: the number of products avocados supplied to region $r$,\n",
        "\n",
        "$s_r = \\min \\{x_r,d_r(p_r)\\}$: the predicted number of avocados sold in region $r$, \n",
        "\n",
        "$w_r = x_r - s_r$: the predicted number of avocados wasted in region $r$\n",
        "\n",
        "We will now add the variables to the Gurobi model."
      ]
    },
    {
      "cell_type": "code",
      "execution_count": 803,
      "id": "0bb7f0f8",
      "metadata": {
        "id": "0bb7f0f8"
      },
      "outputs": [],
      "source": [
        "# Crear variables de decisión para el precio en cada región \"p\", la cantidad suministrada en cada región \"x\",\n",
        "# la cantidad de aguacates vendidos en cada región \"s\" y el desperdicio en cada región \"w\"\n",
        "p = m.addVars(R,name=\"p\",lb=a_min, ub=a_max)   # price of avocados in each region\n",
        "x = m.addVars(R,name=\"x\",lb=b_min,ub=b_max)  # quantity supplied to each region\n",
        "s = m.addVars(R,name=\"s\",lb=0)   # predicted amount of sales in each region for the given price\n",
        "w = m.addVars(R,name=\"w\",lb=0)   # excess wasteage in each region"
      ]
    },
    {
      "cell_type": "markdown",
      "id": "389ffd60",
      "metadata": {
        "id": "389ffd60"
      },
      "source": [
        "Now, let's create an expression for the predicted demand in each region as a function of price. Note that apart from the price, none of the other parameters in this prediction function (such as region, year and seasonality) are decision variables, and hence can be treated as constants."
      ]
    },
    {
      "cell_type": "code",
      "source": [
        "m.Params.NonConvex = 2\n",
        "m.optimize()\n",
        "# Calcular la demanda utilizando el modelo ajustado y las variables transformadas\n",
        "d = {r: np.exp(coef_dict['Intercept'] + coef_dict['log_price']*np.log(p[r].X) + coef_dict['C(region)[T.%s]'%r] + coef_dict['year_index']*(year-2015) + coef_dict['peak']*peak_or_not) for r in R}\n",
        "\n",
        "for r in R:\n",
        "    print(d[r])"
      ],
      "metadata": {
        "colab": {
          "base_uri": "https://localhost:8080/"
        },
        "id": "V0LiI4Rddsev",
        "outputId": "77479fa8-be18-484b-bf38-6bdc9157858f"
      },
      "id": "V0LiI4Rddsev",
      "execution_count": 804,
      "outputs": [
        {
          "output_type": "stream",
          "name": "stdout",
          "text": [
            "Set parameter NonConvex to value 2\n",
            "Gurobi Optimizer version 10.0.1 build v10.0.1rc0 (linux64)\n",
            "\n",
            "CPU model: Intel(R) Xeon(R) CPU @ 2.20GHz, instruction set [SSE2|AVX|AVX2]\n",
            "Thread count: 1 physical cores, 2 logical processors, using up to 2 threads\n",
            "\n",
            "Optimize a model with 0 rows, 32 columns and 0 nonzeros\n",
            "Model fingerprint: 0x42a8e0ff\n",
            "Coefficient statistics:\n",
            "  Matrix range     [0e+00, 0e+00]\n",
            "  Objective range  [0e+00, 0e+00]\n",
            "  Bounds range     [2e-01, 1e+01]\n",
            "  RHS range        [0e+00, 0e+00]\n",
            "Presolve removed 0 rows and 32 columns\n",
            "Presolve time: 0.01s\n",
            "Presolve: All rows and columns removed\n",
            "Iteration    Objective       Primal Inf.    Dual Inf.      Time\n",
            "       0    0.0000000e+00   0.000000e+00   0.000000e+00      0s\n",
            "\n",
            "Solved in 0 iterations and 0.01 seconds (0.00 work units)\n",
            "Optimal objective  0.000000000e+00\n",
            "inf\n",
            "inf\n",
            "inf\n",
            "inf\n",
            "inf\n",
            "inf\n",
            "inf\n",
            "inf\n"
          ]
        },
        {
          "output_type": "stream",
          "name": "stderr",
          "text": [
            "<ipython-input-804-dac04d9a7c25>:4: RuntimeWarning: divide by zero encountered in log\n",
            "  d = {r: np.exp(coef_dict['Intercept'] + coef_dict['log_price']*np.log(p[r].X) + coef_dict['C(region)[T.%s]'%r] + coef_dict['year_index']*(year-2015) + coef_dict['peak']*peak_or_not) for r in R}\n"
          ]
        }
      ]
    },
    {
      "cell_type": "markdown",
      "id": "3d733d6f",
      "metadata": {
        "id": "3d733d6f"
      },
      "source": [
        "### Set the Objective\n",
        "\n",
        "Next, we will define the objective function: we want to maximizing the **net revenue**. The revenue from sales in each region is calculated by the price of an avocado in that region multiplied by the quantity sold there. There are two types of costs incurred: the wastage costs for excess unsold avocados and the cost of transporting the avocados to the different regions. \n",
        "\n",
        "The net revenue is the sales revenue subtracted by the total costs incurred. We assume that the purchase costs are fixed and are not incorporated in this model.\n",
        "\n",
        "Using the defined decision variables, the objective can be written as follows.\n",
        "\n",
        "\\begin{align}\n",
        "\\textrm{maximize} &  \\sum_{r}  (p_r * s_r - c_{waste} * w_r - c^r_{transport} * x_r)& \n",
        "\\end{align}\n",
        "\n",
        "Let us now add the objective function to the model."
      ]
    },
    {
      "cell_type": "code",
      "execution_count": 805,
      "id": "bb5e1218",
      "metadata": {
        "id": "bb5e1218"
      },
      "outputs": [],
      "source": [
        "m.setObjective(sum(p[r]*s[r] - c_waste*w[r] - c_transport[r]*x[r] for r in R)) \n",
        "m.ModelSense = GRB.MAXIMIZE"
      ]
    },
    {
      "cell_type": "markdown",
      "id": "93a8432c",
      "metadata": {
        "id": "93a8432c"
      },
      "source": [
        "### Add the Supply Constraint\n",
        "\n",
        "We now introduce the constraints. The first constraint is to make sure that the total number of avocados supplied is equal to $B$, which can be mathematically expressed as follows.\n",
        "\n",
        "\\begin{align*} \n",
        "\\sum_{r} x_r &= B\n",
        "\\end{align*}\n",
        "\n",
        "The following code adds this constraint to the model."
      ]
    },
    {
      "cell_type": "code",
      "execution_count": 806,
      "id": "84bd6017",
      "metadata": {
        "id": "84bd6017"
      },
      "outputs": [],
      "source": [
        "#agrega una restricción a la optimización matemática. En este caso, asegura que la suma de los productos suministrados\n",
        "# a cada región sea igual a la cantidad total de aguacates disponibles B.\n",
        "m.addConstr(sum(x[r] for r in R) == B)\n",
        "#actualiza el modelo matemático con la nueva restricción agregada.\n",
        "m.update()"
      ]
    },
    {
      "cell_type": "markdown",
      "id": "380cbfab",
      "metadata": {
        "id": "380cbfab"
      },
      "source": [
        "### Add Constraints That Define Sales Quantity\n",
        "\n",
        "Next, we should define the predicted sales quantity in each region.\n",
        "We can assume that if we supply more than the predicted demand, we sell exactly the predicted demand. \n",
        "Otherwise, we sell exactly the allocated amount.\n",
        "Hence, the predicted sales quantity is the minimum of the allocated quantity and the predicted demand, i.e., $s_r = \\min \\{x_r,d_r(p_r)\\}$. \n",
        "This relationship can be modeled by the following two constraints for each region $r$.\n",
        "\n",
        "\\begin{align*} \n",
        "s_r &\\leq x_r  \\\\\n",
        "s_r &\\leq d(p_r,r)  \n",
        "\\end{align*}\n",
        "\n",
        "These constraints will ensure that the sales quantity $s_r$ in region $r$ is  greater than neither the allocated quantity nor the predicted demand. Note that the maximization objective function tries to maximize the revenue from sales, and therefore the optimizer will maximize the predicted sales quantity. This is assuming that the surplus and transportation costs are less than the sales price per avocado. Hence, these constraints along with the objective will ensure that the sales are equal to the minimum of supply and predicted demand.\n",
        "\n",
        "Let us now add these constraints to the model."
      ]
    },
    {
      "cell_type": "code",
      "execution_count": 807,
      "id": "ca72fc5b",
      "metadata": {
        "id": "ca72fc5b"
      },
      "outputs": [],
      "source": [
        "m.addConstrs((s[r] <= x[r] for r in R))\n",
        "m.addConstrs((s[r] <= d[r] for r in R)) \n",
        "m.update()"
      ]
    },
    {
      "cell_type": "markdown",
      "id": "d0875f6c",
      "metadata": {
        "id": "d0875f6c"
      },
      "source": [
        "### Add the Wastage Constraints\n",
        "\n",
        "Finally, we should define the predicted wastage in each region, given by the supplied quantity that is not predicted to be sold. We can express this mathematically for each region $r$.\n",
        "\n",
        "\\begin{align*} \n",
        "w_r &= x_r - s_r\n",
        "\\end{align*} \n",
        "\n",
        "We can add these constraints to the model."
      ]
    },
    {
      "cell_type": "code",
      "execution_count": 808,
      "id": "38ac8066",
      "metadata": {
        "id": "38ac8066"
      },
      "outputs": [],
      "source": [
        "m.addConstrs((w[r] == x[r]-s[r] for r in R))\n",
        "m.update()"
      ]
    },
    {
      "cell_type": "markdown",
      "id": "dab6884c",
      "metadata": {
        "id": "dab6884c"
      },
      "source": [
        "### Fire Up the Solver\n",
        "\n",
        "We have added the decision variables, objective function, and the constraints to the model. \n",
        "The model is ready to be solved.\n",
        "Before we do so, we should let the solver know what type of model this is.\n",
        "The default setting assumes that the objective and the constraints are linear functions of the variables.\n",
        "\n",
        "In our model, the objective is **quadratic** since we take the product of price and the predicted sales, both of which are variables. \n",
        "Maximizing a quadratic term is said to be **non-convex**, and we specify this using a Gurobi parameter value to be $2$. \n",
        "See [here](https://www.gurobi.com/documentation/9.5/refman/nonconvex.html) for more details."
      ]
    },
    {
      "cell_type": "code",
      "execution_count": 809,
      "id": "ac3c5eca",
      "metadata": {
        "id": "ac3c5eca",
        "outputId": "c7a71b5b-16ee-4ab7-d98c-fa1737eee730",
        "colab": {
          "base_uri": "https://localhost:8080/"
        }
      },
      "outputs": [
        {
          "output_type": "stream",
          "name": "stdout",
          "text": [
            "Gurobi Optimizer version 10.0.1 build v10.0.1rc0 (linux64)\n",
            "\n",
            "CPU model: Intel(R) Xeon(R) CPU @ 2.20GHz, instruction set [SSE2|AVX|AVX2]\n",
            "Thread count: 1 physical cores, 2 logical processors, using up to 2 threads\n",
            "\n",
            "Optimize a model with 25 rows, 32 columns and 56 nonzeros\n",
            "Model has 8 quadratic objective terms\n",
            "Coefficient statistics:\n",
            "  Matrix range     [1e+00, 1e+00]\n",
            "  Objective range  [1e-01, 5e-01]\n",
            "  QObjective range [2e+00, 2e+00]\n",
            "  Bounds range     [2e-01, 1e+01]\n",
            "  RHS range        [3e+01, 1e+100]\n",
            "Warning: Model contains large rhs\n",
            "         Consider reformulating model or setting NumericFocus parameter\n",
            "         to avoid numerical issues.\n",
            "Presolve removed 8 rows and 0 columns\n",
            "\n",
            "Continuous model is non-convex -- solving as a MIP\n",
            "\n",
            "Presolve removed 25 rows and 32 columns\n",
            "Presolve time: 0.00s\n",
            "Presolve: All rows and columns removed\n",
            "\n",
            "Explored 0 nodes (0 simplex iterations) in 0.02 seconds (0.00 work units)\n",
            "Thread count was 1 (of 2 available processors)\n",
            "\n",
            "Solution count 1: 53.503 \n",
            "\n",
            "Optimal solution found (tolerance 1.00e-04)\n",
            "Best objective 5.350299492400e+01, best bound 5.350299492400e+01, gap 0.0000%\n"
          ]
        }
      ],
      "source": [
        "#establece un parámetro en el modelo que especifica que la función objetivo es no convexa, es decir, que contiene términos cuadráticos.\n",
        "m.Params.NonConvex = 2\n",
        "#resuelve el modelo que se ha construido, es decir, encuentra los valores de las variables de decisión (en este caso, los precios y las cantidades de paltas\n",
        "# asignadas a cada región) que maximizan la función objetivo, teniendo en cuenta las restricciones definidas. El resultado de la optimización se almacena en el objeto m. \n",
        "m.optimize() "
      ]
    },
    {
      "cell_type": "markdown",
      "id": "aed67953",
      "metadata": {
        "id": "aed67953"
      },
      "source": [
        "The solver solved the optimization problem in less than a second.\n",
        "Let us now analyze the optimal solution by storing it in a Pandas dataframe."
      ]
    },
    {
      "cell_type": "code",
      "execution_count": 810,
      "id": "3f7ff154",
      "metadata": {
        "id": "3f7ff154",
        "outputId": "beb97bdc-6f23-458a-9584-680efd7cc811",
        "colab": {
          "base_uri": "https://localhost:8080/",
          "height": 331
        }
      },
      "outputs": [
        {
          "output_type": "stream",
          "name": "stdout",
          "text": [
            "\n",
            " The optimal net revenue: $53.502995 million\n"
          ]
        },
        {
          "output_type": "execute_result",
          "data": {
            "text/plain": [
              "                 Region  Price  Allocated      Sold  Wasted  Pred_demand\n",
              "0           Great_Lakes    2.0   2.063574  2.063574     0.0     3.102476\n",
              "1              Midsouth    2.0   6.168572  6.168572     0.0     2.899223\n",
              "2             Northeast    2.0   2.364424  2.364424     0.0     4.401163\n",
              "3  Northern_New_England    2.0   0.219690  0.219690     0.0     0.406261\n",
              "4          SouthCentral    2.0   3.687130  3.687130     0.0     4.164307\n",
              "5             Southeast    2.0   2.197764  2.197764     0.0     3.527675\n",
              "6                  West    2.0   9.723347  9.723347     0.0     5.146071\n",
              "7                Plains    2.0   3.575499  3.575499     0.0     1.590904"
            ],
            "text/html": [
              "\n",
              "  <div id=\"df-b19f2b0f-3d57-448f-99f3-2870ea016b30\">\n",
              "    <div class=\"colab-df-container\">\n",
              "      <div>\n",
              "<style scoped>\n",
              "    .dataframe tbody tr th:only-of-type {\n",
              "        vertical-align: middle;\n",
              "    }\n",
              "\n",
              "    .dataframe tbody tr th {\n",
              "        vertical-align: top;\n",
              "    }\n",
              "\n",
              "    .dataframe thead th {\n",
              "        text-align: right;\n",
              "    }\n",
              "</style>\n",
              "<table border=\"1\" class=\"dataframe\">\n",
              "  <thead>\n",
              "    <tr style=\"text-align: right;\">\n",
              "      <th></th>\n",
              "      <th>Region</th>\n",
              "      <th>Price</th>\n",
              "      <th>Allocated</th>\n",
              "      <th>Sold</th>\n",
              "      <th>Wasted</th>\n",
              "      <th>Pred_demand</th>\n",
              "    </tr>\n",
              "  </thead>\n",
              "  <tbody>\n",
              "    <tr>\n",
              "      <th>0</th>\n",
              "      <td>Great_Lakes</td>\n",
              "      <td>2.0</td>\n",
              "      <td>2.063574</td>\n",
              "      <td>2.063574</td>\n",
              "      <td>0.0</td>\n",
              "      <td>3.102476</td>\n",
              "    </tr>\n",
              "    <tr>\n",
              "      <th>1</th>\n",
              "      <td>Midsouth</td>\n",
              "      <td>2.0</td>\n",
              "      <td>6.168572</td>\n",
              "      <td>6.168572</td>\n",
              "      <td>0.0</td>\n",
              "      <td>2.899223</td>\n",
              "    </tr>\n",
              "    <tr>\n",
              "      <th>2</th>\n",
              "      <td>Northeast</td>\n",
              "      <td>2.0</td>\n",
              "      <td>2.364424</td>\n",
              "      <td>2.364424</td>\n",
              "      <td>0.0</td>\n",
              "      <td>4.401163</td>\n",
              "    </tr>\n",
              "    <tr>\n",
              "      <th>3</th>\n",
              "      <td>Northern_New_England</td>\n",
              "      <td>2.0</td>\n",
              "      <td>0.219690</td>\n",
              "      <td>0.219690</td>\n",
              "      <td>0.0</td>\n",
              "      <td>0.406261</td>\n",
              "    </tr>\n",
              "    <tr>\n",
              "      <th>4</th>\n",
              "      <td>SouthCentral</td>\n",
              "      <td>2.0</td>\n",
              "      <td>3.687130</td>\n",
              "      <td>3.687130</td>\n",
              "      <td>0.0</td>\n",
              "      <td>4.164307</td>\n",
              "    </tr>\n",
              "    <tr>\n",
              "      <th>5</th>\n",
              "      <td>Southeast</td>\n",
              "      <td>2.0</td>\n",
              "      <td>2.197764</td>\n",
              "      <td>2.197764</td>\n",
              "      <td>0.0</td>\n",
              "      <td>3.527675</td>\n",
              "    </tr>\n",
              "    <tr>\n",
              "      <th>6</th>\n",
              "      <td>West</td>\n",
              "      <td>2.0</td>\n",
              "      <td>9.723347</td>\n",
              "      <td>9.723347</td>\n",
              "      <td>0.0</td>\n",
              "      <td>5.146071</td>\n",
              "    </tr>\n",
              "    <tr>\n",
              "      <th>7</th>\n",
              "      <td>Plains</td>\n",
              "      <td>2.0</td>\n",
              "      <td>3.575499</td>\n",
              "      <td>3.575499</td>\n",
              "      <td>0.0</td>\n",
              "      <td>1.590904</td>\n",
              "    </tr>\n",
              "  </tbody>\n",
              "</table>\n",
              "</div>\n",
              "      <button class=\"colab-df-convert\" onclick=\"convertToInteractive('df-b19f2b0f-3d57-448f-99f3-2870ea016b30')\"\n",
              "              title=\"Convert this dataframe to an interactive table.\"\n",
              "              style=\"display:none;\">\n",
              "        \n",
              "  <svg xmlns=\"http://www.w3.org/2000/svg\" height=\"24px\"viewBox=\"0 0 24 24\"\n",
              "       width=\"24px\">\n",
              "    <path d=\"M0 0h24v24H0V0z\" fill=\"none\"/>\n",
              "    <path d=\"M18.56 5.44l.94 2.06.94-2.06 2.06-.94-2.06-.94-.94-2.06-.94 2.06-2.06.94zm-11 1L8.5 8.5l.94-2.06 2.06-.94-2.06-.94L8.5 2.5l-.94 2.06-2.06.94zm10 10l.94 2.06.94-2.06 2.06-.94-2.06-.94-.94-2.06-.94 2.06-2.06.94z\"/><path d=\"M17.41 7.96l-1.37-1.37c-.4-.4-.92-.59-1.43-.59-.52 0-1.04.2-1.43.59L10.3 9.45l-7.72 7.72c-.78.78-.78 2.05 0 2.83L4 21.41c.39.39.9.59 1.41.59.51 0 1.02-.2 1.41-.59l7.78-7.78 2.81-2.81c.8-.78.8-2.07 0-2.86zM5.41 20L4 18.59l7.72-7.72 1.47 1.35L5.41 20z\"/>\n",
              "  </svg>\n",
              "      </button>\n",
              "      \n",
              "  <style>\n",
              "    .colab-df-container {\n",
              "      display:flex;\n",
              "      flex-wrap:wrap;\n",
              "      gap: 12px;\n",
              "    }\n",
              "\n",
              "    .colab-df-convert {\n",
              "      background-color: #E8F0FE;\n",
              "      border: none;\n",
              "      border-radius: 50%;\n",
              "      cursor: pointer;\n",
              "      display: none;\n",
              "      fill: #1967D2;\n",
              "      height: 32px;\n",
              "      padding: 0 0 0 0;\n",
              "      width: 32px;\n",
              "    }\n",
              "\n",
              "    .colab-df-convert:hover {\n",
              "      background-color: #E2EBFA;\n",
              "      box-shadow: 0px 1px 2px rgba(60, 64, 67, 0.3), 0px 1px 3px 1px rgba(60, 64, 67, 0.15);\n",
              "      fill: #174EA6;\n",
              "    }\n",
              "\n",
              "    [theme=dark] .colab-df-convert {\n",
              "      background-color: #3B4455;\n",
              "      fill: #D2E3FC;\n",
              "    }\n",
              "\n",
              "    [theme=dark] .colab-df-convert:hover {\n",
              "      background-color: #434B5C;\n",
              "      box-shadow: 0px 1px 3px 1px rgba(0, 0, 0, 0.15);\n",
              "      filter: drop-shadow(0px 1px 2px rgba(0, 0, 0, 0.3));\n",
              "      fill: #FFFFFF;\n",
              "    }\n",
              "  </style>\n",
              "\n",
              "      <script>\n",
              "        const buttonEl =\n",
              "          document.querySelector('#df-b19f2b0f-3d57-448f-99f3-2870ea016b30 button.colab-df-convert');\n",
              "        buttonEl.style.display =\n",
              "          google.colab.kernel.accessAllowed ? 'block' : 'none';\n",
              "\n",
              "        async function convertToInteractive(key) {\n",
              "          const element = document.querySelector('#df-b19f2b0f-3d57-448f-99f3-2870ea016b30');\n",
              "          const dataTable =\n",
              "            await google.colab.kernel.invokeFunction('convertToInteractive',\n",
              "                                                     [key], {});\n",
              "          if (!dataTable) return;\n",
              "\n",
              "          const docLinkHtml = 'Like what you see? Visit the ' +\n",
              "            '<a target=\"_blank\" href=https://colab.research.google.com/notebooks/data_table.ipynb>data table notebook</a>'\n",
              "            + ' to learn more about interactive tables.';\n",
              "          element.innerHTML = '';\n",
              "          dataTable['output_type'] = 'display_data';\n",
              "          await google.colab.output.renderOutput(dataTable, element);\n",
              "          const docLink = document.createElement('div');\n",
              "          docLink.innerHTML = docLinkHtml;\n",
              "          element.appendChild(docLink);\n",
              "        }\n",
              "      </script>\n",
              "    </div>\n",
              "  </div>\n",
              "  "
            ]
          },
          "metadata": {},
          "execution_count": 810
        }
      ],
      "source": [
        "# Crear un DataFrame vacío para almacenar la solución\n",
        "solution = pd.DataFrame() \n",
        "\n",
        "# Agregar una columna para las regiones\n",
        "solution['Region'] = R\n",
        "\n",
        "# Agregar una columna para el precio de las paltas en cada región\n",
        "#solution['price'] = [p[r].X for r in R]\n",
        "solution['Price'] = [(p[r].X) for r in R]\n",
        "\n",
        "# Agregar una columna para la cantidad de paltas asignadas a cada región\n",
        "solution['Allocated'] = [round(x[r].X,8) for r in R]\n",
        "\n",
        "# Agregar una columna para la cantidad de paltas vendidas en cada región\n",
        "solution['Sold'] = [round(s[r].X,8) for r in R]\n",
        "\n",
        "# Agregar una columna para la cantidad de paltas desperdiciadas en cada región\n",
        "solution['Wasted'] = [round(w[r].X,8) for r in R]  \n",
        "\n",
        "# Agregar una columna para la demanda predicha en cada región\n",
        "solution['Pred_demand'] = [np.exp(coef_dict['Intercept'] + coef_dict['log_price'] * np.log(p[r].X) + coef_dict['C(region)[T.%s]'%r] + coef_dict['year_index']*(year-2015) + coef_dict['peak']*peak_or_not) for r in regions]\n",
        "\n",
        "\n",
        "# Obtener el valor óptimo de la función objetivo\n",
        "opt_revenue = m.ObjVal\n",
        "\n",
        "# Imprimir el valor óptimo de la función objetivo\n",
        "print(\"\\n The optimal net revenue: $%f million\"%opt_revenue) \n",
        "\n",
        "# Mostrar la solución\n",
        "solution\n"
      ]
    },
    {
      "cell_type": "markdown",
      "id": "f475012d",
      "metadata": {
        "id": "f475012d"
      },
      "source": [
        "Let us now visualize a scatter plot between the price and the number of avocados sold (in millions) for the eight regions."
      ]
    },
    {
      "cell_type": "code",
      "execution_count": 811,
      "id": "551f4eb6",
      "metadata": {
        "id": "551f4eb6",
        "outputId": "b60d7858-3de4-4001-cbef-664140a6fb9e",
        "colab": {
          "base_uri": "https://localhost:8080/",
          "height": 472
        }
      },
      "outputs": [
        {
          "output_type": "display_data",
          "data": {
            "text/plain": [
              "<Figure size 640x480 with 1 Axes>"
            ],
            "image/png": "[encoded data removed]"
          },
          "metadata": {}
        },
        {
          "output_type": "stream",
          "name": "stdout",
          "text": [
            "The circles represent sales quantity and the cross markers represent the wasted quantity.\n"
          ]
        }
      ],
      "source": [
        "#Crear una figura y un conjunto de ejes:\n",
        "fig, ax = plt.subplots(1,1)\n",
        "#Crear un gráfico de dispersión para mostrar la cantidad de paltas vendidas por región en función del precio\n",
        "plot_sol = sns.scatterplot(data=solution,x='Price',y='Sold',hue='Region',s=100)\n",
        "#Crear un gráfico de dispersión para mostrar la cantidad de paltas desperdiciadas por región en función del precio:\n",
        "plot_waste = sns.scatterplot(data=solution,x='Price',y='Wasted',marker='x',hue='Region',s=100,legend = False)\n",
        "\n",
        "#Añadir la leyenda al gráfico de dispersión para la cantidad de paltas vendidas:\n",
        "plot_sol.legend(loc='center left', bbox_to_anchor=(1.25, 0.5), ncol=1)\n",
        "#Añadir la leyenda al gráfico de dispersión para la cantidad de paltas desperdiciadas:\n",
        "plot_waste.legend(loc='center left', bbox_to_anchor=(1.25, 0.5), ncol=1)\n",
        "#Limitar el eje y del gráfico de dispersión para la cantidad de paltas vendidas:\n",
        "plt.ylim(0, 5)\n",
        "#Limitar el eje x del gráfico de dispersión para el precio:\n",
        "plt.xlim(1, 2.2)\n",
        "#Establecer el nombre del eje x:\n",
        "ax.set_xlabel('Price per avocado ($)')\n",
        "#Establecer el nombre del eje y:\n",
        "ax.set_ylabel('Number of avocados sold (millions)')\n",
        "#Mostrar el gráfico:\n",
        "plt.show() \n",
        "#Imprimir una leyenda que indique que los círculos representan la cantidad de paltas vendidas y las marcas cruzadas representan la cantidad de paltas desperdiciadas:\n",
        "print(\"The circles represent sales quantity and the cross markers represent the wasted quantity.\")"
      ]
    },
    {
      "cell_type": "code",
      "source": [
        "%time"
      ],
      "metadata": {
        "colab": {
          "base_uri": "https://localhost:8080/"
        },
        "id": "S27gJHHfGtBW",
        "outputId": "f7cae05f-3ef5-4706-a15a-ddd549a4d67d"
      },
      "id": "S27gJHHfGtBW",
      "execution_count": 812,
      "outputs": [
        {
          "output_type": "stream",
          "name": "stdout",
          "text": [
            "CPU times: user 4 µs, sys: 1 µs, total: 5 µs\n",
            "Wall time: 14.1 µs\n"
          ]
        }
      ]
    },
    {
      "cell_type": "markdown",
      "id": "e0888fb6",
      "metadata": {
        "id": "e0888fb6"
      },
      "source": [
        "Copyright © 2022 Gurobi Optimization, LLC"
      ]
    }
  ],
  "metadata": {
    "kernelspec": {
      "display_name": "Python 3 (ipykernel)",
      "language": "python",
      "name": "python3"
    },
    "language_info": {
      "codemirror_mode": {
        "name": "ipython",
        "version": 3
      },
      "file_extension": ".py",
      "mimetype": "text/x-python",
      "name": "python",
      "nbconvert_exporter": "python",
      "pygments_lexer": "ipython3",
      "version": "3.9.7"
    },
    "colab": {
      "provenance": []
    }
  },
  "nbformat": 4,
  "nbformat_minor": 5
}