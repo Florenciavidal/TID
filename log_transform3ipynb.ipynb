{
  "cells": [
    {
      "cell_type": "markdown",
      "metadata": {
        "id": "view-in-github",
        "colab_type": "text"
      },
      "source": [
        "<a href=\"https://colab.research.google.com/github/Florenciavidal/TID/blob/main/log_transform3ipynb.ipynb\" target=\"_parent\"><img src=\"https://colab.research.google.com/assets/colab-badge.svg\" alt=\"Open In Colab\"/></a>"
      ]
    },
    {
      "cell_type": "markdown",
      "id": "94a00ac5",
      "metadata": {
        "id": "94a00ac5"
      },
      "source": [
        "# Part Two: Avocado Pricing and Supply Using Mathematical Optimization \n",
        "\n",
        "This is a second part of an example on price optimization: [How Much Is Too Much? Avocado Pricing and Supply Using Mathematical Optimization](https://github.com/Gurobi/modeling-examples/tree/master/price_optimization)\n",
        "\n",
        "In the first part, an ordinary linear regression model (OLS) was used to establish the relationship between price and demand based on data from the.... Part Two replaces the OLS model with a trained `Scikit-learn` model and uses the [Gurobi Machine Learning](https://gurobi-machinelearning.readthedocs.io/en/stable/#) package to embed it in a Gurobi optimization model.\n",
        "\n",
        "In this example, we will also use `gurobipy-pandas`, which is another Gurobi open-source package and serves as a convenient (and optional) wrapper to connect pandas with gurobipy. \n",
        "\n",
        "If you are already familiar with the example from the other notebook, you can\n",
        "jump directly to [building the regression model](#Part-2:-Predict-the-Sales)\n",
        "and then to [formulating the optimization problem](#Part-3:-Optimize-for-Price-and-Supply-of-Avocados).\n",
        "\n",
        "**Goal**: Develop a data science and decision-making pipeline for pricing and distribution of avocados to maximize revenue.\n",
        "\n",
        "To accomplish this, the notebook will walk trough three stages:\n",
        "\n",
        "1. A quick review of the [Hass Avocado Board](https://hassavocadoboard.com/) (HAB) data\n",
        "2. Build a prediction model for avocado demand as a function of price, region, year and seasonality.\n",
        "3. Design an optimization model that sets the optimal price and supply quantity to maximize the net revenue while incorporating transportation and costs."
      ]
    },
    {
      "cell_type": "markdown",
      "id": "716ed7e0",
      "metadata": {
        "id": "716ed7e0"
      },
      "source": [
        "## Load the Packages and Prepare the Dataset\n",
        "\n",
        "Just as in the first example, we use real HAB sales data. \n"
      ]
    },
    {
      "cell_type": "code",
      "execution_count": 1,
      "id": "b1ff1bfa",
      "metadata": {
        "id": "b1ff1bfa"
      },
      "outputs": [],
      "source": [
        "import pandas as pd\n",
        "import warnings\n",
        "import numpy as np"
      ]
    },
    {
      "cell_type": "markdown",
      "id": "408e66ab",
      "metadata": {
        "id": "408e66ab"
      },
      "source": [
        "The dataset from HAB contains sales data for the years 2019-2022. This data is augmented by a previous download from HAB available on\n",
        "[Kaggle](https://www.kaggle.com/datasets/timmate/avocado-prices-2020) with sales for the years 2015-2018.\n",
        "\n",
        "This notebook will skip a lot of the preprocessing from the first version of this example."
      ]
    },
    {
      "cell_type": "code",
      "execution_count": 2,
      "id": "-bbhXnJqFlu2",
      "metadata": {
        "colab": {
          "base_uri": "https://localhost:8080/",
          "height": 419
        },
        "id": "-bbhXnJqFlu2",
        "outputId": "6589a2bc-6587-4d4a-ac44-5aa49db4b5ba"
      },
      "outputs": [
        {
          "output_type": "execute_result",
          "data": {
            "text/plain": [
              "           date  units_sold     price                region  year  month  peak\n",
              "0    2015-01-04    3.382800  1.020000           Great_Lakes  2015      1     0\n",
              "1    2015-01-04    2.578275  1.100000              Midsouth  2015      1     0\n",
              "2    2015-01-04    5.794411  0.890000                  West  2015      1     0\n",
              "3    2015-01-04    3.204112  0.980000             Southeast  2015      1     0\n",
              "4    2015-01-04    0.321824  1.050000  Northern_New_England  2015      1     0\n",
              "...         ...         ...       ...                   ...   ...    ...   ...\n",
              "3396 2022-05-15    0.445830  1.513707  Northern_New_England  2022      5     1\n",
              "3397 2022-05-15    4.150433  1.269883          SouthCentral  2022      5     1\n",
              "3398 2022-05-15    4.668815  1.644873             Northeast  2022      5     1\n",
              "3399 2022-05-15   32.745321  1.527357              Total_US  2022      5     1\n",
              "3401 2022-05-15    1.560202  1.541429                Plains  2022      5     1\n",
              "\n",
              "[3402 rows x 7 columns]"
            ],
            "text/html": [
              "\n",
              "  <div id=\"df-0d8f0c8d-78c8-4ee3-8563-04d692466646\">\n",
              "    <div class=\"colab-df-container\">\n",
              "      <div>\n",
              "<style scoped>\n",
              "    .dataframe tbody tr th:only-of-type {\n",
              "        vertical-align: middle;\n",
              "    }\n",
              "\n",
              "    .dataframe tbody tr th {\n",
              "        vertical-align: top;\n",
              "    }\n",
              "\n",
              "    .dataframe thead th {\n",
              "        text-align: right;\n",
              "    }\n",
              "</style>\n",
              "<table border=\"1\" class=\"dataframe\">\n",
              "  <thead>\n",
              "    <tr style=\"text-align: right;\">\n",
              "      <th></th>\n",
              "      <th>date</th>\n",
              "      <th>units_sold</th>\n",
              "      <th>price</th>\n",
              "      <th>region</th>\n",
              "      <th>year</th>\n",
              "      <th>month</th>\n",
              "      <th>peak</th>\n",
              "    </tr>\n",
              "  </thead>\n",
              "  <tbody>\n",
              "    <tr>\n",
              "      <th>0</th>\n",
              "      <td>2015-01-04</td>\n",
              "      <td>3.382800</td>\n",
              "      <td>1.020000</td>\n",
              "      <td>Great_Lakes</td>\n",
              "      <td>2015</td>\n",
              "      <td>1</td>\n",
              "      <td>0</td>\n",
              "    </tr>\n",
              "    <tr>\n",
              "      <th>1</th>\n",
              "      <td>2015-01-04</td>\n",
              "      <td>2.578275</td>\n",
              "      <td>1.100000</td>\n",
              "      <td>Midsouth</td>\n",
              "      <td>2015</td>\n",
              "      <td>1</td>\n",
              "      <td>0</td>\n",
              "    </tr>\n",
              "    <tr>\n",
              "      <th>2</th>\n",
              "      <td>2015-01-04</td>\n",
              "      <td>5.794411</td>\n",
              "      <td>0.890000</td>\n",
              "      <td>West</td>\n",
              "      <td>2015</td>\n",
              "      <td>1</td>\n",
              "      <td>0</td>\n",
              "    </tr>\n",
              "    <tr>\n",
              "      <th>3</th>\n",
              "      <td>2015-01-04</td>\n",
              "      <td>3.204112</td>\n",
              "      <td>0.980000</td>\n",
              "      <td>Southeast</td>\n",
              "      <td>2015</td>\n",
              "      <td>1</td>\n",
              "      <td>0</td>\n",
              "    </tr>\n",
              "    <tr>\n",
              "      <th>4</th>\n",
              "      <td>2015-01-04</td>\n",
              "      <td>0.321824</td>\n",
              "      <td>1.050000</td>\n",
              "      <td>Northern_New_England</td>\n",
              "      <td>2015</td>\n",
              "      <td>1</td>\n",
              "      <td>0</td>\n",
              "    </tr>\n",
              "    <tr>\n",
              "      <th>...</th>\n",
              "      <td>...</td>\n",
              "      <td>...</td>\n",
              "      <td>...</td>\n",
              "      <td>...</td>\n",
              "      <td>...</td>\n",
              "      <td>...</td>\n",
              "      <td>...</td>\n",
              "    </tr>\n",
              "    <tr>\n",
              "      <th>3396</th>\n",
              "      <td>2022-05-15</td>\n",
              "      <td>0.445830</td>\n",
              "      <td>1.513707</td>\n",
              "      <td>Northern_New_England</td>\n",
              "      <td>2022</td>\n",
              "      <td>5</td>\n",
              "      <td>1</td>\n",
              "    </tr>\n",
              "    <tr>\n",
              "      <th>3397</th>\n",
              "      <td>2022-05-15</td>\n",
              "      <td>4.150433</td>\n",
              "      <td>1.269883</td>\n",
              "      <td>SouthCentral</td>\n",
              "      <td>2022</td>\n",
              "      <td>5</td>\n",
              "      <td>1</td>\n",
              "    </tr>\n",
              "    <tr>\n",
              "      <th>3398</th>\n",
              "      <td>2022-05-15</td>\n",
              "      <td>4.668815</td>\n",
              "      <td>1.644873</td>\n",
              "      <td>Northeast</td>\n",
              "      <td>2022</td>\n",
              "      <td>5</td>\n",
              "      <td>1</td>\n",
              "    </tr>\n",
              "    <tr>\n",
              "      <th>3399</th>\n",
              "      <td>2022-05-15</td>\n",
              "      <td>32.745321</td>\n",
              "      <td>1.527357</td>\n",
              "      <td>Total_US</td>\n",
              "      <td>2022</td>\n",
              "      <td>5</td>\n",
              "      <td>1</td>\n",
              "    </tr>\n",
              "    <tr>\n",
              "      <th>3401</th>\n",
              "      <td>2022-05-15</td>\n",
              "      <td>1.560202</td>\n",
              "      <td>1.541429</td>\n",
              "      <td>Plains</td>\n",
              "      <td>2022</td>\n",
              "      <td>5</td>\n",
              "      <td>1</td>\n",
              "    </tr>\n",
              "  </tbody>\n",
              "</table>\n",
              "<p>3402 rows × 7 columns</p>\n",
              "</div>\n",
              "      <button class=\"colab-df-convert\" onclick=\"convertToInteractive('df-0d8f0c8d-78c8-4ee3-8563-04d692466646')\"\n",
              "              title=\"Convert this dataframe to an interactive table.\"\n",
              "              style=\"display:none;\">\n",
              "        \n",
              "  <svg xmlns=\"http://www.w3.org/2000/svg\" height=\"24px\"viewBox=\"0 0 24 24\"\n",
              "       width=\"24px\">\n",
              "    <path d=\"M0 0h24v24H0V0z\" fill=\"none\"/>\n",
              "    <path d=\"M18.56 5.44l.94 2.06.94-2.06 2.06-.94-2.06-.94-.94-2.06-.94 2.06-2.06.94zm-11 1L8.5 8.5l.94-2.06 2.06-.94-2.06-.94L8.5 2.5l-.94 2.06-2.06.94zm10 10l.94 2.06.94-2.06 2.06-.94-2.06-.94-.94-2.06-.94 2.06-2.06.94z\"/><path d=\"M17.41 7.96l-1.37-1.37c-.4-.4-.92-.59-1.43-.59-.52 0-1.04.2-1.43.59L10.3 9.45l-7.72 7.72c-.78.78-.78 2.05 0 2.83L4 21.41c.39.39.9.59 1.41.59.51 0 1.02-.2 1.41-.59l7.78-7.78 2.81-2.81c.8-.78.8-2.07 0-2.86zM5.41 20L4 18.59l7.72-7.72 1.47 1.35L5.41 20z\"/>\n",
              "  </svg>\n",
              "      </button>\n",
              "      \n",
              "  <style>\n",
              "    .colab-df-container {\n",
              "      display:flex;\n",
              "      flex-wrap:wrap;\n",
              "      gap: 12px;\n",
              "    }\n",
              "\n",
              "    .colab-df-convert {\n",
              "      background-color: #E8F0FE;\n",
              "      border: none;\n",
              "      border-radius: 50%;\n",
              "      cursor: pointer;\n",
              "      display: none;\n",
              "      fill: #1967D2;\n",
              "      height: 32px;\n",
              "      padding: 0 0 0 0;\n",
              "      width: 32px;\n",
              "    }\n",
              "\n",
              "    .colab-df-convert:hover {\n",
              "      background-color: #E2EBFA;\n",
              "      box-shadow: 0px 1px 2px rgba(60, 64, 67, 0.3), 0px 1px 3px 1px rgba(60, 64, 67, 0.15);\n",
              "      fill: #174EA6;\n",
              "    }\n",
              "\n",
              "    [theme=dark] .colab-df-convert {\n",
              "      background-color: #3B4455;\n",
              "      fill: #D2E3FC;\n",
              "    }\n",
              "\n",
              "    [theme=dark] .colab-df-convert:hover {\n",
              "      background-color: #434B5C;\n",
              "      box-shadow: 0px 1px 3px 1px rgba(0, 0, 0, 0.15);\n",
              "      filter: drop-shadow(0px 1px 2px rgba(0, 0, 0, 0.3));\n",
              "      fill: #FFFFFF;\n",
              "    }\n",
              "  </style>\n",
              "\n",
              "      <script>\n",
              "        const buttonEl =\n",
              "          document.querySelector('#df-0d8f0c8d-78c8-4ee3-8563-04d692466646 button.colab-df-convert');\n",
              "        buttonEl.style.display =\n",
              "          google.colab.kernel.accessAllowed ? 'block' : 'none';\n",
              "\n",
              "        async function convertToInteractive(key) {\n",
              "          const element = document.querySelector('#df-0d8f0c8d-78c8-4ee3-8563-04d692466646');\n",
              "          const dataTable =\n",
              "            await google.colab.kernel.invokeFunction('convertToInteractive',\n",
              "                                                     [key], {});\n",
              "          if (!dataTable) return;\n",
              "\n",
              "          const docLinkHtml = 'Like what you see? Visit the ' +\n",
              "            '<a target=\"_blank\" href=https://colab.research.google.com/notebooks/data_table.ipynb>data table notebook</a>'\n",
              "            + ' to learn more about interactive tables.';\n",
              "          element.innerHTML = '';\n",
              "          dataTable['output_type'] = 'display_data';\n",
              "          await google.colab.output.renderOutput(dataTable, element);\n",
              "          const docLink = document.createElement('div');\n",
              "          docLink.innerHTML = docLinkHtml;\n",
              "          element.appendChild(docLink);\n",
              "        }\n",
              "      </script>\n",
              "    </div>\n",
              "  </div>\n",
              "  "
            ]
          },
          "metadata": {},
          "execution_count": 2
        }
      ],
      "source": [
        "data_url = \"https://raw.githubusercontent.com/Gurobi/modeling-examples/master/price_optimization/\"\n",
        "avocado = pd.read_csv(data_url+\"HAB_data_2015to2022.csv\")\n",
        "avocado[\"date\"] = pd.to_datetime(avocado[\"date\"])\n",
        "avocado = avocado.sort_values(by=\"date\")\n",
        "avocado"
      ]
    },
    {
      "cell_type": "markdown",
      "id": "3a91caa2",
      "metadata": {
        "id": "3a91caa2"
      },
      "source": [
        "One of the regions in the above data frame is `Total_US`, so we can create a list of regions, excluding the total, which can be used to subset the data now. It'll be used later in the example as well."
      ]
    },
    {
      "cell_type": "code",
      "execution_count": 3,
      "id": "c2f6cc22",
      "metadata": {
        "id": "c2f6cc22"
      },
      "outputs": [],
      "source": [
        "regions = [\n",
        "    \"Great_Lakes\",\n",
        "    \"Midsouth\",\n",
        "    \"Northeast\",\n",
        "    \"Northern_New_England\",\n",
        "    \"SouthCentral\",\n",
        "    \"Southeast\",\n",
        "    \"West\",\n",
        "    \"Plains\"\n",
        "]\n",
        "df = avocado[avocado.region.isin(regions)]"
      ]
    },
    {
      "cell_type": "markdown",
      "id": "5186fd3e",
      "metadata": {
        "id": "5186fd3e"
      },
      "source": [
        "## Predict the Sales\n",
        "\n",
        "In the first instance of this example, further analysis was done on the input data along with a few visualizations. Here, we will go directly to the predicive model training, starting with a random split of the dataset into $80\\%$ training and $20\\%$ testing data."
      ]
    },
    {
      "cell_type": "code",
      "execution_count": 4,
      "id": "866c540b",
      "metadata": {
        "id": "866c540b",
        "colab": {
          "base_uri": "https://localhost:8080/"
        },
        "outputId": "0edd86a4-c806-4da2-c39d-d8cbc7c9dee7"
      },
      "outputs": [
        {
          "output_type": "stream",
          "name": "stderr",
          "text": [
            "<ipython-input-4-cf2582996549>:5: SettingWithCopyWarning: \n",
            "A value is trying to be set on a copy of a slice from a DataFrame.\n",
            "Try using .loc[row_indexer,col_indexer] = value instead\n",
            "\n",
            "See the caveats in the documentation: https://pandas.pydata.org/pandas-docs/stable/user_guide/indexing.html#returning-a-view-versus-a-copy\n",
            "  X['log_price'] = np.log1p(df[\"price\"])\n"
          ]
        }
      ],
      "source": [
        "from sklearn.model_selection import train_test_split\n",
        "import numpy as np\n",
        "\n",
        "X = df[[\"region\", \"year\", \"peak\"]]\n",
        "X['log_price'] = np.log1p(df[\"price\"])\n",
        "y = np.log1p(df[\"units_sold\"])\n",
        "# Split the data for training and testing\n",
        "X_train, X_test, y_train, y_test = train_test_split(\n",
        "    X, y, train_size=0.8, random_state=1\n",
        ")"
      ]
    },
    {
      "cell_type": "markdown",
      "id": "071154e3",
      "metadata": {
        "id": "071154e3"
      },
      "source": [
        "Note that the region is a categorical variable and we will transform that variable using Scikit Learn's `OneHotEncoder`. We also use a standard scaler for prices and year index, combining all of the ese with `Column Transformer` built using `make_column_transformer`."
      ]
    },
    {
      "cell_type": "code",
      "execution_count": 5,
      "id": "71c7c565",
      "metadata": {
        "id": "71c7c565"
      },
      "outputs": [],
      "source": [
        "from sklearn.preprocessing import OneHotEncoder\n",
        "from sklearn.preprocessing import StandardScaler\n",
        "from sklearn.compose import make_column_transformer\n",
        "from sklearn.linear_model import LinearRegression\n",
        "from sklearn.pipeline import make_pipeline\n",
        "from sklearn.metrics import r2_score\n",
        "from sklearn.compose import TransformedTargetRegressor\n",
        "from sklearn.preprocessing import FunctionTransformer\n",
        "\n",
        "# Crear el transformador de columnas\n",
        "feat_transform = make_column_transformer(\n",
        "    (OneHotEncoder(drop=\"first\"), [\"region\"]), # Convertir la columna 'region' en variables dummy\n",
        "    (FunctionTransformer(np.log1p), [\"log_price\"]), # Aplicar la transformación logarítmica a las columnas 'price' y 'units_sold'\n",
        "    (StandardScaler(), [\"year\"]), # Escalar la columna 'year'\n",
        "    (\"passthrough\", [\"peak\"]), # Mantener la columna 'peak' sin cambios\n",
        "    verbose_feature_names_out=False, # Evitar nombres de columnas redundantes\n",
        "    remainder='drop' # Descartar cualquier otra columna que no se especifique en el transformador\n",
        ")"
      ]
    },
    {
      "cell_type": "code",
      "source": [
        "# Verificar si hay valores NaN en el conjunto de datos transformado\n",
        "print(X.isna().sum())"
      ],
      "metadata": {
        "colab": {
          "base_uri": "https://localhost:8080/"
        },
        "id": "QZ1Uh3ujrNAU",
        "outputId": "253ffc99-4bed-44ce-8d81-d70d829f4b23"
      },
      "id": "QZ1Uh3ujrNAU",
      "execution_count": 6,
      "outputs": [
        {
          "output_type": "stream",
          "name": "stdout",
          "text": [
            "region       0\n",
            "year         0\n",
            "peak         0\n",
            "log_price    0\n",
            "dtype: int64\n"
          ]
        }
      ]
    },
    {
      "cell_type": "markdown",
      "id": "65b6bcaa",
      "metadata": {
        "id": "65b6bcaa"
      },
      "source": [
        "The regression model is a pipeline consisting of the `Column Transformer` and the type of model we want to use for the regression. For comparison, we'll stick with a linear regression."
      ]
    },
    {
      "cell_type": "code",
      "source": [
        "#Crear un modelo de regresión lineal utilizando una tubería (pipeline) que incluye la transformación de características y la regresión lineal.\n",
        "reg = make_pipeline(feat_transform, LinearRegression())\n",
        "\n",
        "#Ajustar el modelo utilizando los datos de entrenamiento.\n",
        "reg.fit(X_train, y_train)\n",
        "\n",
        "#Predecir los valores de la variable dependiente utilizando el modelo ajustado y los datos de prueba.\n",
        "y_pred = reg.predict(X_test)\n",
        "\n",
        "# Transformar los valores predichos a la escala original\n",
        "y_pred_orig = np.expm1(y_pred)\n",
        "\n",
        "#Transformar los valores reales a la escala original\n",
        "y_test_orig = np.expm1(y_test)\n",
        "\n",
        "#Calcular el coeficiente de determinación (R^2) del modelo en los datos de prueba.\n",
        "r2 = r2_score(y_test_orig, y_pred_orig)\n",
        "print(f\"R-squared on test data: {r2:.4f}\")"
      ],
      "metadata": {
        "id": "JLEqEQKARTZV",
        "outputId": "0a9bfba5-f136-436b-c1e1-cd85fa94ce24",
        "colab": {
          "base_uri": "https://localhost:8080/"
        }
      },
      "id": "JLEqEQKARTZV",
      "execution_count": 7,
      "outputs": [
        {
          "output_type": "stream",
          "name": "stdout",
          "text": [
            "R-squared on test data: 0.9252\n"
          ]
        }
      ]
    },
    {
      "cell_type": "markdown",
      "id": "93868dba",
      "metadata": {
        "id": "93868dba"
      },
      "source": [
        "## Optimize for Price and Supply of Avocados\n",
        "\n",
        "Here is a quick review of notation for the formulation of the mathematical optimization model. The subscript $r$ will be used to denote each region.\n",
        "### Input parameters\n",
        "- $d(p,r)$: predicted demand in region $r$ when the avocado price is $p$\n",
        "- $B$: available avocados to be distributed across the regions\n",
        "- $c_{waste}$: cost ($\\$$) per wasted avocado\n",
        "- $c^r_{transport}$: cost ($\\$$) of transporting a avocado to region $r$\n",
        "- $a_{min},a_{max}$: minimum and maximum price ($\\$$) per avocado\n",
        "  $r$\n",
        "- $b^r_{min},b^r_{max}$: minimum and maximum number of avocados allocated to region $r$\n",
        "\n",
        "The following code sets values for these parameters. Feel free to adjust these to see how the aolution to the optimization model will change.\n"
      ]
    },
    {
      "cell_type": "code",
      "execution_count": 8,
      "id": "1f293b80",
      "metadata": {
        "colab": {
          "base_uri": "https://localhost:8080/",
          "height": 297
        },
        "id": "1f293b80",
        "outputId": "b34a6765-a8e9-4c19-e2db-6091a8b28458"
      },
      "outputs": [
        {
          "output_type": "execute_result",
          "data": {
            "text/plain": [
              "                      transport_cost  min_delivery  max_delivery\n",
              "Great_Lakes                      0.3      2.063574      7.094765\n",
              "Midsouth                         0.1      1.845443      6.168572\n",
              "Northeast                        0.4      2.364424      8.836406\n",
              "Northern_New_England             0.5      0.219690      0.917984\n",
              "SouthCentral                     0.3      3.687130     10.323175\n",
              "Southeast                        0.2      2.197764      7.810475\n",
              "West                             0.2      3.260102     11.274749\n",
              "Plains                           0.2      1.058938      3.575499"
            ],
            "text/html": [
              "\n",
              "  <div id=\"df-71695ced-88ee-41e0-8a48-f5ea6f250a52\">\n",
              "    <div class=\"colab-df-container\">\n",
              "      <div>\n",
              "<style scoped>\n",
              "    .dataframe tbody tr th:only-of-type {\n",
              "        vertical-align: middle;\n",
              "    }\n",
              "\n",
              "    .dataframe tbody tr th {\n",
              "        vertical-align: top;\n",
              "    }\n",
              "\n",
              "    .dataframe thead th {\n",
              "        text-align: right;\n",
              "    }\n",
              "</style>\n",
              "<table border=\"1\" class=\"dataframe\">\n",
              "  <thead>\n",
              "    <tr style=\"text-align: right;\">\n",
              "      <th></th>\n",
              "      <th>transport_cost</th>\n",
              "      <th>min_delivery</th>\n",
              "      <th>max_delivery</th>\n",
              "    </tr>\n",
              "  </thead>\n",
              "  <tbody>\n",
              "    <tr>\n",
              "      <th>Great_Lakes</th>\n",
              "      <td>0.3</td>\n",
              "      <td>2.063574</td>\n",
              "      <td>7.094765</td>\n",
              "    </tr>\n",
              "    <tr>\n",
              "      <th>Midsouth</th>\n",
              "      <td>0.1</td>\n",
              "      <td>1.845443</td>\n",
              "      <td>6.168572</td>\n",
              "    </tr>\n",
              "    <tr>\n",
              "      <th>Northeast</th>\n",
              "      <td>0.4</td>\n",
              "      <td>2.364424</td>\n",
              "      <td>8.836406</td>\n",
              "    </tr>\n",
              "    <tr>\n",
              "      <th>Northern_New_England</th>\n",
              "      <td>0.5</td>\n",
              "      <td>0.219690</td>\n",
              "      <td>0.917984</td>\n",
              "    </tr>\n",
              "    <tr>\n",
              "      <th>SouthCentral</th>\n",
              "      <td>0.3</td>\n",
              "      <td>3.687130</td>\n",
              "      <td>10.323175</td>\n",
              "    </tr>\n",
              "    <tr>\n",
              "      <th>Southeast</th>\n",
              "      <td>0.2</td>\n",
              "      <td>2.197764</td>\n",
              "      <td>7.810475</td>\n",
              "    </tr>\n",
              "    <tr>\n",
              "      <th>West</th>\n",
              "      <td>0.2</td>\n",
              "      <td>3.260102</td>\n",
              "      <td>11.274749</td>\n",
              "    </tr>\n",
              "    <tr>\n",
              "      <th>Plains</th>\n",
              "      <td>0.2</td>\n",
              "      <td>1.058938</td>\n",
              "      <td>3.575499</td>\n",
              "    </tr>\n",
              "  </tbody>\n",
              "</table>\n",
              "</div>\n",
              "      <button class=\"colab-df-convert\" onclick=\"convertToInteractive('df-71695ced-88ee-41e0-8a48-f5ea6f250a52')\"\n",
              "              title=\"Convert this dataframe to an interactive table.\"\n",
              "              style=\"display:none;\">\n",
              "        \n",
              "  <svg xmlns=\"http://www.w3.org/2000/svg\" height=\"24px\"viewBox=\"0 0 24 24\"\n",
              "       width=\"24px\">\n",
              "    <path d=\"M0 0h24v24H0V0z\" fill=\"none\"/>\n",
              "    <path d=\"M18.56 5.44l.94 2.06.94-2.06 2.06-.94-2.06-.94-.94-2.06-.94 2.06-2.06.94zm-11 1L8.5 8.5l.94-2.06 2.06-.94-2.06-.94L8.5 2.5l-.94 2.06-2.06.94zm10 10l.94 2.06.94-2.06 2.06-.94-2.06-.94-.94-2.06-.94 2.06-2.06.94z\"/><path d=\"M17.41 7.96l-1.37-1.37c-.4-.4-.92-.59-1.43-.59-.52 0-1.04.2-1.43.59L10.3 9.45l-7.72 7.72c-.78.78-.78 2.05 0 2.83L4 21.41c.39.39.9.59 1.41.59.51 0 1.02-.2 1.41-.59l7.78-7.78 2.81-2.81c.8-.78.8-2.07 0-2.86zM5.41 20L4 18.59l7.72-7.72 1.47 1.35L5.41 20z\"/>\n",
              "  </svg>\n",
              "      </button>\n",
              "      \n",
              "  <style>\n",
              "    .colab-df-container {\n",
              "      display:flex;\n",
              "      flex-wrap:wrap;\n",
              "      gap: 12px;\n",
              "    }\n",
              "\n",
              "    .colab-df-convert {\n",
              "      background-color: #E8F0FE;\n",
              "      border: none;\n",
              "      border-radius: 50%;\n",
              "      cursor: pointer;\n",
              "      display: none;\n",
              "      fill: #1967D2;\n",
              "      height: 32px;\n",
              "      padding: 0 0 0 0;\n",
              "      width: 32px;\n",
              "    }\n",
              "\n",
              "    .colab-df-convert:hover {\n",
              "      background-color: #E2EBFA;\n",
              "      box-shadow: 0px 1px 2px rgba(60, 64, 67, 0.3), 0px 1px 3px 1px rgba(60, 64, 67, 0.15);\n",
              "      fill: #174EA6;\n",
              "    }\n",
              "\n",
              "    [theme=dark] .colab-df-convert {\n",
              "      background-color: #3B4455;\n",
              "      fill: #D2E3FC;\n",
              "    }\n",
              "\n",
              "    [theme=dark] .colab-df-convert:hover {\n",
              "      background-color: #434B5C;\n",
              "      box-shadow: 0px 1px 3px 1px rgba(0, 0, 0, 0.15);\n",
              "      filter: drop-shadow(0px 1px 2px rgba(0, 0, 0, 0.3));\n",
              "      fill: #FFFFFF;\n",
              "    }\n",
              "  </style>\n",
              "\n",
              "      <script>\n",
              "        const buttonEl =\n",
              "          document.querySelector('#df-71695ced-88ee-41e0-8a48-f5ea6f250a52 button.colab-df-convert');\n",
              "        buttonEl.style.display =\n",
              "          google.colab.kernel.accessAllowed ? 'block' : 'none';\n",
              "\n",
              "        async function convertToInteractive(key) {\n",
              "          const element = document.querySelector('#df-71695ced-88ee-41e0-8a48-f5ea6f250a52');\n",
              "          const dataTable =\n",
              "            await google.colab.kernel.invokeFunction('convertToInteractive',\n",
              "                                                     [key], {});\n",
              "          if (!dataTable) return;\n",
              "\n",
              "          const docLinkHtml = 'Like what you see? Visit the ' +\n",
              "            '<a target=\"_blank\" href=https://colab.research.google.com/notebooks/data_table.ipynb>data table notebook</a>'\n",
              "            + ' to learn more about interactive tables.';\n",
              "          element.innerHTML = '';\n",
              "          dataTable['output_type'] = 'display_data';\n",
              "          await google.colab.output.renderOutput(dataTable, element);\n",
              "          const docLink = document.createElement('div');\n",
              "          docLink.innerHTML = docLinkHtml;\n",
              "          element.appendChild(docLink);\n",
              "        }\n",
              "      </script>\n",
              "    </div>\n",
              "  </div>\n",
              "  "
            ]
          },
          "metadata": {},
          "execution_count": 8
        }
      ],
      "source": [
        "# Sets and parameters\n",
        "B = 35  # total amount of avocado supply\n",
        "\n",
        "peak_or_not = 1  # 1 if it is the peak season; 0 if isn't\n",
        "year = 2022\n",
        "\n",
        "c_waste = 0.1  # the cost ($) of wasting an avocado\n",
        "\n",
        "# the cost of transporting an avocado\n",
        "c_transport = pd.Series(\n",
        "    {\n",
        "        \"Great_Lakes\": 0.3,\n",
        "        \"Midsouth\": 0.1,\n",
        "        \"Northeast\": 0.4,\n",
        "        \"Northern_New_England\": 0.5,\n",
        "        \"SouthCentral\": 0.3,\n",
        "        \"Southeast\": 0.2,\n",
        "        \"West\": 0.2,\n",
        "        \"Plains\": 0.2,\n",
        "    }, name='transport_cost'\n",
        ")\n",
        "c_transport = c_transport.loc[regions]\n",
        "\n",
        "a_min = 0  # minimum avocado price \n",
        "a_max = 3  # maximum avocado price\n",
        "\n",
        "# Get the lower and upper bounds from the dataset for the price and the number of products to be stocked\n",
        "data = pd.concat([c_transport,\n",
        "                  df.groupby(\"region\")[\"units_sold\"].min().rename('min_delivery'),\n",
        "                  df.groupby(\"region\")[\"units_sold\"].max().rename('max_delivery')], axis=1)\n",
        "\n",
        "data"
      ]
    },
    {
      "cell_type": "markdown",
      "id": "c6WbGctoAYUw",
      "metadata": {
        "id": "c6WbGctoAYUw"
      },
      "source": [
        "#### Install and import Gurobi packages"
      ]
    },
    {
      "cell_type": "code",
      "execution_count": 9,
      "id": "Z7eyw2klAAcG",
      "metadata": {
        "id": "Z7eyw2klAAcG",
        "colab": {
          "base_uri": "https://localhost:8080/"
        },
        "outputId": "2ccba8b7-b4c3-416d-a242-89db2d69e8bf"
      },
      "outputs": [
        {
          "output_type": "stream",
          "name": "stdout",
          "text": [
            "Looking in indexes: https://pypi.org/simple, https://us-python.pkg.dev/colab-wheels/public/simple/\n",
            "Collecting gurobipy_pandas\n",
            "  Downloading gurobipy_pandas-1.0.0-py3-none-any.whl (18 kB)\n",
            "Requirement already satisfied: pandas>=1.0 in /usr/local/lib/python3.10/dist-packages (from gurobipy_pandas) (1.5.3)\n",
            "Collecting gurobipy>=9.1\n",
            "  Downloading gurobipy-10.0.1-cp310-cp310-manylinux2014_x86_64.whl (12.7 MB)\n",
            "\u001b[2K     \u001b[90m━━━━━━━━━━━━━━━━━━━━━━━━━━━━━━━━━━━━━━━━\u001b[0m \u001b[32m12.7/12.7 MB\u001b[0m \u001b[31m82.3 MB/s\u001b[0m eta \u001b[36m0:00:00\u001b[0m\n",
            "\u001b[?25hRequirement already satisfied: numpy>=1.21.0 in /usr/local/lib/python3.10/dist-packages (from pandas>=1.0->gurobipy_pandas) (1.22.4)\n",
            "Requirement already satisfied: pytz>=2020.1 in /usr/local/lib/python3.10/dist-packages (from pandas>=1.0->gurobipy_pandas) (2022.7.1)\n",
            "Requirement already satisfied: python-dateutil>=2.8.1 in /usr/local/lib/python3.10/dist-packages (from pandas>=1.0->gurobipy_pandas) (2.8.2)\n",
            "Requirement already satisfied: six>=1.5 in /usr/local/lib/python3.10/dist-packages (from python-dateutil>=2.8.1->pandas>=1.0->gurobipy_pandas) (1.16.0)\n",
            "Installing collected packages: gurobipy, gurobipy_pandas\n",
            "Successfully installed gurobipy-10.0.1 gurobipy_pandas-1.0.0\n",
            "Looking in indexes: https://pypi.org/simple, https://us-python.pkg.dev/colab-wheels/public/simple/\n",
            "Collecting gurobi-machinelearning\n",
            "  Downloading gurobi_machinelearning-1.2.0-py3-none-any.whl (59 kB)\n",
            "\u001b[2K     \u001b[90m━━━━━━━━━━━━━━━━━━━━━━━━━━━━━━━━━━━━━━━━\u001b[0m \u001b[32m59.3/59.3 kB\u001b[0m \u001b[31m3.3 MB/s\u001b[0m eta \u001b[36m0:00:00\u001b[0m\n",
            "\u001b[?25hRequirement already satisfied: numpy>=1.22.0 in /usr/local/lib/python3.10/dist-packages (from gurobi-machinelearning) (1.22.4)\n",
            "Requirement already satisfied: gurobipy>=10.0.0 in /usr/local/lib/python3.10/dist-packages (from gurobi-machinelearning) (10.0.1)\n",
            "Requirement already satisfied: scipy>=1.9.3 in /usr/local/lib/python3.10/dist-packages (from gurobi-machinelearning) (1.10.1)\n",
            "Installing collected packages: gurobi-machinelearning\n",
            "Successfully installed gurobi-machinelearning-1.2.0\n"
          ]
        }
      ],
      "source": [
        "%pip install gurobipy_pandas\n",
        "%pip install gurobi-machinelearning\n",
        "import gurobipy_pandas as gppd\n",
        "from gurobi_ml import add_predictor_constr"
      ]
    },
    {
      "cell_type": "markdown",
      "id": "5eaf9769",
      "metadata": {
        "id": "5eaf9769"
      },
      "source": [
        "### Create dataframe for the fixed features of the regression\n",
        "\n",
        "We now start creating the input of the regression in the optimization models with the features that are fixed.\n",
        "\n",
        "We use gurobipy-pandas that help to more easily create gurobipy models using pandas data."
      ]
    },
    {
      "cell_type": "markdown",
      "id": "ebb83dc2",
      "metadata": {
        "id": "ebb83dc2"
      },
      "source": [
        "First, create a dataframe with the features that are fixed in our optimization problem.\n",
        "It is indexed by the regions (we want to use one regression to predict demand for each region) and has the 3\n",
        "columns corresponding to the fixed features:\n",
        "\n",
        "* `year`\n",
        "* `peak` with the value of `peak_or_not`\n",
        "* `region` that repeat the names of the regions.\n",
        "\n",
        "Let's display the dataframe to make sure it is correct."
      ]
    },
    {
      "cell_type": "code",
      "execution_count": 10,
      "id": "e879833f",
      "metadata": {
        "colab": {
          "base_uri": "https://localhost:8080/",
          "height": 297
        },
        "id": "e879833f",
        "outputId": "d7405c58-cc4d-4b39-a87b-45ad20ef951e"
      },
      "outputs": [
        {
          "output_type": "execute_result",
          "data": {
            "text/plain": [
              "                      year  peak                region\n",
              "Great_Lakes           2022     1           Great_Lakes\n",
              "Midsouth              2022     1              Midsouth\n",
              "Northeast             2022     1             Northeast\n",
              "Northern_New_England  2022     1  Northern_New_England\n",
              "SouthCentral          2022     1          SouthCentral\n",
              "Southeast             2022     1             Southeast\n",
              "West                  2022     1                  West\n",
              "Plains                2022     1                Plains"
            ],
            "text/html": [
              "\n",
              "  <div id=\"df-299b9257-6664-428e-8b6a-e24071e4cab7\">\n",
              "    <div class=\"colab-df-container\">\n",
              "      <div>\n",
              "<style scoped>\n",
              "    .dataframe tbody tr th:only-of-type {\n",
              "        vertical-align: middle;\n",
              "    }\n",
              "\n",
              "    .dataframe tbody tr th {\n",
              "        vertical-align: top;\n",
              "    }\n",
              "\n",
              "    .dataframe thead th {\n",
              "        text-align: right;\n",
              "    }\n",
              "</style>\n",
              "<table border=\"1\" class=\"dataframe\">\n",
              "  <thead>\n",
              "    <tr style=\"text-align: right;\">\n",
              "      <th></th>\n",
              "      <th>year</th>\n",
              "      <th>peak</th>\n",
              "      <th>region</th>\n",
              "    </tr>\n",
              "  </thead>\n",
              "  <tbody>\n",
              "    <tr>\n",
              "      <th>Great_Lakes</th>\n",
              "      <td>2022</td>\n",
              "      <td>1</td>\n",
              "      <td>Great_Lakes</td>\n",
              "    </tr>\n",
              "    <tr>\n",
              "      <th>Midsouth</th>\n",
              "      <td>2022</td>\n",
              "      <td>1</td>\n",
              "      <td>Midsouth</td>\n",
              "    </tr>\n",
              "    <tr>\n",
              "      <th>Northeast</th>\n",
              "      <td>2022</td>\n",
              "      <td>1</td>\n",
              "      <td>Northeast</td>\n",
              "    </tr>\n",
              "    <tr>\n",
              "      <th>Northern_New_England</th>\n",
              "      <td>2022</td>\n",
              "      <td>1</td>\n",
              "      <td>Northern_New_England</td>\n",
              "    </tr>\n",
              "    <tr>\n",
              "      <th>SouthCentral</th>\n",
              "      <td>2022</td>\n",
              "      <td>1</td>\n",
              "      <td>SouthCentral</td>\n",
              "    </tr>\n",
              "    <tr>\n",
              "      <th>Southeast</th>\n",
              "      <td>2022</td>\n",
              "      <td>1</td>\n",
              "      <td>Southeast</td>\n",
              "    </tr>\n",
              "    <tr>\n",
              "      <th>West</th>\n",
              "      <td>2022</td>\n",
              "      <td>1</td>\n",
              "      <td>West</td>\n",
              "    </tr>\n",
              "    <tr>\n",
              "      <th>Plains</th>\n",
              "      <td>2022</td>\n",
              "      <td>1</td>\n",
              "      <td>Plains</td>\n",
              "    </tr>\n",
              "  </tbody>\n",
              "</table>\n",
              "</div>\n",
              "      <button class=\"colab-df-convert\" onclick=\"convertToInteractive('df-299b9257-6664-428e-8b6a-e24071e4cab7')\"\n",
              "              title=\"Convert this dataframe to an interactive table.\"\n",
              "              style=\"display:none;\">\n",
              "        \n",
              "  <svg xmlns=\"http://www.w3.org/2000/svg\" height=\"24px\"viewBox=\"0 0 24 24\"\n",
              "       width=\"24px\">\n",
              "    <path d=\"M0 0h24v24H0V0z\" fill=\"none\"/>\n",
              "    <path d=\"M18.56 5.44l.94 2.06.94-2.06 2.06-.94-2.06-.94-.94-2.06-.94 2.06-2.06.94zm-11 1L8.5 8.5l.94-2.06 2.06-.94-2.06-.94L8.5 2.5l-.94 2.06-2.06.94zm10 10l.94 2.06.94-2.06 2.06-.94-2.06-.94-.94-2.06-.94 2.06-2.06.94z\"/><path d=\"M17.41 7.96l-1.37-1.37c-.4-.4-.92-.59-1.43-.59-.52 0-1.04.2-1.43.59L10.3 9.45l-7.72 7.72c-.78.78-.78 2.05 0 2.83L4 21.41c.39.39.9.59 1.41.59.51 0 1.02-.2 1.41-.59l7.78-7.78 2.81-2.81c.8-.78.8-2.07 0-2.86zM5.41 20L4 18.59l7.72-7.72 1.47 1.35L5.41 20z\"/>\n",
              "  </svg>\n",
              "      </button>\n",
              "      \n",
              "  <style>\n",
              "    .colab-df-container {\n",
              "      display:flex;\n",
              "      flex-wrap:wrap;\n",
              "      gap: 12px;\n",
              "    }\n",
              "\n",
              "    .colab-df-convert {\n",
              "      background-color: #E8F0FE;\n",
              "      border: none;\n",
              "      border-radius: 50%;\n",
              "      cursor: pointer;\n",
              "      display: none;\n",
              "      fill: #1967D2;\n",
              "      height: 32px;\n",
              "      padding: 0 0 0 0;\n",
              "      width: 32px;\n",
              "    }\n",
              "\n",
              "    .colab-df-convert:hover {\n",
              "      background-color: #E2EBFA;\n",
              "      box-shadow: 0px 1px 2px rgba(60, 64, 67, 0.3), 0px 1px 3px 1px rgba(60, 64, 67, 0.15);\n",
              "      fill: #174EA6;\n",
              "    }\n",
              "\n",
              "    [theme=dark] .colab-df-convert {\n",
              "      background-color: #3B4455;\n",
              "      fill: #D2E3FC;\n",
              "    }\n",
              "\n",
              "    [theme=dark] .colab-df-convert:hover {\n",
              "      background-color: #434B5C;\n",
              "      box-shadow: 0px 1px 3px 1px rgba(0, 0, 0, 0.15);\n",
              "      filter: drop-shadow(0px 1px 2px rgba(0, 0, 0, 0.3));\n",
              "      fill: #FFFFFF;\n",
              "    }\n",
              "  </style>\n",
              "\n",
              "      <script>\n",
              "        const buttonEl =\n",
              "          document.querySelector('#df-299b9257-6664-428e-8b6a-e24071e4cab7 button.colab-df-convert');\n",
              "        buttonEl.style.display =\n",
              "          google.colab.kernel.accessAllowed ? 'block' : 'none';\n",
              "\n",
              "        async function convertToInteractive(key) {\n",
              "          const element = document.querySelector('#df-299b9257-6664-428e-8b6a-e24071e4cab7');\n",
              "          const dataTable =\n",
              "            await google.colab.kernel.invokeFunction('convertToInteractive',\n",
              "                                                     [key], {});\n",
              "          if (!dataTable) return;\n",
              "\n",
              "          const docLinkHtml = 'Like what you see? Visit the ' +\n",
              "            '<a target=\"_blank\" href=https://colab.research.google.com/notebooks/data_table.ipynb>data table notebook</a>'\n",
              "            + ' to learn more about interactive tables.';\n",
              "          element.innerHTML = '';\n",
              "          dataTable['output_type'] = 'display_data';\n",
              "          await google.colab.output.renderOutput(dataTable, element);\n",
              "          const docLink = document.createElement('div');\n",
              "          docLink.innerHTML = docLinkHtml;\n",
              "          element.appendChild(docLink);\n",
              "        }\n",
              "      </script>\n",
              "    </div>\n",
              "  </div>\n",
              "  "
            ]
          },
          "metadata": {},
          "execution_count": 10
        }
      ],
      "source": [
        "feats = pd.DataFrame(\n",
        "    data={\n",
        "        \"year\": year,\n",
        "        \"peak\": peak_or_not,\n",
        "        \"region\": regions,\n",
        "    },\n",
        "    index=regions\n",
        ")\n",
        "feats"
      ]
    },
    {
      "cell_type": "markdown",
      "id": "5103dcd2",
      "metadata": {
        "id": "5103dcd2"
      },
      "source": [
        "### Decision Variables\n",
        "\n",
        "Let us now define the decision variables. In our model, we want to store the\n",
        "price and number of avocados allocated to each region. We also want variables\n",
        "that track how many avocados are predicted to be sold and how many are predicted\n",
        "to be wasted. The following notation is used to model these decision variables.\n",
        "\n",
        "- $p$ the price of an avocado ($\\$$) in each region\n",
        "- $x$ the number of avocados supplied to each region\n",
        "- $s$ the predicted number of avocados sold in each region\n",
        "- $w$ the predicted number of avocados wasted in each region\n",
        "- $d$ the predicted demand in each region\n",
        "\n",
        "All those variables are created using gurobipy-pandas, with the function `gppd.add_vars` they are given the same index as the `data` dataframe."
      ]
    },
    {
      "cell_type": "code",
      "execution_count": 11,
      "id": "5da3e84b",
      "metadata": {
        "colab": {
          "base_uri": "https://localhost:8080/"
        },
        "id": "5da3e84b",
        "outputId": "1c3ee3c2-09d1-4197-a011-1fee44744491"
      },
      "outputs": [
        {
          "output_type": "stream",
          "name": "stdout",
          "text": [
            "Restricted license - for non-production use only - expires 2024-10-28\n"
          ]
        },
        {
          "output_type": "execute_result",
          "data": {
            "text/plain": [
              "Great_Lakes                      <gurobi.Var log_price[Great_Lakes]>\n",
              "Midsouth                            <gurobi.Var log_price[Midsouth]>\n",
              "Northeast                          <gurobi.Var log_price[Northeast]>\n",
              "Northern_New_England    <gurobi.Var log_price[Northern_New_England]>\n",
              "SouthCentral                    <gurobi.Var log_price[SouthCentral]>\n",
              "Southeast                          <gurobi.Var log_price[Southeast]>\n",
              "West                                    <gurobi.Var log_price[West]>\n",
              "Plains                                <gurobi.Var log_price[Plains]>\n",
              "Name: log_price, dtype: object"
            ]
          },
          "metadata": {},
          "execution_count": 11
        }
      ],
      "source": [
        "import gurobipy as gp\n",
        "\n",
        "m = gp.Model(\"Avocado_Price_Allocation\")\n",
        "\n",
        "p = gppd.add_vars(m, data, name=\"log_price\", lb=a_min, ub=a_max) # price of an avocado for each region\n",
        "x = gppd.add_vars(m, data, name=\"x\", lb='min_delivery', ub='max_delivery') # number of avocados supplied to each reagion\n",
        "s = gppd.add_vars(m, data, name=\"s\") # predicted amount of sales in each region for the given price\n",
        "w = gppd.add_vars(m, data, name=\"w\") # excess wasteage in each region\n",
        "d = gppd.add_vars(m, data, lb=-gp.GRB.INFINITY, name=\"demand\") # Add variables for the regression\n",
        "\n",
        "m.update()\n",
        "\n",
        "# Display one of the variables\n",
        "p"
      ]
    },
    {
      "cell_type": "markdown",
      "id": "5a3bf602",
      "metadata": {
        "id": "5a3bf602"
      },
      "source": [
        "### Add the Supply Constraint\n",
        "\n",
        "We now introduce the constraints. The first constraint is to make sure that the\n",
        "total number of avocados supplied is equal to $B$, which can be mathematically\n",
        "expressed as follows.\n",
        "\n",
        "\\begin{align*} \\sum_{r} x_r &= B \\end{align*}\n"
      ]
    },
    {
      "cell_type": "code",
      "execution_count": 12,
      "id": "071c45f9",
      "metadata": {
        "id": "071c45f9"
      },
      "outputs": [],
      "source": [
        "m.addConstr(x.sum() == B)\n",
        "m.update()"
      ]
    },
    {
      "cell_type": "markdown",
      "id": "59009e4d",
      "metadata": {
        "id": "59009e4d"
      },
      "source": [
        "### Add Constraints That Define Sales Quantity\n",
        "\n",
        "As a quick reminder, the sales quantity is the minimum of the allocated quantity and the predicted demand, i.e., $s_r = \\min \\{x_r,d_r(p_r)\\}$ This relationship can be modeled by the following two constraints for each region $r$.\n",
        "\n",
        "\\begin{align*} s_r &\\leq x_r  \\\\\n",
        "s_r &\\leq d(p_r,r) \\end{align*}\n",
        "\n",
        "In this case, we use gurobipy-pandas `add_constrs` function, which is intuitive to use given the inequalities above."
      ]
    },
    {
      "cell_type": "code",
      "execution_count": 13,
      "id": "c5323898",
      "metadata": {
        "id": "c5323898"
      },
      "outputs": [],
      "source": [
        "gppd.add_constrs(m, s, gp.GRB.LESS_EQUAL, x)\n",
        "gppd.add_constrs(m, s, gp.GRB.LESS_EQUAL, d)\n",
        "m.update()"
      ]
    },
    {
      "cell_type": "markdown",
      "id": "bf71c2f4",
      "metadata": {
        "id": "bf71c2f4"
      },
      "source": [
        "### Add the Wastage Constraints\n",
        "\n",
        "Finally, we should define the predicted wastage in each region, given by the\n",
        "supplied quantity that is not predicted to be sold. We can express this\n",
        "mathematically for each region $r$.\n",
        "\n",
        "\\begin{align*} w_r &= x_r - s_r \\end{align*}"
      ]
    },
    {
      "cell_type": "code",
      "execution_count": 14,
      "id": "e3a28ede",
      "metadata": {
        "id": "e3a28ede"
      },
      "outputs": [],
      "source": [
        "gppd.add_constrs(m, w, gp.GRB.EQUAL, x - s)\n",
        "m.update()"
      ]
    },
    {
      "cell_type": "markdown",
      "id": "0614c0c1",
      "metadata": {
        "id": "0614c0c1"
      },
      "source": [
        "### Add the constraints to predict demand\n",
        "First, we create our full input for the predictor constraint. We concatenate the `p` variables and the fixed features. Remember that the predicted price is a function of region, year, and peak/off-peak season."
      ]
    },
    {
      "cell_type": "code",
      "execution_count": 15,
      "id": "efaf9cea",
      "metadata": {
        "colab": {
          "base_uri": "https://localhost:8080/",
          "height": 297
        },
        "id": "efaf9cea",
        "outputId": "748de1d9-8e2b-4ae4-e11c-72d24315209b"
      },
      "outputs": [
        {
          "output_type": "execute_result",
          "data": {
            "text/plain": [
              "                                    region  year  peak  \\\n",
              "Great_Lakes                    Great_Lakes  2022     1   \n",
              "Midsouth                          Midsouth  2022     1   \n",
              "Northeast                        Northeast  2022     1   \n",
              "Northern_New_England  Northern_New_England  2022     1   \n",
              "SouthCentral                  SouthCentral  2022     1   \n",
              "Southeast                        Southeast  2022     1   \n",
              "West                                  West  2022     1   \n",
              "Plains                              Plains  2022     1   \n",
              "\n",
              "                                                         log_price  \n",
              "Great_Lakes                    <gurobi.Var log_price[Great_Lakes]>  \n",
              "Midsouth                          <gurobi.Var log_price[Midsouth]>  \n",
              "Northeast                        <gurobi.Var log_price[Northeast]>  \n",
              "Northern_New_England  <gurobi.Var log_price[Northern_New_England]>  \n",
              "SouthCentral                  <gurobi.Var log_price[SouthCentral]>  \n",
              "Southeast                        <gurobi.Var log_price[Southeast]>  \n",
              "West                                  <gurobi.Var log_price[West]>  \n",
              "Plains                              <gurobi.Var log_price[Plains]>  "
            ],
            "text/html": [
              "\n",
              "  <div id=\"df-0d8f5649-dfac-45c0-b8e3-a9f73b3bdfcf\">\n",
              "    <div class=\"colab-df-container\">\n",
              "      <div>\n",
              "<style scoped>\n",
              "    .dataframe tbody tr th:only-of-type {\n",
              "        vertical-align: middle;\n",
              "    }\n",
              "\n",
              "    .dataframe tbody tr th {\n",
              "        vertical-align: top;\n",
              "    }\n",
              "\n",
              "    .dataframe thead th {\n",
              "        text-align: right;\n",
              "    }\n",
              "</style>\n",
              "<table border=\"1\" class=\"dataframe\">\n",
              "  <thead>\n",
              "    <tr style=\"text-align: right;\">\n",
              "      <th></th>\n",
              "      <th>region</th>\n",
              "      <th>year</th>\n",
              "      <th>peak</th>\n",
              "      <th>log_price</th>\n",
              "    </tr>\n",
              "  </thead>\n",
              "  <tbody>\n",
              "    <tr>\n",
              "      <th>Great_Lakes</th>\n",
              "      <td>Great_Lakes</td>\n",
              "      <td>2022</td>\n",
              "      <td>1</td>\n",
              "      <td>&lt;gurobi.Var log_price[Great_Lakes]&gt;</td>\n",
              "    </tr>\n",
              "    <tr>\n",
              "      <th>Midsouth</th>\n",
              "      <td>Midsouth</td>\n",
              "      <td>2022</td>\n",
              "      <td>1</td>\n",
              "      <td>&lt;gurobi.Var log_price[Midsouth]&gt;</td>\n",
              "    </tr>\n",
              "    <tr>\n",
              "      <th>Northeast</th>\n",
              "      <td>Northeast</td>\n",
              "      <td>2022</td>\n",
              "      <td>1</td>\n",
              "      <td>&lt;gurobi.Var log_price[Northeast]&gt;</td>\n",
              "    </tr>\n",
              "    <tr>\n",
              "      <th>Northern_New_England</th>\n",
              "      <td>Northern_New_England</td>\n",
              "      <td>2022</td>\n",
              "      <td>1</td>\n",
              "      <td>&lt;gurobi.Var log_price[Northern_New_England]&gt;</td>\n",
              "    </tr>\n",
              "    <tr>\n",
              "      <th>SouthCentral</th>\n",
              "      <td>SouthCentral</td>\n",
              "      <td>2022</td>\n",
              "      <td>1</td>\n",
              "      <td>&lt;gurobi.Var log_price[SouthCentral]&gt;</td>\n",
              "    </tr>\n",
              "    <tr>\n",
              "      <th>Southeast</th>\n",
              "      <td>Southeast</td>\n",
              "      <td>2022</td>\n",
              "      <td>1</td>\n",
              "      <td>&lt;gurobi.Var log_price[Southeast]&gt;</td>\n",
              "    </tr>\n",
              "    <tr>\n",
              "      <th>West</th>\n",
              "      <td>West</td>\n",
              "      <td>2022</td>\n",
              "      <td>1</td>\n",
              "      <td>&lt;gurobi.Var log_price[West]&gt;</td>\n",
              "    </tr>\n",
              "    <tr>\n",
              "      <th>Plains</th>\n",
              "      <td>Plains</td>\n",
              "      <td>2022</td>\n",
              "      <td>1</td>\n",
              "      <td>&lt;gurobi.Var log_price[Plains]&gt;</td>\n",
              "    </tr>\n",
              "  </tbody>\n",
              "</table>\n",
              "</div>\n",
              "      <button class=\"colab-df-convert\" onclick=\"convertToInteractive('df-0d8f5649-dfac-45c0-b8e3-a9f73b3bdfcf')\"\n",
              "              title=\"Convert this dataframe to an interactive table.\"\n",
              "              style=\"display:none;\">\n",
              "        \n",
              "  <svg xmlns=\"http://www.w3.org/2000/svg\" height=\"24px\"viewBox=\"0 0 24 24\"\n",
              "       width=\"24px\">\n",
              "    <path d=\"M0 0h24v24H0V0z\" fill=\"none\"/>\n",
              "    <path d=\"M18.56 5.44l.94 2.06.94-2.06 2.06-.94-2.06-.94-.94-2.06-.94 2.06-2.06.94zm-11 1L8.5 8.5l.94-2.06 2.06-.94-2.06-.94L8.5 2.5l-.94 2.06-2.06.94zm10 10l.94 2.06.94-2.06 2.06-.94-2.06-.94-.94-2.06-.94 2.06-2.06.94z\"/><path d=\"M17.41 7.96l-1.37-1.37c-.4-.4-.92-.59-1.43-.59-.52 0-1.04.2-1.43.59L10.3 9.45l-7.72 7.72c-.78.78-.78 2.05 0 2.83L4 21.41c.39.39.9.59 1.41.59.51 0 1.02-.2 1.41-.59l7.78-7.78 2.81-2.81c.8-.78.8-2.07 0-2.86zM5.41 20L4 18.59l7.72-7.72 1.47 1.35L5.41 20z\"/>\n",
              "  </svg>\n",
              "      </button>\n",
              "      \n",
              "  <style>\n",
              "    .colab-df-container {\n",
              "      display:flex;\n",
              "      flex-wrap:wrap;\n",
              "      gap: 12px;\n",
              "    }\n",
              "\n",
              "    .colab-df-convert {\n",
              "      background-color: #E8F0FE;\n",
              "      border: none;\n",
              "      border-radius: 50%;\n",
              "      cursor: pointer;\n",
              "      display: none;\n",
              "      fill: #1967D2;\n",
              "      height: 32px;\n",
              "      padding: 0 0 0 0;\n",
              "      width: 32px;\n",
              "    }\n",
              "\n",
              "    .colab-df-convert:hover {\n",
              "      background-color: #E2EBFA;\n",
              "      box-shadow: 0px 1px 2px rgba(60, 64, 67, 0.3), 0px 1px 3px 1px rgba(60, 64, 67, 0.15);\n",
              "      fill: #174EA6;\n",
              "    }\n",
              "\n",
              "    [theme=dark] .colab-df-convert {\n",
              "      background-color: #3B4455;\n",
              "      fill: #D2E3FC;\n",
              "    }\n",
              "\n",
              "    [theme=dark] .colab-df-convert:hover {\n",
              "      background-color: #434B5C;\n",
              "      box-shadow: 0px 1px 3px 1px rgba(0, 0, 0, 0.15);\n",
              "      filter: drop-shadow(0px 1px 2px rgba(0, 0, 0, 0.3));\n",
              "      fill: #FFFFFF;\n",
              "    }\n",
              "  </style>\n",
              "\n",
              "      <script>\n",
              "        const buttonEl =\n",
              "          document.querySelector('#df-0d8f5649-dfac-45c0-b8e3-a9f73b3bdfcf button.colab-df-convert');\n",
              "        buttonEl.style.display =\n",
              "          google.colab.kernel.accessAllowed ? 'block' : 'none';\n",
              "\n",
              "        async function convertToInteractive(key) {\n",
              "          const element = document.querySelector('#df-0d8f5649-dfac-45c0-b8e3-a9f73b3bdfcf');\n",
              "          const dataTable =\n",
              "            await google.colab.kernel.invokeFunction('convertToInteractive',\n",
              "                                                     [key], {});\n",
              "          if (!dataTable) return;\n",
              "\n",
              "          const docLinkHtml = 'Like what you see? Visit the ' +\n",
              "            '<a target=\"_blank\" href=https://colab.research.google.com/notebooks/data_table.ipynb>data table notebook</a>'\n",
              "            + ' to learn more about interactive tables.';\n",
              "          element.innerHTML = '';\n",
              "          dataTable['output_type'] = 'display_data';\n",
              "          await google.colab.output.renderOutput(dataTable, element);\n",
              "          const docLink = document.createElement('div');\n",
              "          docLink.innerHTML = docLinkHtml;\n",
              "          element.appendChild(docLink);\n",
              "        }\n",
              "      </script>\n",
              "    </div>\n",
              "  </div>\n",
              "  "
            ]
          },
          "metadata": {},
          "execution_count": 15
        }
      ],
      "source": [
        "m_feats = pd.concat([feats, p], axis=1)[[\"region\", \"year\", \"peak\",\"log_price\"]]\n",
        "m_feats"
      ]
    },
    {
      "cell_type": "markdown",
      "id": "8f2dc88f",
      "metadata": {
        "id": "8f2dc88f"
      },
      "source": [
        "Now, we just call\n",
        "[add_predictor_constr](https://gurobi-machinelearning.readthedocs.io/en/stable/api/AbstractPredictorConstr.html#gurobi_ml.add_predictor_constr)\n",
        "to insert the constraints linking the features and the demand into the model `m`.\n",
        "\n",
        "It is important that you keep the columns in the order above, otherwise you will see an error. The columns must be in the same order as the training data. "
      ]
    },
    {
      "cell_type": "code",
      "execution_count": 16,
      "id": "200c4cb9",
      "metadata": {
        "colab": {
          "base_uri": "https://localhost:8080/",
          "height": 324
        },
        "id": "200c4cb9",
        "outputId": "2abbc876-c6b5-4ad3-ebdc-22d4b13e0e5e"
      },
      "outputs": [
        {
          "output_type": "error",
          "ename": "UnboundLocalError",
          "evalue": "ignored",
          "traceback": [
            "\u001b[0;31m---------------------------------------------------------------------------\u001b[0m",
            "\u001b[0;31mUnboundLocalError\u001b[0m                         Traceback (most recent call last)",
            "\u001b[0;32m<ipython-input-16-dfaa36de4a08>\u001b[0m in \u001b[0;36m<cell line: 1>\u001b[0;34m()\u001b[0m\n\u001b[0;32m----> 1\u001b[0;31m \u001b[0mpred_constr\u001b[0m \u001b[0;34m=\u001b[0m \u001b[0madd_predictor_constr\u001b[0m\u001b[0;34m(\u001b[0m\u001b[0mm\u001b[0m\u001b[0;34m,\u001b[0m \u001b[0mreg\u001b[0m\u001b[0;34m,\u001b[0m \u001b[0mm_feats\u001b[0m\u001b[0;34m,\u001b[0m \u001b[0md\u001b[0m\u001b[0;34m)\u001b[0m\u001b[0;34m\u001b[0m\u001b[0;34m\u001b[0m\u001b[0m\n\u001b[0m\u001b[1;32m      2\u001b[0m \u001b[0mpred_constr\u001b[0m\u001b[0;34m.\u001b[0m\u001b[0mprint_stats\u001b[0m\u001b[0;34m(\u001b[0m\u001b[0;34m)\u001b[0m\u001b[0;34m\u001b[0m\u001b[0;34m\u001b[0m\u001b[0m\n",
            "\u001b[0;32m/usr/local/lib/python3.10/dist-packages/gurobi_ml/add_predictor.py\u001b[0m in \u001b[0;36madd_predictor_constr\u001b[0;34m(gp_model, predictor, input_vars, output_vars, **kwargs)\u001b[0m\n\u001b[1;32m     79\u001b[0m     \u001b[0;32mif\u001b[0m \u001b[0mconvertor\u001b[0m \u001b[0;32mis\u001b[0m \u001b[0;32mNone\u001b[0m\u001b[0;34m:\u001b[0m\u001b[0;34m\u001b[0m\u001b[0;34m\u001b[0m\u001b[0m\n\u001b[1;32m     80\u001b[0m         \u001b[0;32mraise\u001b[0m \u001b[0mNotRegistered\u001b[0m\u001b[0;34m(\u001b[0m\u001b[0mtype\u001b[0m\u001b[0;34m(\u001b[0m\u001b[0mpredictor\u001b[0m\u001b[0;34m)\u001b[0m\u001b[0;34m.\u001b[0m\u001b[0m__name__\u001b[0m\u001b[0;34m)\u001b[0m\u001b[0;34m\u001b[0m\u001b[0;34m\u001b[0m\u001b[0m\n\u001b[0;32m---> 81\u001b[0;31m     \u001b[0;32mreturn\u001b[0m \u001b[0mconvertor\u001b[0m\u001b[0;34m(\u001b[0m\u001b[0mgp_model\u001b[0m\u001b[0;34m,\u001b[0m \u001b[0mpredictor\u001b[0m\u001b[0;34m,\u001b[0m \u001b[0minput_vars\u001b[0m\u001b[0;34m,\u001b[0m \u001b[0moutput_vars\u001b[0m\u001b[0;34m,\u001b[0m \u001b[0;34m**\u001b[0m\u001b[0mkwargs\u001b[0m\u001b[0;34m)\u001b[0m\u001b[0;34m\u001b[0m\u001b[0;34m\u001b[0m\u001b[0m\n\u001b[0m",
            "\u001b[0;32m/usr/local/lib/python3.10/dist-packages/gurobi_ml/sklearn/pipeline.py\u001b[0m in \u001b[0;36madd_pipeline_constr\u001b[0;34m(gp_model, pipeline, input_vars, output_vars, **kwargs)\u001b[0m\n\u001b[1;32m     62\u001b[0m     \u001b[0;34m|\u001b[0m\u001b[0mVariablesDimensionsWarn\u001b[0m\u001b[0;34m|\u001b[0m\u001b[0;34m\u001b[0m\u001b[0;34m\u001b[0m\u001b[0m\n\u001b[1;32m     63\u001b[0m     \"\"\"\n\u001b[0;32m---> 64\u001b[0;31m     \u001b[0;32mreturn\u001b[0m \u001b[0mPipelineConstr\u001b[0m\u001b[0;34m(\u001b[0m\u001b[0mgp_model\u001b[0m\u001b[0;34m,\u001b[0m \u001b[0mpipeline\u001b[0m\u001b[0;34m,\u001b[0m \u001b[0minput_vars\u001b[0m\u001b[0;34m,\u001b[0m \u001b[0moutput_vars\u001b[0m\u001b[0;34m,\u001b[0m \u001b[0;34m**\u001b[0m\u001b[0mkwargs\u001b[0m\u001b[0;34m)\u001b[0m\u001b[0;34m\u001b[0m\u001b[0;34m\u001b[0m\u001b[0m\n\u001b[0m\u001b[1;32m     65\u001b[0m \u001b[0;34m\u001b[0m\u001b[0m\n\u001b[1;32m     66\u001b[0m \u001b[0;34m\u001b[0m\u001b[0m\n",
            "\u001b[0;32m/usr/local/lib/python3.10/dist-packages/gurobi_ml/sklearn/pipeline.py\u001b[0m in \u001b[0;36m__init__\u001b[0;34m(self, gp_model, pipeline, input_vars, output_vars, **kwargs)\u001b[0m\n\u001b[1;32m     75\u001b[0m         \u001b[0mself\u001b[0m\u001b[0;34m.\u001b[0m\u001b[0m_default_name\u001b[0m \u001b[0;34m=\u001b[0m \u001b[0;34m\"pipe\"\u001b[0m\u001b[0;34m\u001b[0m\u001b[0;34m\u001b[0m\u001b[0m\n\u001b[1;32m     76\u001b[0m         \u001b[0mSKgetter\u001b[0m\u001b[0;34m.\u001b[0m\u001b[0m__init__\u001b[0m\u001b[0;34m(\u001b[0m\u001b[0mself\u001b[0m\u001b[0;34m,\u001b[0m \u001b[0mpipeline\u001b[0m\u001b[0;34m,\u001b[0m \u001b[0minput_vars\u001b[0m\u001b[0;34m,\u001b[0m \u001b[0;34m**\u001b[0m\u001b[0mkwargs\u001b[0m\u001b[0;34m)\u001b[0m\u001b[0;34m\u001b[0m\u001b[0;34m\u001b[0m\u001b[0m\n\u001b[0;32m---> 77\u001b[0;31m         AbstractPredictorConstr.__init__(\n\u001b[0m\u001b[1;32m     78\u001b[0m             \u001b[0mself\u001b[0m\u001b[0;34m,\u001b[0m \u001b[0mgp_model\u001b[0m\u001b[0;34m,\u001b[0m \u001b[0minput_vars\u001b[0m\u001b[0;34m,\u001b[0m \u001b[0moutput_vars\u001b[0m\u001b[0;34m,\u001b[0m \u001b[0mvalidate_input\u001b[0m\u001b[0;34m=\u001b[0m\u001b[0;32mFalse\u001b[0m\u001b[0;34m,\u001b[0m \u001b[0;34m**\u001b[0m\u001b[0mkwargs\u001b[0m\u001b[0;34m\u001b[0m\u001b[0;34m\u001b[0m\u001b[0m\n\u001b[1;32m     79\u001b[0m         )\n",
            "\u001b[0;32m/usr/local/lib/python3.10/dist-packages/gurobi_ml/modeling/base_predictor_constr.py\u001b[0m in \u001b[0;36m__init__\u001b[0;34m(self, gp_model, input_vars, output_vars, **kwargs)\u001b[0m\n\u001b[1;32m     42\u001b[0m         \u001b[0mself\u001b[0m\u001b[0;34m.\u001b[0m\u001b[0m_input\u001b[0m \u001b[0;34m=\u001b[0m \u001b[0minput_vars\u001b[0m\u001b[0;34m\u001b[0m\u001b[0;34m\u001b[0m\u001b[0m\n\u001b[1;32m     43\u001b[0m         \u001b[0mself\u001b[0m\u001b[0;34m.\u001b[0m\u001b[0m_output\u001b[0m \u001b[0;34m=\u001b[0m \u001b[0moutput_vars\u001b[0m\u001b[0;34m\u001b[0m\u001b[0;34m\u001b[0m\u001b[0m\n\u001b[0;32m---> 44\u001b[0;31m         \u001b[0mSubModel\u001b[0m\u001b[0;34m.\u001b[0m\u001b[0m__init__\u001b[0m\u001b[0;34m(\u001b[0m\u001b[0mself\u001b[0m\u001b[0;34m,\u001b[0m \u001b[0mgp_model\u001b[0m\u001b[0;34m,\u001b[0m \u001b[0;34m**\u001b[0m\u001b[0mkwargs\u001b[0m\u001b[0;34m)\u001b[0m\u001b[0;34m\u001b[0m\u001b[0;34m\u001b[0m\u001b[0m\n\u001b[0m\u001b[1;32m     45\u001b[0m \u001b[0;34m\u001b[0m\u001b[0m\n\u001b[1;32m     46\u001b[0m     \u001b[0;32mdef\u001b[0m \u001b[0m_validate\u001b[0m\u001b[0;34m(\u001b[0m\u001b[0mself\u001b[0m\u001b[0;34m)\u001b[0m\u001b[0;34m:\u001b[0m\u001b[0;34m\u001b[0m\u001b[0;34m\u001b[0m\u001b[0m\n",
            "\u001b[0;32m/usr/local/lib/python3.10/dist-packages/gurobi_ml/modeling/submodel.py\u001b[0m in \u001b[0;36m__init__\u001b[0;34m(self, gp_model, model_function, name, *args, **kwargs)\u001b[0m\n\u001b[1;32m    138\u001b[0m             \u001b[0mself\u001b[0m\u001b[0;34m.\u001b[0m\u001b[0m_timer\u001b[0m\u001b[0;34m.\u001b[0m\u001b[0mtiming\u001b[0m\u001b[0;34m(\u001b[0m\u001b[0;34m\"Model statistics\"\u001b[0m\u001b[0;34m)\u001b[0m\u001b[0;34m\u001b[0m\u001b[0;34m\u001b[0m\u001b[0m\n\u001b[1;32m    139\u001b[0m \u001b[0;34m\u001b[0m\u001b[0m\n\u001b[0;32m--> 140\u001b[0;31m         \u001b[0mself\u001b[0m\u001b[0;34m.\u001b[0m\u001b[0m_objects\u001b[0m \u001b[0;34m=\u001b[0m \u001b[0mself\u001b[0m\u001b[0;34m.\u001b[0m\u001b[0m_build_submodel\u001b[0m\u001b[0;34m(\u001b[0m\u001b[0mgp_model\u001b[0m\u001b[0;34m,\u001b[0m \u001b[0;34m*\u001b[0m\u001b[0margs\u001b[0m\u001b[0;34m,\u001b[0m \u001b[0;34m**\u001b[0m\u001b[0mkwargs\u001b[0m\u001b[0;34m)\u001b[0m\u001b[0;34m\u001b[0m\u001b[0;34m\u001b[0m\u001b[0m\n\u001b[0m\u001b[1;32m    141\u001b[0m \u001b[0;34m\u001b[0m\u001b[0m\n\u001b[1;32m    142\u001b[0m         \u001b[0;32mif\u001b[0m \u001b[0mself\u001b[0m\u001b[0;34m.\u001b[0m\u001b[0mverbose\u001b[0m\u001b[0;34m:\u001b[0m\u001b[0;34m\u001b[0m\u001b[0;34m\u001b[0m\u001b[0m\n",
            "\u001b[0;32m/usr/local/lib/python3.10/dist-packages/gurobi_ml/sklearn/pipeline.py\u001b[0m in \u001b[0;36m_build_submodel\u001b[0;34m(self, gp_model, *args, **kwargs)\u001b[0m\n\u001b[1;32m     86\u001b[0m         \u001b[0mdo\u001b[0m \u001b[0mit\u001b[0m\u001b[0;34m.\u001b[0m\u001b[0;34m\u001b[0m\u001b[0;34m\u001b[0m\u001b[0m\n\u001b[1;32m     87\u001b[0m         \"\"\"\n\u001b[0;32m---> 88\u001b[0;31m         \u001b[0mself\u001b[0m\u001b[0;34m.\u001b[0m\u001b[0m_mip_model\u001b[0m\u001b[0;34m(\u001b[0m\u001b[0;34m**\u001b[0m\u001b[0mkwargs\u001b[0m\u001b[0;34m)\u001b[0m\u001b[0;34m\u001b[0m\u001b[0;34m\u001b[0m\u001b[0m\n\u001b[0m\u001b[1;32m     89\u001b[0m         \u001b[0;32massert\u001b[0m \u001b[0mself\u001b[0m\u001b[0;34m.\u001b[0m\u001b[0moutput\u001b[0m \u001b[0;32mis\u001b[0m \u001b[0;32mnot\u001b[0m \u001b[0;32mNone\u001b[0m\u001b[0;34m\u001b[0m\u001b[0;34m\u001b[0m\u001b[0m\n\u001b[1;32m     90\u001b[0m         \u001b[0;32massert\u001b[0m \u001b[0mself\u001b[0m\u001b[0;34m.\u001b[0m\u001b[0minput\u001b[0m \u001b[0;32mis\u001b[0m \u001b[0;32mnot\u001b[0m \u001b[0;32mNone\u001b[0m\u001b[0;34m\u001b[0m\u001b[0;34m\u001b[0m\u001b[0m\n",
            "\u001b[0;32m/usr/local/lib/python3.10/dist-packages/gurobi_ml/sklearn/pipeline.py\u001b[0m in \u001b[0;36m_mip_model\u001b[0;34m(self, **kwargs)\u001b[0m\n\u001b[1;32m    111\u001b[0m                     \u001b[0;34mf\"I don't know how to deal with that object: {transformer}\"\u001b[0m\u001b[0;34m,\u001b[0m\u001b[0;34m\u001b[0m\u001b[0;34m\u001b[0m\u001b[0m\n\u001b[1;32m    112\u001b[0m                 )\n\u001b[0;32m--> 113\u001b[0;31m             \u001b[0msteps\u001b[0m\u001b[0;34m.\u001b[0m\u001b[0mappend\u001b[0m\u001b[0;34m(\u001b[0m\u001b[0mconvertor\u001b[0m\u001b[0;34m(\u001b[0m\u001b[0mgp_model\u001b[0m\u001b[0;34m,\u001b[0m \u001b[0mtransformer\u001b[0m\u001b[0;34m,\u001b[0m \u001b[0minput_vars\u001b[0m\u001b[0;34m,\u001b[0m \u001b[0;34m**\u001b[0m\u001b[0mkwargs\u001b[0m\u001b[0;34m)\u001b[0m\u001b[0;34m)\u001b[0m\u001b[0;34m\u001b[0m\u001b[0;34m\u001b[0m\u001b[0m\n\u001b[0m\u001b[1;32m    114\u001b[0m             \u001b[0minput_vars\u001b[0m \u001b[0;34m=\u001b[0m \u001b[0msteps\u001b[0m\u001b[0;34m[\u001b[0m\u001b[0;34m-\u001b[0m\u001b[0;36m1\u001b[0m\u001b[0;34m]\u001b[0m\u001b[0;34m.\u001b[0m\u001b[0moutput\u001b[0m\u001b[0;34m\u001b[0m\u001b[0;34m\u001b[0m\u001b[0m\n\u001b[1;32m    115\u001b[0m \u001b[0;34m\u001b[0m\u001b[0m\n",
            "\u001b[0;32m/usr/local/lib/python3.10/dist-packages/gurobi_ml/sklearn/column_transformer.py\u001b[0m in \u001b[0;36madd_column_transformer_constr\u001b[0;34m(gp_model, column_transformer, input_vars, **kwargs)\u001b[0m\n\u001b[1;32m    101\u001b[0m         \u001b[0mpolynomial_features\u001b[0m \u001b[0;32min\u001b[0m \u001b[0mit\u001b[0m\u001b[0;34m.\u001b[0m\u001b[0;34m\u001b[0m\u001b[0;34m\u001b[0m\u001b[0m\n\u001b[1;32m    102\u001b[0m     \"\"\"\n\u001b[0;32m--> 103\u001b[0;31m     \u001b[0;32mreturn\u001b[0m \u001b[0mColumnTransformerConstr\u001b[0m\u001b[0;34m(\u001b[0m\u001b[0mgp_model\u001b[0m\u001b[0;34m,\u001b[0m \u001b[0mcolumn_transformer\u001b[0m\u001b[0;34m,\u001b[0m \u001b[0minput_vars\u001b[0m\u001b[0;34m,\u001b[0m \u001b[0;34m**\u001b[0m\u001b[0mkwargs\u001b[0m\u001b[0;34m)\u001b[0m\u001b[0;34m\u001b[0m\u001b[0;34m\u001b[0m\u001b[0m\n\u001b[0m",
            "\u001b[0;32m/usr/local/lib/python3.10/dist-packages/gurobi_ml/sklearn/column_transformer.py\u001b[0m in \u001b[0;36m__init__\u001b[0;34m(self, gp_model, column_transformer, input_vars, **kwargs)\u001b[0m\n\u001b[1;32m     42\u001b[0m     \u001b[0;32mdef\u001b[0m \u001b[0m__init__\u001b[0m\u001b[0;34m(\u001b[0m\u001b[0mself\u001b[0m\u001b[0;34m,\u001b[0m \u001b[0mgp_model\u001b[0m\u001b[0;34m,\u001b[0m \u001b[0mcolumn_transformer\u001b[0m\u001b[0;34m,\u001b[0m \u001b[0minput_vars\u001b[0m\u001b[0;34m,\u001b[0m \u001b[0;34m**\u001b[0m\u001b[0mkwargs\u001b[0m\u001b[0;34m)\u001b[0m\u001b[0;34m:\u001b[0m\u001b[0;34m\u001b[0m\u001b[0;34m\u001b[0m\u001b[0m\n\u001b[1;32m     43\u001b[0m         \u001b[0mself\u001b[0m\u001b[0;34m.\u001b[0m\u001b[0m_default_name\u001b[0m \u001b[0;34m=\u001b[0m \u001b[0;34m\"col_trans\"\u001b[0m\u001b[0;34m\u001b[0m\u001b[0;34m\u001b[0m\u001b[0m\n\u001b[0;32m---> 44\u001b[0;31m         \u001b[0msuper\u001b[0m\u001b[0;34m(\u001b[0m\u001b[0;34m)\u001b[0m\u001b[0;34m.\u001b[0m\u001b[0m__init__\u001b[0m\u001b[0;34m(\u001b[0m\u001b[0mgp_model\u001b[0m\u001b[0;34m,\u001b[0m \u001b[0mcolumn_transformer\u001b[0m\u001b[0;34m,\u001b[0m \u001b[0minput_vars\u001b[0m\u001b[0;34m,\u001b[0m \u001b[0;34m**\u001b[0m\u001b[0mkwargs\u001b[0m\u001b[0;34m)\u001b[0m\u001b[0;34m\u001b[0m\u001b[0;34m\u001b[0m\u001b[0m\n\u001b[0m\u001b[1;32m     45\u001b[0m \u001b[0;34m\u001b[0m\u001b[0m\n\u001b[1;32m     46\u001b[0m     \u001b[0;31m# For this class we need to reimplement submodel because we don't want\u001b[0m\u001b[0;34m\u001b[0m\u001b[0;34m\u001b[0m\u001b[0m\n",
            "\u001b[0;32m/usr/local/lib/python3.10/dist-packages/gurobi_ml/sklearn/skgetter.py\u001b[0m in \u001b[0;36m__init__\u001b[0;34m(self, gp_model, transformer, input_vars, **kwargs)\u001b[0m\n\u001b[1;32m     92\u001b[0m             \u001b[0mself\u001b[0m\u001b[0;34m.\u001b[0m\u001b[0m_output_shape\u001b[0m \u001b[0;34m=\u001b[0m \u001b[0mtransformer\u001b[0m\u001b[0;34m.\u001b[0m\u001b[0mn_output_features_\u001b[0m\u001b[0;34m\u001b[0m\u001b[0;34m\u001b[0m\u001b[0m\n\u001b[1;32m     93\u001b[0m         \u001b[0mcheck_is_fitted\u001b[0m\u001b[0;34m(\u001b[0m\u001b[0mtransformer\u001b[0m\u001b[0;34m)\u001b[0m\u001b[0;34m\u001b[0m\u001b[0;34m\u001b[0m\u001b[0m\n\u001b[0;32m---> 94\u001b[0;31m         \u001b[0msuper\u001b[0m\u001b[0;34m(\u001b[0m\u001b[0;34m)\u001b[0m\u001b[0;34m.\u001b[0m\u001b[0m__init__\u001b[0m\u001b[0;34m(\u001b[0m\u001b[0mgp_model\u001b[0m\u001b[0;34m,\u001b[0m \u001b[0minput_vars\u001b[0m\u001b[0;34m,\u001b[0m \u001b[0;34m**\u001b[0m\u001b[0mkwargs\u001b[0m\u001b[0;34m)\u001b[0m\u001b[0;34m\u001b[0m\u001b[0;34m\u001b[0m\u001b[0m\n\u001b[0m\u001b[1;32m     95\u001b[0m \u001b[0;34m\u001b[0m\u001b[0m\n\u001b[1;32m     96\u001b[0m     \u001b[0;32mdef\u001b[0m \u001b[0mget_error\u001b[0m\u001b[0;34m(\u001b[0m\u001b[0mself\u001b[0m\u001b[0;34m)\u001b[0m\u001b[0;34m:\u001b[0m\u001b[0;34m\u001b[0m\u001b[0;34m\u001b[0m\u001b[0m\n",
            "\u001b[0;32m/usr/local/lib/python3.10/dist-packages/gurobi_ml/modeling/base_predictor_constr.py\u001b[0m in \u001b[0;36m__init__\u001b[0;34m(self, gp_model, input_vars, output_vars, **kwargs)\u001b[0m\n\u001b[1;32m     42\u001b[0m         \u001b[0mself\u001b[0m\u001b[0;34m.\u001b[0m\u001b[0m_input\u001b[0m \u001b[0;34m=\u001b[0m \u001b[0minput_vars\u001b[0m\u001b[0;34m\u001b[0m\u001b[0;34m\u001b[0m\u001b[0m\n\u001b[1;32m     43\u001b[0m         \u001b[0mself\u001b[0m\u001b[0;34m.\u001b[0m\u001b[0m_output\u001b[0m \u001b[0;34m=\u001b[0m \u001b[0moutput_vars\u001b[0m\u001b[0;34m\u001b[0m\u001b[0;34m\u001b[0m\u001b[0m\n\u001b[0;32m---> 44\u001b[0;31m         \u001b[0mSubModel\u001b[0m\u001b[0;34m.\u001b[0m\u001b[0m__init__\u001b[0m\u001b[0;34m(\u001b[0m\u001b[0mself\u001b[0m\u001b[0;34m,\u001b[0m \u001b[0mgp_model\u001b[0m\u001b[0;34m,\u001b[0m \u001b[0;34m**\u001b[0m\u001b[0mkwargs\u001b[0m\u001b[0;34m)\u001b[0m\u001b[0;34m\u001b[0m\u001b[0;34m\u001b[0m\u001b[0m\n\u001b[0m\u001b[1;32m     45\u001b[0m \u001b[0;34m\u001b[0m\u001b[0m\n\u001b[1;32m     46\u001b[0m     \u001b[0;32mdef\u001b[0m \u001b[0m_validate\u001b[0m\u001b[0;34m(\u001b[0m\u001b[0mself\u001b[0m\u001b[0;34m)\u001b[0m\u001b[0;34m:\u001b[0m\u001b[0;34m\u001b[0m\u001b[0;34m\u001b[0m\u001b[0m\n",
            "\u001b[0;32m/usr/local/lib/python3.10/dist-packages/gurobi_ml/modeling/submodel.py\u001b[0m in \u001b[0;36m__init__\u001b[0;34m(self, gp_model, model_function, name, *args, **kwargs)\u001b[0m\n\u001b[1;32m    138\u001b[0m             \u001b[0mself\u001b[0m\u001b[0;34m.\u001b[0m\u001b[0m_timer\u001b[0m\u001b[0;34m.\u001b[0m\u001b[0mtiming\u001b[0m\u001b[0;34m(\u001b[0m\u001b[0;34m\"Model statistics\"\u001b[0m\u001b[0;34m)\u001b[0m\u001b[0;34m\u001b[0m\u001b[0;34m\u001b[0m\u001b[0m\n\u001b[1;32m    139\u001b[0m \u001b[0;34m\u001b[0m\u001b[0m\n\u001b[0;32m--> 140\u001b[0;31m         \u001b[0mself\u001b[0m\u001b[0;34m.\u001b[0m\u001b[0m_objects\u001b[0m \u001b[0;34m=\u001b[0m \u001b[0mself\u001b[0m\u001b[0;34m.\u001b[0m\u001b[0m_build_submodel\u001b[0m\u001b[0;34m(\u001b[0m\u001b[0mgp_model\u001b[0m\u001b[0;34m,\u001b[0m \u001b[0;34m*\u001b[0m\u001b[0margs\u001b[0m\u001b[0;34m,\u001b[0m \u001b[0;34m**\u001b[0m\u001b[0mkwargs\u001b[0m\u001b[0;34m)\u001b[0m\u001b[0;34m\u001b[0m\u001b[0;34m\u001b[0m\u001b[0m\n\u001b[0m\u001b[1;32m    141\u001b[0m \u001b[0;34m\u001b[0m\u001b[0m\n\u001b[1;32m    142\u001b[0m         \u001b[0;32mif\u001b[0m \u001b[0mself\u001b[0m\u001b[0;34m.\u001b[0m\u001b[0mverbose\u001b[0m\u001b[0;34m:\u001b[0m\u001b[0;34m\u001b[0m\u001b[0;34m\u001b[0m\u001b[0m\n",
            "\u001b[0;32m/usr/local/lib/python3.10/dist-packages/gurobi_ml/sklearn/column_transformer.py\u001b[0m in \u001b[0;36m_build_submodel\u001b[0;34m(self, gp_model, *args, **kwargs)\u001b[0m\n\u001b[1;32m     54\u001b[0m         \u001b[0;32mif\u001b[0m \u001b[0mhasattr\u001b[0m\u001b[0;34m(\u001b[0m\u001b[0mself\u001b[0m\u001b[0;34m.\u001b[0m\u001b[0m_input\u001b[0m\u001b[0;34m,\u001b[0m \u001b[0;34m\"index\"\u001b[0m\u001b[0;34m)\u001b[0m\u001b[0;34m:\u001b[0m\u001b[0;34m\u001b[0m\u001b[0;34m\u001b[0m\u001b[0m\n\u001b[1;32m     55\u001b[0m             \u001b[0mself\u001b[0m\u001b[0;34m.\u001b[0m\u001b[0m_input_index\u001b[0m \u001b[0;34m=\u001b[0m \u001b[0m_input\u001b[0m\u001b[0;34m.\u001b[0m\u001b[0mindex\u001b[0m\u001b[0;34m\u001b[0m\u001b[0;34m\u001b[0m\u001b[0m\n\u001b[0;32m---> 56\u001b[0;31m         \u001b[0mself\u001b[0m\u001b[0;34m.\u001b[0m\u001b[0m_mip_model\u001b[0m\u001b[0;34m(\u001b[0m\u001b[0;34m**\u001b[0m\u001b[0mkwargs\u001b[0m\u001b[0;34m)\u001b[0m\u001b[0;34m\u001b[0m\u001b[0;34m\u001b[0m\u001b[0m\n\u001b[0m\u001b[1;32m     57\u001b[0m         \u001b[0;32massert\u001b[0m \u001b[0mself\u001b[0m\u001b[0;34m.\u001b[0m\u001b[0m_output\u001b[0m \u001b[0;32mis\u001b[0m \u001b[0;32mnot\u001b[0m \u001b[0;32mNone\u001b[0m\u001b[0;34m\u001b[0m\u001b[0;34m\u001b[0m\u001b[0m\n\u001b[1;32m     58\u001b[0m         \u001b[0;32mreturn\u001b[0m \u001b[0mself\u001b[0m\u001b[0;34m\u001b[0m\u001b[0;34m\u001b[0m\u001b[0m\n",
            "\u001b[0;32m/usr/local/lib/python3.10/dist-packages/gurobi_ml/sklearn/column_transformer.py\u001b[0m in \u001b[0;36m_mip_model\u001b[0;34m(self, **kwargs)\u001b[0m\n\u001b[1;32m     77\u001b[0m                     \u001b[0;32mif\u001b[0m \u001b[0mname\u001b[0m \u001b[0;32min\u001b[0m \u001b[0mtransformers\u001b[0m\u001b[0;34m:\u001b[0m\u001b[0;34m\u001b[0m\u001b[0;34m\u001b[0m\u001b[0m\n\u001b[1;32m     78\u001b[0m                         \u001b[0mtrans_constr\u001b[0m \u001b[0;34m=\u001b[0m \u001b[0mtransformers\u001b[0m\u001b[0;34m[\u001b[0m\u001b[0mname\u001b[0m\u001b[0;34m]\u001b[0m\u001b[0;34m(\u001b[0m\u001b[0mself\u001b[0m\u001b[0;34m.\u001b[0m\u001b[0m_gp_model\u001b[0m\u001b[0;34m,\u001b[0m \u001b[0mtrans\u001b[0m\u001b[0;34m,\u001b[0m \u001b[0mdata\u001b[0m\u001b[0;34m)\u001b[0m\u001b[0;34m\u001b[0m\u001b[0;34m\u001b[0m\u001b[0m\n\u001b[0;32m---> 79\u001b[0;31m                     \u001b[0mtransformed\u001b[0m\u001b[0;34m.\u001b[0m\u001b[0mappend\u001b[0m\u001b[0;34m(\u001b[0m\u001b[0mtrans_constr\u001b[0m\u001b[0;34m.\u001b[0m\u001b[0moutput\u001b[0m\u001b[0;34m.\u001b[0m\u001b[0mtolist\u001b[0m\u001b[0;34m(\u001b[0m\u001b[0;34m)\u001b[0m\u001b[0;34m)\u001b[0m\u001b[0;34m\u001b[0m\u001b[0;34m\u001b[0m\u001b[0m\n\u001b[0m\u001b[1;32m     80\u001b[0m                 \u001b[0;32melse\u001b[0m\u001b[0;34m:\u001b[0m\u001b[0;34m\u001b[0m\u001b[0;34m\u001b[0m\u001b[0m\n\u001b[1;32m     81\u001b[0m                     \u001b[0mtransformed\u001b[0m\u001b[0;34m.\u001b[0m\u001b[0mappend\u001b[0m\u001b[0;34m(\u001b[0m\u001b[0mtrans\u001b[0m\u001b[0;34m.\u001b[0m\u001b[0mtransform\u001b[0m\u001b[0;34m(\u001b[0m\u001b[0m_input\u001b[0m\u001b[0;34m.\u001b[0m\u001b[0mloc\u001b[0m\u001b[0;34m[\u001b[0m\u001b[0;34m:\u001b[0m\u001b[0;34m,\u001b[0m \u001b[0mcols\u001b[0m\u001b[0;34m]\u001b[0m\u001b[0;34m)\u001b[0m\u001b[0;34m)\u001b[0m\u001b[0;34m\u001b[0m\u001b[0;34m\u001b[0m\u001b[0m\n",
            "\u001b[0;31mUnboundLocalError\u001b[0m: local variable 'trans_constr' referenced before assignment"
          ]
        }
      ],
      "source": [
        "pred_constr = add_predictor_constr(m, reg, m_feats, d)\n",
        "pred_constr.print_stats()"
      ]
    },
    {
      "cell_type": "markdown",
      "id": "5e15e4ae",
      "metadata": {
        "id": "5e15e4ae"
      },
      "source": [
        "### Set the Objective\n",
        "\n",
        "The goal is to maximize the **net revenue**, which is the product of price and quantity, minus costs over all regions. This model assumes the purchase costs are fixed (since the amount $B$ is fixed) and are therefore not incorporated.\n",
        "\n",
        "Using the defined decision variables, the objective can be written as follows.\n",
        "\n",
        "\\begin{align} \\textrm{maximize} &  \\sum_{r}  (p_r * s_r - c_{waste} * w_r -\n",
        "c^r_{transport} * x_r)& \\end{align}"
      ]
    },
    {
      "cell_type": "code",
      "execution_count": null,
      "id": "703ff1b2",
      "metadata": {
        "id": "703ff1b2"
      },
      "outputs": [],
      "source": [
        "m.setObjective((p * s).sum() - c_waste * w.sum() - (c_transport * x).sum(),\n",
        "               gp.GRB.MAXIMIZE)"
      ]
    },
    {
      "cell_type": "markdown",
      "id": "cadd1721",
      "metadata": {
        "id": "cadd1721"
      },
      "source": [
        "### Fire Up the Solver\n",
        "\n",
        "In our model, the objective is **quadratic** since we take the product of price\n",
        "and the predicted sales, both of which are variables. Maximizing a quadratic\n",
        "term is said to be **non-convex**, and we specify this by setting the value of\n",
        "the [Gurobi NonConvex\n",
        "parameter](https://www.gurobi.com/documentation/10.0/refman/nonconvex.html) to be\n",
        "$2$."
      ]
    },
    {
      "cell_type": "code",
      "execution_count": null,
      "id": "06a42223",
      "metadata": {
        "id": "06a42223"
      },
      "outputs": [],
      "source": [
        "m.Params.NonConvex = 2\n",
        "m.optimize()"
      ]
    },
    {
      "cell_type": "markdown",
      "id": "b3474030",
      "metadata": {
        "id": "b3474030"
      },
      "source": [
        "The solver solved the optimization problem in less than a second. Let us now\n",
        "analyze the optimal solution by storing it in a Pandas dataframe."
      ]
    },
    {
      "cell_type": "code",
      "execution_count": null,
      "id": "ec0d106b",
      "metadata": {
        "id": "ec0d106b"
      },
      "outputs": [],
      "source": [
        "solution = pd.DataFrame(index=regions)\n",
        "\n",
        "solution[\"Price\"] = p.gppd.X\n",
        "solution[\"Allocated\"] = x.gppd.X\n",
        "solution[\"Sold\"] = s.gppd.X\n",
        "solution[\"Wasted\"] = w.gppd.X\n",
        "solution[\"Pred_demand\"] = d.gppd.X\n",
        "\n",
        "opt_revenue = m.ObjVal\n",
        "print(\"\\n The optimal net revenue: $%f million\" % opt_revenue)\n",
        "solution.round(4)"
      ]
    },
    {
      "cell_type": "markdown",
      "id": "34279917",
      "metadata": {
        "id": "34279917"
      },
      "source": [
        "We can also check the error in the estimate of the Gurobi solution for the regression model."
      ]
    },
    {
      "cell_type": "code",
      "execution_count": null,
      "id": "353149d2",
      "metadata": {
        "id": "353149d2"
      },
      "outputs": [],
      "source": [
        "print(\n",
        "    \"Maximum error in approximating the regression {:.6}\".format(\n",
        "        np.max(pred_constr.get_error())\n",
        "    )\n",
        ")"
      ]
    },
    {
      "cell_type": "markdown",
      "id": "c3b4a665",
      "metadata": {
        "id": "c3b4a665"
      },
      "source": [
        "This was in introductory look at using the Gurobi Machine Learning package. For more on this example, see the [Price Optimization example of Github](https://github.com/Gurobi/modeling-examples/tree/master/price_optimization)\n",
        "as well as how to work with the model interactively."
      ]
    },
    {
      "cell_type": "markdown",
      "id": "bc9fbba6",
      "metadata": {
        "id": "bc9fbba6",
        "nbsphinx": "hidden"
      },
      "source": [
        "Copyright © 2023 Gurobi Optimization, LLC"
      ]
    }
  ],
  "metadata": {
    "colab": {
      "provenance": [],
      "include_colab_link": true
    },
    "jupytext": {
      "formats": "ipynb///ipynb,myst///md:myst"
    },
    "kernelspec": {
      "display_name": "Python 3 (ipykernel)",
      "language": "python",
      "name": "python3"
    },
    "language_info": {
      "codemirror_mode": {
        "name": "ipython",
        "version": 3
      },
      "file_extension": ".py",
      "mimetype": "text/x-python",
      "name": "python",
      "nbconvert_exporter": "python",
      "pygments_lexer": "ipython3",
      "version": "3.9.7"
    },
    "license": {
      "full_text": "# Copyright © 2022 Gurobi Optimization, LLC\n#\n# Licensed under the Apache License, Version 2.0 (the \"License\");\n# you may not use this file except in compliance with the License.\n# You may obtain a copy of the License at\n#\n#     http://www.apache.org/licenses/LICENSE-2.0\n#\n# Unless required by applicable law or agreed to in writing, software\n# distributed under the License is distributed on an \"AS IS\" BASIS,\n# WITHOUT WARRANTIES OR CONDITIONS OF ANY KIND, either express or implied.\n# See the License for the specific language governing permissions and\n# limitations under the License.\n# =============================================================================="
    }
  },
  "nbformat": 4,
  "nbformat_minor": 5
}