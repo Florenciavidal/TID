{
  "cells": [
    {
      "cell_type": "markdown",
      "id": "7f7d69f9",
      "metadata": {
        "id": "7f7d69f9"
      },
      "source": [
        "Copyright © 2022 Gurobi Optimization, LLC\n",
        "\n",
        "# How Much Is Too Much? Avocado Pricing and Supply Using Mathematical Optimization\n",
        "\n",
        "A [Food Network article](https://www.foodnetwork.com/fn-dish/news/2018/3/avocado-unseats-banana-as-america-s-top-fruit-import-by-value) from March 2017 declared, \"Avocado unseats banana as America's top fruit import.\" This declaration is incomplete and debatable for reasons other than whether  avocado is a fruit. Avocados are expensive.\n",
        "\n",
        "As a supplier, setting an appropriate avocado price requires a delicate trade-off. \n",
        "Set it too high and you lose customers. Set it too low and you won't make a profit.\n",
        "Equipped with good data, the avocado pricing and supply problem is *ripe* with opportunities for demonstrating the power of optimization and data science.\n",
        "\n",
        "They say when life gives you avocados, make guacamole.\n",
        "Just like the perfect guacamole needs the right blend of onion, lemon and spices, finding an optimal avocado price needs the right blend of descriptive, predictive and prescriptive analytics.\n",
        "\n",
        "|<img src=\"https://github.com/Gurobi/modeling-examples/blob/master/price_optimization/avocado_image_grocery.jpeg?raw=1\" width=\"500\" align=\"center\">| \n",
        "|:--:|\n",
        "| <b>Avocados: a quintessential corner of a grocery store. Image Credits: [New York Post](https://nypost.com/2022/02/15/us-will-halt-mexico-avocado-imports-as-long-as-necessary/) </b>| \n",
        "\n",
        "\n",
        "**Goal**: Develop a data science pipeline for pricing and distribution of avocados to maximize revenue.\n",
        "\n",
        "This notebook walks through a decision-making pipeline that culminates in a mathematical optimization model.\n",
        "There are three stages: \n",
        "- First, understand the dataset and infer the relationships between categories such as the sales, price, region, and seasonal trends.\n",
        "- Second, build a prediction model that predicts the demand for avocados as a function of price, region, year and the seasonality.\n",
        "- Third, design an optimization problem that sets the optimal price and supply quantity to maximize the net revenue while incorporating costs for wastage and transportation.\n"
      ]
    },
    {
      "cell_type": "markdown",
      "id": "2e5dc427",
      "metadata": {
        "id": "2e5dc427"
      },
      "source": [
        "## Load the Packages and the Datasets\n",
        "\n",
        "We use real sales data provided by the [Hass Avocado Board](https://hassavocadoboard.com/) (HAB), whose aim is to \"make avocados America’s most popular fruit\". This dataset contains consolidated information on several years' worth of market prices and sales of avocados. \n",
        "\n",
        "We will now load the following packages for analyzing and visualizing the data."
      ]
    },
    {
      "cell_type": "code",
      "execution_count": 191,
      "id": "d0d518e0-8f9f-465e-a8da-3b66c1e3761e",
      "metadata": {
        "colab": {
          "base_uri": "https://localhost:8080/"
        },
        "id": "d0d518e0-8f9f-465e-a8da-3b66c1e3761e",
        "outputId": "c4693163-3b48-4fb0-f0f2-54f8609eba15"
      },
      "outputs": [
        {
          "output_type": "stream",
          "name": "stdout",
          "text": [
            "Looking in indexes: https://pypi.org/simple, https://us-python.pkg.dev/colab-wheels/public/simple/\n",
            "Requirement already satisfied: gurobipy in /usr/local/lib/python3.9/dist-packages (10.0.1)\n"
          ]
        }
      ],
      "source": [
        "%pip install gurobipy"
      ]
    },
    {
      "cell_type": "code",
      "execution_count": 192,
      "id": "3024295a",
      "metadata": {
        "id": "3024295a"
      },
      "outputs": [],
      "source": [
        "import pandas as pd\n",
        "import warnings\n",
        "warnings.filterwarnings(\"ignore\")\n",
        "import matplotlib.pyplot as plt\n",
        "from sklearn import tree \n",
        "import seaborn as sns\n",
        "import sklearn \n",
        "import numpy as np  "
      ]
    },
    {
      "cell_type": "markdown",
      "id": "4537e1ae",
      "metadata": {
        "id": "4537e1ae"
      },
      "source": [
        "The dataset from HAB contains sales data for the years 2019-2022. This data is augmented by a previous download from HAB available on [Kaggle](https://www.kaggle.com/datasets/timmate/avocado-prices-2020) with sales for the years 2015-2018.\n",
        "\n",
        "Each row in the dataset is the weekly number of avocados sold and the weekly average price of an avocado categorized by region and type of avocado. There are two types of avocados: conventional and organic. In this notebook, we will only consider the conventional avocados.\n",
        "There are eight large regions, namely the Great Lakes, Midsouth, North East, Northern New England, South Central, South East, West and Plains.\n",
        "\n",
        "Now, load the data and store into a Pandas dataframe."
      ]
    },
    {
      "cell_type": "code",
      "execution_count": 193,
      "id": "d7ebd6bb",
      "metadata": {
        "colab": {
          "base_uri": "https://localhost:8080/",
          "height": 419
        },
        "id": "d7ebd6bb",
        "outputId": "2a934f95-7af0-4406-dd4b-8b67c441e71a"
      },
      "outputs": [
        {
          "output_type": "execute_result",
          "data": {
            "text/plain": [
              "           region          date          type     price  units_sold\n",
              "0     Great_Lakes   1/7/19 0:00  Conventional  1.106743  3812441.96\n",
              "1     Great_Lakes   1/7/19 0:00       Organic  1.371280   275987.52\n",
              "2     Great_Lakes  1/13/19 0:00  Conventional  1.063457  3843318.68\n",
              "3     Great_Lakes  1/13/19 0:00       Organic  1.493384   244991.95\n",
              "4     Great_Lakes  1/20/19 0:00  Conventional  1.049931  4587957.69\n",
              "...           ...           ...           ...       ...         ...\n",
              "6799         West      11/18/18       Organic  1.610000   334096.14\n",
              "6800         West      11/25/18  Conventional  1.240000  3260102.17\n",
              "6801         West      11/25/18       Organic  1.730000   268362.34\n",
              "6802         West       12/2/18  Conventional  1.200000  4594863.86\n",
              "6803         West       12/2/18       Organic  1.620000   268969.03\n",
              "\n",
              "[6804 rows x 5 columns]"
            ],
            "text/html": [
              "\n",
              "  <div id=\"df-9ecae3b9-0a3d-46a8-a658-5dd19b2c071d\">\n",
              "    <div class=\"colab-df-container\">\n",
              "      <div>\n",
              "<style scoped>\n",
              "    .dataframe tbody tr th:only-of-type {\n",
              "        vertical-align: middle;\n",
              "    }\n",
              "\n",
              "    .dataframe tbody tr th {\n",
              "        vertical-align: top;\n",
              "    }\n",
              "\n",
              "    .dataframe thead th {\n",
              "        text-align: right;\n",
              "    }\n",
              "</style>\n",
              "<table border=\"1\" class=\"dataframe\">\n",
              "  <thead>\n",
              "    <tr style=\"text-align: right;\">\n",
              "      <th></th>\n",
              "      <th>region</th>\n",
              "      <th>date</th>\n",
              "      <th>type</th>\n",
              "      <th>price</th>\n",
              "      <th>units_sold</th>\n",
              "    </tr>\n",
              "  </thead>\n",
              "  <tbody>\n",
              "    <tr>\n",
              "      <th>0</th>\n",
              "      <td>Great_Lakes</td>\n",
              "      <td>1/7/19 0:00</td>\n",
              "      <td>Conventional</td>\n",
              "      <td>1.106743</td>\n",
              "      <td>3812441.96</td>\n",
              "    </tr>\n",
              "    <tr>\n",
              "      <th>1</th>\n",
              "      <td>Great_Lakes</td>\n",
              "      <td>1/7/19 0:00</td>\n",
              "      <td>Organic</td>\n",
              "      <td>1.371280</td>\n",
              "      <td>275987.52</td>\n",
              "    </tr>\n",
              "    <tr>\n",
              "      <th>2</th>\n",
              "      <td>Great_Lakes</td>\n",
              "      <td>1/13/19 0:00</td>\n",
              "      <td>Conventional</td>\n",
              "      <td>1.063457</td>\n",
              "      <td>3843318.68</td>\n",
              "    </tr>\n",
              "    <tr>\n",
              "      <th>3</th>\n",
              "      <td>Great_Lakes</td>\n",
              "      <td>1/13/19 0:00</td>\n",
              "      <td>Organic</td>\n",
              "      <td>1.493384</td>\n",
              "      <td>244991.95</td>\n",
              "    </tr>\n",
              "    <tr>\n",
              "      <th>4</th>\n",
              "      <td>Great_Lakes</td>\n",
              "      <td>1/20/19 0:00</td>\n",
              "      <td>Conventional</td>\n",
              "      <td>1.049931</td>\n",
              "      <td>4587957.69</td>\n",
              "    </tr>\n",
              "    <tr>\n",
              "      <th>...</th>\n",
              "      <td>...</td>\n",
              "      <td>...</td>\n",
              "      <td>...</td>\n",
              "      <td>...</td>\n",
              "      <td>...</td>\n",
              "    </tr>\n",
              "    <tr>\n",
              "      <th>6799</th>\n",
              "      <td>West</td>\n",
              "      <td>11/18/18</td>\n",
              "      <td>Organic</td>\n",
              "      <td>1.610000</td>\n",
              "      <td>334096.14</td>\n",
              "    </tr>\n",
              "    <tr>\n",
              "      <th>6800</th>\n",
              "      <td>West</td>\n",
              "      <td>11/25/18</td>\n",
              "      <td>Conventional</td>\n",
              "      <td>1.240000</td>\n",
              "      <td>3260102.17</td>\n",
              "    </tr>\n",
              "    <tr>\n",
              "      <th>6801</th>\n",
              "      <td>West</td>\n",
              "      <td>11/25/18</td>\n",
              "      <td>Organic</td>\n",
              "      <td>1.730000</td>\n",
              "      <td>268362.34</td>\n",
              "    </tr>\n",
              "    <tr>\n",
              "      <th>6802</th>\n",
              "      <td>West</td>\n",
              "      <td>12/2/18</td>\n",
              "      <td>Conventional</td>\n",
              "      <td>1.200000</td>\n",
              "      <td>4594863.86</td>\n",
              "    </tr>\n",
              "    <tr>\n",
              "      <th>6803</th>\n",
              "      <td>West</td>\n",
              "      <td>12/2/18</td>\n",
              "      <td>Organic</td>\n",
              "      <td>1.620000</td>\n",
              "      <td>268969.03</td>\n",
              "    </tr>\n",
              "  </tbody>\n",
              "</table>\n",
              "<p>6804 rows × 5 columns</p>\n",
              "</div>\n",
              "      <button class=\"colab-df-convert\" onclick=\"convertToInteractive('df-9ecae3b9-0a3d-46a8-a658-5dd19b2c071d')\"\n",
              "              title=\"Convert this dataframe to an interactive table.\"\n",
              "              style=\"display:none;\">\n",
              "        \n",
              "  <svg xmlns=\"http://www.w3.org/2000/svg\" height=\"24px\"viewBox=\"0 0 24 24\"\n",
              "       width=\"24px\">\n",
              "    <path d=\"M0 0h24v24H0V0z\" fill=\"none\"/>\n",
              "    <path d=\"M18.56 5.44l.94 2.06.94-2.06 2.06-.94-2.06-.94-.94-2.06-.94 2.06-2.06.94zm-11 1L8.5 8.5l.94-2.06 2.06-.94-2.06-.94L8.5 2.5l-.94 2.06-2.06.94zm10 10l.94 2.06.94-2.06 2.06-.94-2.06-.94-.94-2.06-.94 2.06-2.06.94z\"/><path d=\"M17.41 7.96l-1.37-1.37c-.4-.4-.92-.59-1.43-.59-.52 0-1.04.2-1.43.59L10.3 9.45l-7.72 7.72c-.78.78-.78 2.05 0 2.83L4 21.41c.39.39.9.59 1.41.59.51 0 1.02-.2 1.41-.59l7.78-7.78 2.81-2.81c.8-.78.8-2.07 0-2.86zM5.41 20L4 18.59l7.72-7.72 1.47 1.35L5.41 20z\"/>\n",
              "  </svg>\n",
              "      </button>\n",
              "      \n",
              "  <style>\n",
              "    .colab-df-container {\n",
              "      display:flex;\n",
              "      flex-wrap:wrap;\n",
              "      gap: 12px;\n",
              "    }\n",
              "\n",
              "    .colab-df-convert {\n",
              "      background-color: #E8F0FE;\n",
              "      border: none;\n",
              "      border-radius: 50%;\n",
              "      cursor: pointer;\n",
              "      display: none;\n",
              "      fill: #1967D2;\n",
              "      height: 32px;\n",
              "      padding: 0 0 0 0;\n",
              "      width: 32px;\n",
              "    }\n",
              "\n",
              "    .colab-df-convert:hover {\n",
              "      background-color: #E2EBFA;\n",
              "      box-shadow: 0px 1px 2px rgba(60, 64, 67, 0.3), 0px 1px 3px 1px rgba(60, 64, 67, 0.15);\n",
              "      fill: #174EA6;\n",
              "    }\n",
              "\n",
              "    [theme=dark] .colab-df-convert {\n",
              "      background-color: #3B4455;\n",
              "      fill: #D2E3FC;\n",
              "    }\n",
              "\n",
              "    [theme=dark] .colab-df-convert:hover {\n",
              "      background-color: #434B5C;\n",
              "      box-shadow: 0px 1px 3px 1px rgba(0, 0, 0, 0.15);\n",
              "      filter: drop-shadow(0px 1px 2px rgba(0, 0, 0, 0.3));\n",
              "      fill: #FFFFFF;\n",
              "    }\n",
              "  </style>\n",
              "\n",
              "      <script>\n",
              "        const buttonEl =\n",
              "          document.querySelector('#df-9ecae3b9-0a3d-46a8-a658-5dd19b2c071d button.colab-df-convert');\n",
              "        buttonEl.style.display =\n",
              "          google.colab.kernel.accessAllowed ? 'block' : 'none';\n",
              "\n",
              "        async function convertToInteractive(key) {\n",
              "          const element = document.querySelector('#df-9ecae3b9-0a3d-46a8-a658-5dd19b2c071d');\n",
              "          const dataTable =\n",
              "            await google.colab.kernel.invokeFunction('convertToInteractive',\n",
              "                                                     [key], {});\n",
              "          if (!dataTable) return;\n",
              "\n",
              "          const docLinkHtml = 'Like what you see? Visit the ' +\n",
              "            '<a target=\"_blank\" href=https://colab.research.google.com/notebooks/data_table.ipynb>data table notebook</a>'\n",
              "            + ' to learn more about interactive tables.';\n",
              "          element.innerHTML = '';\n",
              "          dataTable['output_type'] = 'display_data';\n",
              "          await google.colab.output.renderOutput(dataTable, element);\n",
              "          const docLink = document.createElement('div');\n",
              "          docLink.innerHTML = docLinkHtml;\n",
              "          element.appendChild(docLink);\n",
              "        }\n",
              "      </script>\n",
              "    </div>\n",
              "  </div>\n",
              "  "
            ]
          },
          "metadata": {},
          "execution_count": 193
        }
      ],
      "source": [
        "avocado = pd.read_csv('https://raw.githubusercontent.com/Gurobi/modeling-examples/master/price_optimization/HABdata_2019_2022.csv') # dataset downloaded directly from HAB\n",
        "avocado_old = pd.read_csv('https://raw.githubusercontent.com/Gurobi/modeling-examples/master/price_optimization/kaggledata_till2018.csv') # dataset downloaded from Kaggle\n",
        "avocado = avocado.append(avocado_old, ignore_index=True)\n",
        "avocado"
      ]
    },
    {
      "cell_type": "markdown",
      "id": "68efc9c1",
      "metadata": {
        "id": "68efc9c1"
      },
      "source": [
        "## Prepare the Dataset\n",
        "\n",
        "We will now prepare the data for making sales predictions. Add new columns to the dataframe for the year and seasonality. Let each year from 2015 through 2022 be given an index from 0 through 7 in the increasing order of the year. We will define the peak season to be the months of February through July. These months are set based on visual inspection of the trends, but you can try setting other months."
      ]
    },
    {
      "cell_type": "code",
      "execution_count": 194,
      "id": "cd09a61a",
      "metadata": {
        "colab": {
          "base_uri": "https://localhost:8080/",
          "height": 419
        },
        "id": "cd09a61a",
        "outputId": "7f8d0979-e43a-48e5-eef9-e29ea8517cfc"
      },
      "outputs": [
        {
          "output_type": "execute_result",
          "data": {
            "text/plain": [
              "           date  units_sold     price                region  year  month  \\\n",
              "0    2015-01-04    3.382800  1.020000           Great_Lakes  2015      1   \n",
              "1    2015-01-04    2.578275  1.100000              Midsouth  2015      1   \n",
              "2    2015-01-04    5.794411  0.890000                  West  2015      1   \n",
              "3    2015-01-04    3.204112  0.980000             Southeast  2015      1   \n",
              "4    2015-01-04    0.321824  1.050000  Northern_New_England  2015      1   \n",
              "...         ...         ...       ...                   ...   ...    ...   \n",
              "3397 2022-05-15    4.150433  1.269883          SouthCentral  2022      5   \n",
              "3398 2022-05-15    4.668815  1.644873             Northeast  2022      5   \n",
              "3399 2022-05-15   32.745321  1.527357              Total_US  2022      5   \n",
              "3400 2022-05-15    3.542902  1.514583              Midsouth  2022      5   \n",
              "3401 2022-05-15    1.560202  1.541429                Plains  2022      5   \n",
              "\n",
              "      year_index  peak  \n",
              "0              0     0  \n",
              "1              0     0  \n",
              "2              0     0  \n",
              "3              0     0  \n",
              "4              0     0  \n",
              "...          ...   ...  \n",
              "3397           7     1  \n",
              "3398           7     1  \n",
              "3399           7     1  \n",
              "3400           7     1  \n",
              "3401           7     1  \n",
              "\n",
              "[3402 rows x 8 columns]"
            ],
            "text/html": [
              "\n",
              "  <div id=\"df-d3d7d35e-9289-495c-8b12-a71c5d4ed3aa\">\n",
              "    <div class=\"colab-df-container\">\n",
              "      <div>\n",
              "<style scoped>\n",
              "    .dataframe tbody tr th:only-of-type {\n",
              "        vertical-align: middle;\n",
              "    }\n",
              "\n",
              "    .dataframe tbody tr th {\n",
              "        vertical-align: top;\n",
              "    }\n",
              "\n",
              "    .dataframe thead th {\n",
              "        text-align: right;\n",
              "    }\n",
              "</style>\n",
              "<table border=\"1\" class=\"dataframe\">\n",
              "  <thead>\n",
              "    <tr style=\"text-align: right;\">\n",
              "      <th></th>\n",
              "      <th>date</th>\n",
              "      <th>units_sold</th>\n",
              "      <th>price</th>\n",
              "      <th>region</th>\n",
              "      <th>year</th>\n",
              "      <th>month</th>\n",
              "      <th>year_index</th>\n",
              "      <th>peak</th>\n",
              "    </tr>\n",
              "  </thead>\n",
              "  <tbody>\n",
              "    <tr>\n",
              "      <th>0</th>\n",
              "      <td>2015-01-04</td>\n",
              "      <td>3.382800</td>\n",
              "      <td>1.020000</td>\n",
              "      <td>Great_Lakes</td>\n",
              "      <td>2015</td>\n",
              "      <td>1</td>\n",
              "      <td>0</td>\n",
              "      <td>0</td>\n",
              "    </tr>\n",
              "    <tr>\n",
              "      <th>1</th>\n",
              "      <td>2015-01-04</td>\n",
              "      <td>2.578275</td>\n",
              "      <td>1.100000</td>\n",
              "      <td>Midsouth</td>\n",
              "      <td>2015</td>\n",
              "      <td>1</td>\n",
              "      <td>0</td>\n",
              "      <td>0</td>\n",
              "    </tr>\n",
              "    <tr>\n",
              "      <th>2</th>\n",
              "      <td>2015-01-04</td>\n",
              "      <td>5.794411</td>\n",
              "      <td>0.890000</td>\n",
              "      <td>West</td>\n",
              "      <td>2015</td>\n",
              "      <td>1</td>\n",
              "      <td>0</td>\n",
              "      <td>0</td>\n",
              "    </tr>\n",
              "    <tr>\n",
              "      <th>3</th>\n",
              "      <td>2015-01-04</td>\n",
              "      <td>3.204112</td>\n",
              "      <td>0.980000</td>\n",
              "      <td>Southeast</td>\n",
              "      <td>2015</td>\n",
              "      <td>1</td>\n",
              "      <td>0</td>\n",
              "      <td>0</td>\n",
              "    </tr>\n",
              "    <tr>\n",
              "      <th>4</th>\n",
              "      <td>2015-01-04</td>\n",
              "      <td>0.321824</td>\n",
              "      <td>1.050000</td>\n",
              "      <td>Northern_New_England</td>\n",
              "      <td>2015</td>\n",
              "      <td>1</td>\n",
              "      <td>0</td>\n",
              "      <td>0</td>\n",
              "    </tr>\n",
              "    <tr>\n",
              "      <th>...</th>\n",
              "      <td>...</td>\n",
              "      <td>...</td>\n",
              "      <td>...</td>\n",
              "      <td>...</td>\n",
              "      <td>...</td>\n",
              "      <td>...</td>\n",
              "      <td>...</td>\n",
              "      <td>...</td>\n",
              "    </tr>\n",
              "    <tr>\n",
              "      <th>3397</th>\n",
              "      <td>2022-05-15</td>\n",
              "      <td>4.150433</td>\n",
              "      <td>1.269883</td>\n",
              "      <td>SouthCentral</td>\n",
              "      <td>2022</td>\n",
              "      <td>5</td>\n",
              "      <td>7</td>\n",
              "      <td>1</td>\n",
              "    </tr>\n",
              "    <tr>\n",
              "      <th>3398</th>\n",
              "      <td>2022-05-15</td>\n",
              "      <td>4.668815</td>\n",
              "      <td>1.644873</td>\n",
              "      <td>Northeast</td>\n",
              "      <td>2022</td>\n",
              "      <td>5</td>\n",
              "      <td>7</td>\n",
              "      <td>1</td>\n",
              "    </tr>\n",
              "    <tr>\n",
              "      <th>3399</th>\n",
              "      <td>2022-05-15</td>\n",
              "      <td>32.745321</td>\n",
              "      <td>1.527357</td>\n",
              "      <td>Total_US</td>\n",
              "      <td>2022</td>\n",
              "      <td>5</td>\n",
              "      <td>7</td>\n",
              "      <td>1</td>\n",
              "    </tr>\n",
              "    <tr>\n",
              "      <th>3400</th>\n",
              "      <td>2022-05-15</td>\n",
              "      <td>3.542902</td>\n",
              "      <td>1.514583</td>\n",
              "      <td>Midsouth</td>\n",
              "      <td>2022</td>\n",
              "      <td>5</td>\n",
              "      <td>7</td>\n",
              "      <td>1</td>\n",
              "    </tr>\n",
              "    <tr>\n",
              "      <th>3401</th>\n",
              "      <td>2022-05-15</td>\n",
              "      <td>1.560202</td>\n",
              "      <td>1.541429</td>\n",
              "      <td>Plains</td>\n",
              "      <td>2022</td>\n",
              "      <td>5</td>\n",
              "      <td>7</td>\n",
              "      <td>1</td>\n",
              "    </tr>\n",
              "  </tbody>\n",
              "</table>\n",
              "<p>3402 rows × 8 columns</p>\n",
              "</div>\n",
              "      <button class=\"colab-df-convert\" onclick=\"convertToInteractive('df-d3d7d35e-9289-495c-8b12-a71c5d4ed3aa')\"\n",
              "              title=\"Convert this dataframe to an interactive table.\"\n",
              "              style=\"display:none;\">\n",
              "        \n",
              "  <svg xmlns=\"http://www.w3.org/2000/svg\" height=\"24px\"viewBox=\"0 0 24 24\"\n",
              "       width=\"24px\">\n",
              "    <path d=\"M0 0h24v24H0V0z\" fill=\"none\"/>\n",
              "    <path d=\"M18.56 5.44l.94 2.06.94-2.06 2.06-.94-2.06-.94-.94-2.06-.94 2.06-2.06.94zm-11 1L8.5 8.5l.94-2.06 2.06-.94-2.06-.94L8.5 2.5l-.94 2.06-2.06.94zm10 10l.94 2.06.94-2.06 2.06-.94-2.06-.94-.94-2.06-.94 2.06-2.06.94z\"/><path d=\"M17.41 7.96l-1.37-1.37c-.4-.4-.92-.59-1.43-.59-.52 0-1.04.2-1.43.59L10.3 9.45l-7.72 7.72c-.78.78-.78 2.05 0 2.83L4 21.41c.39.39.9.59 1.41.59.51 0 1.02-.2 1.41-.59l7.78-7.78 2.81-2.81c.8-.78.8-2.07 0-2.86zM5.41 20L4 18.59l7.72-7.72 1.47 1.35L5.41 20z\"/>\n",
              "  </svg>\n",
              "      </button>\n",
              "      \n",
              "  <style>\n",
              "    .colab-df-container {\n",
              "      display:flex;\n",
              "      flex-wrap:wrap;\n",
              "      gap: 12px;\n",
              "    }\n",
              "\n",
              "    .colab-df-convert {\n",
              "      background-color: #E8F0FE;\n",
              "      border: none;\n",
              "      border-radius: 50%;\n",
              "      cursor: pointer;\n",
              "      display: none;\n",
              "      fill: #1967D2;\n",
              "      height: 32px;\n",
              "      padding: 0 0 0 0;\n",
              "      width: 32px;\n",
              "    }\n",
              "\n",
              "    .colab-df-convert:hover {\n",
              "      background-color: #E2EBFA;\n",
              "      box-shadow: 0px 1px 2px rgba(60, 64, 67, 0.3), 0px 1px 3px 1px rgba(60, 64, 67, 0.15);\n",
              "      fill: #174EA6;\n",
              "    }\n",
              "\n",
              "    [theme=dark] .colab-df-convert {\n",
              "      background-color: #3B4455;\n",
              "      fill: #D2E3FC;\n",
              "    }\n",
              "\n",
              "    [theme=dark] .colab-df-convert:hover {\n",
              "      background-color: #434B5C;\n",
              "      box-shadow: 0px 1px 3px 1px rgba(0, 0, 0, 0.15);\n",
              "      filter: drop-shadow(0px 1px 2px rgba(0, 0, 0, 0.3));\n",
              "      fill: #FFFFFF;\n",
              "    }\n",
              "  </style>\n",
              "\n",
              "      <script>\n",
              "        const buttonEl =\n",
              "          document.querySelector('#df-d3d7d35e-9289-495c-8b12-a71c5d4ed3aa button.colab-df-convert');\n",
              "        buttonEl.style.display =\n",
              "          google.colab.kernel.accessAllowed ? 'block' : 'none';\n",
              "\n",
              "        async function convertToInteractive(key) {\n",
              "          const element = document.querySelector('#df-d3d7d35e-9289-495c-8b12-a71c5d4ed3aa');\n",
              "          const dataTable =\n",
              "            await google.colab.kernel.invokeFunction('convertToInteractive',\n",
              "                                                     [key], {});\n",
              "          if (!dataTable) return;\n",
              "\n",
              "          const docLinkHtml = 'Like what you see? Visit the ' +\n",
              "            '<a target=\"_blank\" href=https://colab.research.google.com/notebooks/data_table.ipynb>data table notebook</a>'\n",
              "            + ' to learn more about interactive tables.';\n",
              "          element.innerHTML = '';\n",
              "          dataTable['output_type'] = 'display_data';\n",
              "          await google.colab.output.renderOutput(dataTable, element);\n",
              "          const docLink = document.createElement('div');\n",
              "          docLink.innerHTML = docLinkHtml;\n",
              "          element.appendChild(docLink);\n",
              "        }\n",
              "      </script>\n",
              "    </div>\n",
              "  </div>\n",
              "  "
            ]
          },
          "metadata": {},
          "execution_count": 194
        }
      ],
      "source": [
        "# Add the index for each year from 2015 through 2022\n",
        "avocado['date'] = pd.to_datetime(avocado['date'])\n",
        "avocado['year'] = pd.DatetimeIndex(avocado['date']).year\n",
        "avocado['year_index'] = avocado['year'] - 2015\n",
        "avocado = avocado.sort_values(by='date')\n",
        "\n",
        "# Define the peak season\n",
        "avocado['month'] = pd.DatetimeIndex(avocado['date']).month\n",
        "peak_months = range(2,8)        # <--------- Set the months for the \"peak season\"\n",
        "def peak_season(row):\n",
        "    return 1 if int(row['month']) in peak_months else 0  \n",
        "\n",
        "avocado['peak'] = avocado.apply(lambda row: peak_season(row), axis=1)\n",
        "\n",
        "# Scale the number of avocados to millions\n",
        "avocado['units_sold'] = avocado['units_sold']/1000000\n",
        "\n",
        "# Select only conventional avocados\n",
        "avocado = avocado[avocado['type'] == 'Conventional'] \n",
        "\n",
        "avocado = avocado[['date','units_sold','price','region','year','month','year_index','peak']].reset_index(drop = True)\n",
        "\n",
        "avocado"
      ]
    },
    {
      "cell_type": "markdown",
      "id": "65bb1d21",
      "metadata": {
        "id": "65bb1d21"
      },
      "source": [
        "## Part 1: Observe Trends in the Data\n",
        "\n",
        "Now, we will infer sales trends in time and seasonality. For simplicity, let's proceed with data from the United States as a whole."
      ]
    },
    {
      "cell_type": "code",
      "execution_count": 195,
      "id": "ab0c4402",
      "metadata": {
        "id": "ab0c4402"
      },
      "outputs": [],
      "source": [
        "df_Total_US = avocado[avocado['region']=='Total_US']"
      ]
    },
    {
      "cell_type": "markdown",
      "id": "7903d4b5",
      "metadata": {
        "id": "7903d4b5"
      },
      "source": [
        "### Sales Over the Years"
      ]
    },
    {
      "cell_type": "code",
      "execution_count": 196,
      "id": "2ec7e699",
      "metadata": {
        "colab": {
          "base_uri": "https://localhost:8080/",
          "height": 507
        },
        "id": "2ec7e699",
        "outputId": "3844472f-8ae0-4d54-bb9b-3648fc45c586"
      },
      "outputs": [
        {
          "output_type": "display_data",
          "data": {
            "text/plain": [
              "<Figure size 1000x500 with 1 Axes>"
            ],
            "image/png": "[encoded data removed]"
          },
          "metadata": {}
        }
      ],
      "source": [
        "fig, axes = plt.subplots(nrows=1, ncols=1, figsize=(10, 5)) \n",
        "\n",
        "mean = df_Total_US.groupby('year')['units_sold'].mean()\n",
        "std  = df_Total_US.groupby('year')['units_sold'].std()\n",
        "axes.errorbar(mean.index, mean, xerr=0.5, yerr=2*std, linestyle='') \n",
        "axes.set_ylabel('Units Sold (millions)')\n",
        "axes.set_xlabel('Year') \n",
        " \n",
        "fig.tight_layout()"
      ]
    },
    {
      "cell_type": "markdown",
      "id": "e37ba680",
      "metadata": {
        "id": "e37ba680"
      },
      "source": [
        "We can see that the sales generally increased over the years, albeit marginally. The dip in 2019 is the effect of the well-documented [2019 avocado shortage](https://abc7news.com/avocado-shortage-season-prices/5389855/) that led to avocados [nearly doubling in price.](https://abc7news.com/avocado-shortage-season-prices/5389855/)"
      ]
    },
    {
      "cell_type": "markdown",
      "id": "30abfba6",
      "metadata": {
        "id": "30abfba6"
      },
      "source": [
        "### Seasonality\n",
        "\n",
        "We will now see the sales trends within a year."
      ]
    },
    {
      "cell_type": "code",
      "execution_count": 197,
      "id": "4a594510",
      "metadata": {
        "colab": {
          "base_uri": "https://localhost:8080/",
          "height": 506
        },
        "id": "4a594510",
        "outputId": "87730463-52f0-4041-da31-9bc7e3e812fa"
      },
      "outputs": [
        {
          "output_type": "display_data",
          "data": {
            "text/plain": [
              "<Figure size 1000x500 with 1 Axes>"
            ],
            "image/png": "[encoded data removed]"
          },
          "metadata": {}
        }
      ],
      "source": [
        "fig, axes = plt.subplots(nrows=1, ncols=1, figsize=(10, 5)) \n",
        "\n",
        "mean = df_Total_US.groupby('month')['units_sold'].mean()\n",
        "std  = df_Total_US.groupby('month')['units_sold'].std()\n",
        " \n",
        "axes.errorbar(mean.index, mean, xerr=0.5, yerr=2*std, linestyle='') \n",
        "axes.set_ylabel('Units Sold (millions)')\n",
        "axes.set_xlabel('Month') \n",
        " \n",
        "fig.tight_layout()\n",
        " \n",
        "plt.xlabel('Month')\n",
        "axes.set_xticks(range(1,13)) \n",
        "plt.ylabel('Units sold (millions)')\n",
        "plt.show()"
      ]
    },
    {
      "cell_type": "markdown",
      "id": "c87738d0",
      "metadata": {
        "id": "c87738d0"
      },
      "source": [
        "We see a Super Bowl peak in February and a Cinco de Mayo peak in May. "
      ]
    },
    {
      "cell_type": "markdown",
      "id": "2e04cef1",
      "metadata": {
        "id": "2e04cef1"
      },
      "source": [
        "### Correlations\n",
        "\n",
        "Now, we will see how the variables are correlated with each other.\n",
        "The end goal is to predict sales given the price of an avocado, year and seasonality (peak or not)."
      ]
    },
    {
      "cell_type": "code",
      "execution_count": 198,
      "id": "25729f7d",
      "metadata": {
        "colab": {
          "base_uri": "https://localhost:8080/",
          "height": 468
        },
        "id": "25729f7d",
        "outputId": "25422959-c506-4543-c00b-bb519cc176b9"
      },
      "outputs": [
        {
          "output_type": "display_data",
          "data": {
            "text/plain": [
              "<Figure size 1500x500 with 2 Axes>"
            ],
            "image/png": "[encoded data removed]"
          },
          "metadata": {}
        }
      ],
      "source": [
        "fig, axes = plt.subplots(nrows=1, ncols=1, figsize=(15, 5)) \n",
        "sns.heatmap(df_Total_US[['units_sold', 'price', 'year', 'peak']].corr(),annot=True, center=0,ax=axes) \n",
        "\n",
        "axes.set_title('Correlations for conventional avocados') \n",
        "plt.show()"
      ]
    },
    {
      "cell_type": "markdown",
      "id": "fe48eecb",
      "metadata": {
        "id": "fe48eecb"
      },
      "source": [
        "As expected, the sales quantity has a negative correlation with the price per avocado. The sales quantity has a positive correlation with the year and season being a peak season."
      ]
    },
    {
      "cell_type": "markdown",
      "id": "27356cce",
      "metadata": {
        "id": "27356cce"
      },
      "source": [
        "### Regions\n",
        "\n",
        "Finally, we will see how the sales differ among the different regions. This will determine the number of avocados that we want to supply to each region."
      ]
    },
    {
      "cell_type": "code",
      "execution_count": 199,
      "id": "081b3f31",
      "metadata": {
        "colab": {
          "base_uri": "https://localhost:8080/",
          "height": 581
        },
        "id": "081b3f31",
        "outputId": "e3f34f47-ff53-4f40-f342-b49a2ae4c07f"
      },
      "outputs": [
        {
          "output_type": "display_data",
          "data": {
            "text/plain": [
              "<Figure size 1000x500 with 1 Axes>"
            ],
            "image/png": "[encoded data removed]"
          },
          "metadata": {}
        }
      ],
      "source": [
        "fig, axes = plt.subplots(nrows=1, ncols=1, figsize=(10, 5)) \n",
        "\n",
        "regions = ['Great_Lakes','Midsouth','Northeast','Northern_New_England','SouthCentral','Southeast','West','Plains'] \n",
        "df = avocado[avocado.region.isin(regions)]  \n",
        "\n",
        "mean = df.groupby('region')['units_sold'].mean()\n",
        "std  = df.groupby('region')['units_sold'].std() \n",
        " \n",
        "axes.errorbar(range(len(mean)), mean, xerr=0.5, yerr=2*std, linestyle='')  \n",
        "\n",
        "fig.tight_layout()\n",
        " \n",
        "plt.xlabel('Region') \n",
        "plt.xticks(range(len(mean)), pd.DataFrame(mean)['units_sold'].index,rotation=20)\n",
        "plt.ylabel('Units sold (millions)')\n",
        "plt.show()"
      ]
    },
    {
      "cell_type": "markdown",
      "id": "1d1a2716",
      "metadata": {
        "id": "1d1a2716"
      },
      "source": [
        "Clearly, west-coasters love avocados."
      ]
    },
    {
      "cell_type": "markdown",
      "id": "b20e125e",
      "metadata": {
        "id": "b20e125e"
      },
      "source": [
        "## Part II: Predict the Sales\n",
        "\n",
        "The trends observed in Part I motivate us to construct a prediction model for sales using the independent variables- price, year, region and seasonality.\n",
        "Henceforth, the sales quantity will be referred to as the *predicted demand*.\n",
        "\n",
        "Let us now construct a linear regressor for the demand.\n",
        "Note that the region is a categorical variable.\n",
        "The linear regressor can be mathematically expressed as:\n",
        "\n",
        "$$demand = \\beta_0 + \\beta_1 * price + \\sum\\limits_{region} \\beta^{region}_3 * \\mathbb{1}(region)  +  \\beta_4 w_{year}*year +  \\beta_5  * \\mathbb{1}(peak).$$\n",
        "\n",
        "Here, the $\\beta$ values are weights (or \"co-efficients\") that have to be learned from the data. \n",
        "Note that the notation $\\mathbb{1}(region)$ is an indicator function that takes the value $1$ for each region in the summation. The value of $\\mathbb{1}(peak)$ is $1$ if we consider the peak season.\n",
        "\n",
        "To validate the regression model, we will randomly split the dataset into $80\\%$ training and $20\\%$ testing data and learn the weights using sklearns. "
      ]
    },
    {
      "cell_type": "code",
      "execution_count": 200,
      "id": "55a07590",
      "metadata": {
        "colab": {
          "base_uri": "https://localhost:8080/"
        },
        "id": "55a07590",
        "outputId": "e783b7e7-f33b-4099-eed7-86d4d5674495"
      },
      "outputs": [
        {
          "output_type": "stream",
          "name": "stdout",
          "text": [
            "                            OLS Regression Results                            \n",
            "==============================================================================\n",
            "Dep. Variable:             units_sold   R-squared:                       0.919\n",
            "Model:                            OLS   Adj. R-squared:                  0.919\n",
            "Method:                 Least Squares   F-statistic:                     1607.\n",
            "Date:                Wed, 19 Apr 2023   Prob (F-statistic):               0.00\n",
            "Time:                        01:43:23   Log-Likelihood:                -2125.0\n",
            "No. Observations:                2419   AIC:                             4286.\n",
            "Df Residuals:                    2401   BIC:                             4390.\n",
            "Df Model:                          17                                         \n",
            "Covariance Type:            nonrobust                                         \n",
            "===========================================================================================================\n",
            "                                              coef    std err          t      P>|t|      [0.025      0.975]\n",
            "-----------------------------------------------------------------------------------------------------------\n",
            "Intercept                                   5.2512      0.207     25.361      0.000       4.845       5.657\n",
            "C(region)[T.Midsouth]                      -0.4979      0.336     -1.480      0.139      -1.158       0.162\n",
            "C(region)[T.Northeast]                      2.2662      0.336      6.741      0.000       1.607       2.925\n",
            "C(region)[T.Northern_New_England]          -5.1863      0.301    -17.222      0.000      -5.777      -4.596\n",
            "C(region)[T.Plains]                        -3.0482      0.299    -10.181      0.000      -3.635      -2.461\n",
            "C(region)[T.SouthCentral]                   3.5142      0.289     12.147      0.000       2.947       4.082\n",
            "C(region)[T.Southeast]                      1.3531      0.284      4.772      0.000       0.797       1.909\n",
            "C(region)[T.West]                           4.3283      0.285     15.192      0.000       3.770       4.887\n",
            "price                                      -2.0531      0.175    -11.763      0.000      -2.395      -1.711\n",
            "price:C(region)[T.Midsouth]                 0.2295      0.282      0.815      0.415      -0.323       0.782\n",
            "price:C(region)[T.Northeast]               -0.6438      0.264     -2.437      0.015      -1.162      -0.126\n",
            "price:C(region)[T.Northern_New_England]     1.7252      0.246      7.008      0.000       1.243       2.208\n",
            "price:C(region)[T.Plains]                   1.0986      0.257      4.271      0.000       0.594       1.603\n",
            "price:C(region)[T.SouthCentral]            -2.0013      0.288     -6.961      0.000      -2.565      -1.438\n",
            "price:C(region)[T.Southeast]               -0.6723      0.244     -2.760      0.006      -1.150      -0.195\n",
            "price:C(region)[T.West]                    -1.6259      0.253     -6.415      0.000      -2.123      -1.129\n",
            "year_index                                  0.1654      0.006     29.550      0.000       0.154       0.176\n",
            "peak                                        0.5284      0.024     22.108      0.000       0.482       0.575\n",
            "==============================================================================\n",
            "Omnibus:                      190.003   Durbin-Watson:                   2.021\n",
            "Prob(Omnibus):                  0.000   Jarque-Bera (JB):              519.336\n",
            "Skew:                           0.427   Prob(JB):                    1.69e-113\n",
            "Kurtosis:                       5.103   Cond. No.                         281.\n",
            "==============================================================================\n",
            "\n",
            "Notes:\n",
            "[1] Standard Errors assume that the covariance matrix of the errors is correctly specified.\n",
            "The R^2 value in the test set is 0.9085998422225099\n"
          ]
        }
      ],
      "source": [
        "import statsmodels.api as sm\n",
        "import statsmodels.formula.api as smf\n",
        "from sklearn.model_selection import train_test_split\n",
        "from sklearn.metrics import r2_score\n",
        "\n",
        "# Split the data for training and testing\n",
        "train, test = train_test_split(df, train_size=0.8, random_state=1)\n",
        "df_train = pd.DataFrame(train, columns=df.columns)\n",
        "df_test = pd.DataFrame(test, columns=df.columns)\n",
        " \n",
        "# Train the model\n",
        "\n",
        "formula = 'units_sold ~ price*C(region) + year_index + peak+ C(region)'\n",
        "mod = smf.ols(formula,data=df_train)\n",
        "result = mod.fit()\n",
        "print(result.summary())\n",
        "\n",
        "# Get R^2 from test data\n",
        "y_true = df_test['units_sold']\n",
        "y_pred = result.predict(df_test)\n",
        "print(\"The R^2 value in the test set is\",r2_score(y_true, y_pred))"
      ]
    },
    {
      "cell_type": "markdown",
      "id": "1e085dad",
      "metadata": {
        "id": "1e085dad"
      },
      "source": [
        "We can observe a good $R^2$ value in the test set. We will now train the fit the weights to the full dataset."
      ]
    },
    {
      "cell_type": "code",
      "execution_count": 201,
      "id": "506c8804",
      "metadata": {
        "colab": {
          "base_uri": "https://localhost:8080/"
        },
        "id": "506c8804",
        "outputId": "7fb92c57-ede8-4736-fd90-436d2542ffab"
      },
      "outputs": [
        {
          "output_type": "stream",
          "name": "stdout",
          "text": [
            "The R^2 value in the full dataset is 0.9170582085834226\n"
          ]
        }
      ],
      "source": [
        "formula = 'units_sold ~ price*C(region) + year_index + peak+ C(region)'\n",
        "mod_full = smf.ols(formula,data=df)\n",
        "result_full = mod_full.fit()\n",
        "\n",
        "y_true_full = df['units_sold']\n",
        "y_pred_full = result_full.predict(df)\n",
        "print(\"The R^2 value in the full dataset is\",r2_score(y_true_full, y_pred_full))\n",
        "\n",
        "# Get the weights and store it\n",
        "coef_dict = result_full.params.to_dict()\n",
        "coef_dict['price:C(region)[T.Great_Lakes]'] = 0\n",
        "coef_dict['C(region)[T.Great_Lakes]'] = 0 \n"
      ]
    },
    {
      "cell_type": "markdown",
      "id": "7cbe1cd5",
      "metadata": {
        "id": "7cbe1cd5"
      },
      "source": [
        "## Part III: Optimize for Price and Supply of Avocados"
      ]
    },
    {
      "cell_type": "markdown",
      "id": "214906e5",
      "metadata": {
        "id": "214906e5"
      },
      "source": [
        "Knowing how the price of an avocado affects the demand, how can we set the optimal avocado price? \n",
        "We don't want to set the price too high, since that could drive demand and sales down. At the same time, setting the price too low could be sub-optimal when maximizing revenue. So what is the sweet spot? \n",
        "\n",
        "On the distribution logistics, we want to make sure that there are enough avocados across the regions. We can address these considerations in a mathematical optimization model.\n",
        "An optimization model finds the **best solution** according to an **objective function** such that the solution satisfies a set of **constraints**. \n",
        "Here, a solution is expressed as a vector of real values or integer values called **decision variables**.\n",
        "Constraints are a set of equations or inequalities written as a function of the decision variables.\n",
        "\n",
        "At the start of each week, assume that the total number of available products is finite. This quantity needs to be distributed to the various regions while maximizing net revenue. So there are two key decisions - the price of an avocado in each region, and the number of avocados allocated to each region. \n",
        "\n",
        "Let us now define some input parameters and notations used for creating the model. The subscript $r$ will be used to denote each region.\n",
        "\n",
        "### Input Parameters\n",
        "- $R$: set of regions,\n",
        "- $d(p,r)$: predicted demand in region $r\\in R$ when the avocado per product is $p$, \n",
        "- $B$: available avocados to be distributed across the regions, \n",
        "- $c_{waste}$: cost ($\\$$) per wasted avocado,\n",
        "- $c^r_{transport}$: cost ($\\$$) of transporting a avocado to region $r \\in R$,\n",
        "- $a^r_{min},a^r_{max}$: minimum and maximum price ($\\$$) per avocado for reigon $r \\in R$,\n",
        "- $b^r_{min},b^r_{max}$: minimum and maximum number of avocados allocated to region $r \\in R$,\n",
        "\n",
        "The following code loads the Gurobi python package and initiates the optimization model. \n",
        "The value of $B$ is set to $30$ million avocados, which is close to the average weekly supply value from the data.\n",
        "For illustration, let us consider the peak season of 2021.\n",
        "The cost of wasting an avocado is set to $\\$0.10$.\n",
        "The cost of transporting an avocado ranges between $\\$0.10$ to $\\$0.50$ based on each region's distance from the southern border, where the [majority of avocado supply comes from](https://www.britannica.com/plant/avocado).\n",
        "Further, we can set the price of an avocado to not exceed $\\$ 2$ apiece. "
      ]
    },
    {
      "cell_type": "code",
      "execution_count": 202,
      "id": "29328983",
      "metadata": {
        "id": "29328983"
      },
      "outputs": [],
      "source": [
        "\n",
        "import gurobipy as gp \n",
        "from gurobipy import GRB\n",
        "\n",
        "# Crear un modelo llamado \"Avocado_Price_Allocation\"\n",
        "m = gp.Model(\"Avocado_Price_Allocation\")\n",
        "\n",
        "# Definir los sets y parámetros\n",
        "R = regions   # set de todas las regiones\n",
        "B = 30  # cantidad total de aguacates disponibles\n",
        "peak_or_not = 1 # 1 si es temporada alta, 0 si no lo es\n",
        "year = 2022\n",
        "c_waste = 0.1 # costo ($) de desperdiciar un aguacate\n",
        "c_transport = {'Great_Lakes': .3,'Midsouth':.1,'Northeast':.4,'Northern_New_England':.5,'SouthCentral':.3,'Southeast':.2,'West':.2,'Plains':.2}\n",
        "# costo de transportar un aguacate por región\n",
        "\n",
        "# Obtener los límites inferior y superior de precio y número de productos a ser almacenados\n",
        "a_min = {r: 0 for r in R} # precio mínimo del aguacate en cada región \n",
        "a_max = {r: 2 for r in R} # precio máximo del aguacate en cada región \n",
        "b_min = dict(df.groupby('region')['units_sold'].min())  # número mínimo de aguacates a ser distribuidos en cada región\n",
        "b_max = dict(df.groupby('region')['units_sold'].max())   # número máximo de aguacates a ser distribuidos en cada región"
      ]
    },
    {
      "cell_type": "markdown",
      "id": "1fa17930",
      "metadata": {
        "id": "1fa17930"
      },
      "source": [
        "### Decision Variables\n",
        "\n",
        "Let us now define the decision variables.\n",
        "In our model, we want to store the price and number of avocados allocated to each region. We also want variables that track how many avocados are predicted to be sold and how many are predicted to be wasted. \n",
        "The following notation is used to model these decision variables, indexed for each region $r$.\n",
        "\n",
        "$p_r$: the price of an avocado ($\\$$) in region $r$,\n",
        "\n",
        "$x_r$: the number of products avocados supplied to region $r$,\n",
        "\n",
        "$s_r = \\min \\{x_r,d_r(p_r)\\}$: the predicted number of avocados sold in region $r$, \n",
        "\n",
        "$w_r = x_r - s_r$: the predicted number of avocados wasted in region $r$\n",
        "\n",
        "We will now add the variables to the Gurobi model."
      ]
    },
    {
      "cell_type": "code",
      "execution_count": 203,
      "id": "0bb7f0f8",
      "metadata": {
        "id": "0bb7f0f8"
      },
      "outputs": [],
      "source": [
        "p = m.addVars(R,name=\"p\",lb=a_min, ub=a_max)   # price of avocados in each region\n",
        "x = m.addVars(R,name=\"x\",lb=b_min,ub=b_max)  # quantity supplied to each region\n",
        "s = m.addVars(R,name=\"s\",lb=0)   # predicted amount of sales in each region for the given price\n",
        "w = m.addVars(R,name=\"w\",lb=0)   # excess wasteage in each region"
      ]
    },
    {
      "cell_type": "markdown",
      "source": [
        "Now, let's create an expression for the predicted demand in each region as a function of price. Note that apart from the price, none of the other parameters in this prediction function (such as region, year and seasonality) are decision variables, and hence can be treated as constants."
      ],
      "metadata": {
        "id": "Ie-FIZuh-Op8"
      },
      "id": "Ie-FIZuh-Op8"
    },
    {
      "cell_type": "code",
      "source": [
        "d = {r: (coef_dict['Intercept'] + coef_dict['price:C(region)[T.%s]' % r] * p[r] + coef_dict['C(region)[T.%s]'%r] + coef_dict['year_index'] * (year-2015) + coef_dict['peak']*peak_or_not) for r in R}\n",
        "for r in R:\n",
        "    print(d[r])\n"
      ],
      "metadata": {
        "colab": {
          "base_uri": "https://localhost:8080/"
        },
        "id": "NUc6h0EssrCs",
        "outputId": "452ce688-2ffd-4075-dd17-9494b14dde88"
      },
      "id": "NUc6h0EssrCs",
      "execution_count": 204,
      "outputs": [
        {
          "output_type": "stream",
          "name": "stdout",
          "text": [
            "6.999790216386522 + 0.0 <gurobi.Var *Awaiting Model Update*>\n",
            "6.371498125719493 + 0.3224032749669148 <gurobi.Var *Awaiting Model Update*>\n",
            "9.335226324528271 + -0.693713314427292 <gurobi.Var *Awaiting Model Update*>\n",
            "1.772152911306124 + 1.7596481770353365 <gurobi.Var *Awaiting Model Update*>\n",
            "10.516880624958114 + -2.0113882162737537 <gurobi.Var *Awaiting Model Update*>\n",
            "8.382038435628962 + -0.7048191606326024 <gurobi.Var *Awaiting Model Update*>\n",
            "11.242138325126785 + -1.5411908055695434 <gurobi.Var *Awaiting Model Update*>\n",
            "3.930170799791563 + 1.1036468237712322 <gurobi.Var *Awaiting Model Update*>\n"
          ]
        }
      ]
    },
    {
      "cell_type": "markdown",
      "source": [
        "\n",
        "Crear un diccionario vacío llamado d.\n",
        "Iterar sobre cada elemento r de la lista regions.\n",
        "Para cada r, calcular el valor de d[r] utilizando la fórmula especificada:\n",
        "a. Obtener el valor del coeficiente de intersección (intercept) del modelo de regresión lineal (coef_dict['Intercept']).\n",
        "b. Obtener el valor del coeficiente de la interacción entre price y C(region)[T.r] del modelo de regresión lineal (coef_dict['price:C(region)[T.%s]' % r]).\n",
        "c. Multiplicar el valor del coeficiente anterior por el valor correspondiente de p (p[r]).\n",
        "d. Obtener el valor del coeficiente de year_index del modelo de regresión lineal (coef_dict['year_index']) y multiplicarlo por la diferencia entre el año actual y el año base ((year-2015)).\n",
        "e. Obtener el valor del coeficiente de peak del modelo de regresión lineal (coef_dict['peak']) y multiplicarlo por el valor correspondiente de peak_or_not.\n",
        "f. Sumar los valores obtenidos en los pasos anteriores para obtener el valor de d[r].\n",
        "Imprimir los valores de d[r] para cada r en la lista regions"
      ],
      "metadata": {
        "id": "n72WsOWH-P1V"
      },
      "id": "n72WsOWH-P1V"
    },
    {
      "cell_type": "markdown",
      "id": "389ffd60",
      "metadata": {
        "id": "389ffd60"
      },
      "source": [
        "Now, let's create an expression for the predicted demand in each region as a function of price. Note that apart from the price, none of the other parameters in this prediction function (such as region, year and seasonality) are decision variables, and hence can be treated as constants."
      ]
    },
    {
      "cell_type": "markdown",
      "id": "3d733d6f",
      "metadata": {
        "id": "3d733d6f"
      },
      "source": [
        "### Set the Objective\n",
        "\n",
        "Next, we will define the objective function: we want to maximizing the **net revenue**. The revenue from sales in each region is calculated by the price of an avocado in that region multiplied by the quantity sold there. There are two types of costs incurred: the wastage costs for excess unsold avocados and the cost of transporting the avocados to the different regions. \n",
        "\n",
        "The net revenue is the sales revenue subtracted by the total costs incurred. We assume that the purchase costs are fixed and are not incorporated in this model.\n",
        "\n",
        "Using the defined decision variables, the objective can be written as follows.\n",
        "\n",
        "\\begin{align}\n",
        "\\textrm{maximize} &  \\sum_{r}  (p_r * s_r - c_{waste} * w_r - c^r_{transport} * x_r)& \n",
        "\\end{align}\n",
        "\n",
        "Let us now add the objective function to the model."
      ]
    },
    {
      "cell_type": "code",
      "execution_count": 205,
      "id": "bb5e1218",
      "metadata": {
        "id": "bb5e1218"
      },
      "outputs": [],
      "source": [
        "m.setObjective(sum(p[r]*s[r] - c_waste*w[r] - c_transport[r]*x[r] for r in R)) \n",
        "m.ModelSense = GRB.MAXIMIZE"
      ]
    },
    {
      "cell_type": "markdown",
      "id": "93a8432c",
      "metadata": {
        "id": "93a8432c"
      },
      "source": [
        "### Add the Supply Constraint\n",
        "\n",
        "We now introduce the constraints. The first constraint is to make sure that the total number of avocados supplied is equal to $B$, which can be mathematically expressed as follows.\n",
        "\n",
        "\\begin{align*} \n",
        "\\sum_{r} x_r &= B\n",
        "\\end{align*}\n",
        "\n",
        "The following code adds this constraint to the model."
      ]
    },
    {
      "cell_type": "code",
      "execution_count": 206,
      "id": "84bd6017",
      "metadata": {
        "id": "84bd6017"
      },
      "outputs": [],
      "source": [
        "m.addConstr(sum(x[r] for r in R) == B)\n",
        "m.update()"
      ]
    },
    {
      "cell_type": "markdown",
      "id": "380cbfab",
      "metadata": {
        "id": "380cbfab"
      },
      "source": [
        "### Add Constraints That Define Sales Quantity\n",
        "\n",
        "Next, we should define the predicted sales quantity in each region.\n",
        "We can assume that if we supply more than the predicted demand, we sell exactly the predicted demand. \n",
        "Otherwise, we sell exactly the allocated amount.\n",
        "Hence, the predicted sales quantity is the minimum of the allocated quantity and the predicted demand, i.e., $s_r = \\min \\{x_r,d_r(p_r)\\}$. \n",
        "This relationship can be modeled by the following two constraints for each region $r$.\n",
        "\n",
        "\\begin{align*} \n",
        "s_r &\\leq x_r  \\\\\n",
        "s_r &\\leq d(p_r,r)  \n",
        "\\end{align*}\n",
        "\n",
        "These constraints will ensure that the sales quantity $s_r$ in region $r$ is  greater than neither the allocated quantity nor the predicted demand. Note that the maximization objective function tries to maximize the revenue from sales, and therefore the optimizer will maximize the predicted sales quantity. This is assuming that the surplus and transportation costs are less than the sales price per avocado. Hence, these constraints along with the objective will ensure that the sales are equal to the minimum of supply and predicted demand.\n",
        "\n",
        "Let us now add these constraints to the model."
      ]
    },
    {
      "cell_type": "code",
      "execution_count": 207,
      "id": "ca72fc5b",
      "metadata": {
        "id": "ca72fc5b"
      },
      "outputs": [],
      "source": [
        "m.addConstrs((s[r] <= x[r] for r in R), name='sales_qty_upper_bound')\n",
        "m.addConstrs((s[r] <= d[r] for r in R), name='sales_qty_lower_bound')\n",
        "m.addConstrs((w[r] == x[r] - s[r] for r in R), name='waste_qty')\n",
        "m.update()"
      ]
    },
    {
      "cell_type": "markdown",
      "id": "d0875f6c",
      "metadata": {
        "id": "d0875f6c"
      },
      "source": [
        "### Add the Wastage Constraints\n",
        "\n",
        "Finally, we should define the predicted wastage in each region, given by the supplied quantity that is not predicted to be sold. We can express this mathematically for each region $r$.\n",
        "\n",
        "\\begin{align*} \n",
        "w_r &= x_r - s_r\n",
        "\\end{align*} \n",
        "\n",
        "We can add these constraints to the model."
      ]
    },
    {
      "cell_type": "code",
      "execution_count": 208,
      "id": "38ac8066",
      "metadata": {
        "id": "38ac8066"
      },
      "outputs": [],
      "source": [
        "m.addConstrs((w[r] == x[r]-s[r] for r in R))\n",
        "m.update()"
      ]
    },
    {
      "cell_type": "markdown",
      "id": "dab6884c",
      "metadata": {
        "id": "dab6884c"
      },
      "source": [
        "### Fire Up the Solver\n",
        "\n",
        "We have added the decision variables, objective function, and the constraints to the model. \n",
        "The model is ready to be solved.\n",
        "Before we do so, we should let the solver know what type of model this is.\n",
        "The default setting assumes that the objective and the constraints are linear functions of the variables.\n",
        "\n",
        "In our model, the objective is **quadratic** since we take the product of price and the predicted sales, both of which are variables. \n",
        "Maximizing a quadratic term is said to be **non-convex**, and we specify this using a Gurobi parameter value to be $2$. \n",
        "See [here](https://www.gurobi.com/documentation/9.5/refman/nonconvex.html) for more details."
      ]
    },
    {
      "cell_type": "code",
      "execution_count": 209,
      "id": "ac3c5eca",
      "metadata": {
        "colab": {
          "base_uri": "https://localhost:8080/"
        },
        "id": "ac3c5eca",
        "outputId": "b95d1968-237b-42ec-fdbe-ef91f0c4b9c4"
      },
      "outputs": [
        {
          "output_type": "stream",
          "name": "stdout",
          "text": [
            "Set parameter NonConvex to value 2\n",
            "Gurobi Optimizer version 10.0.1 build v10.0.1rc0 (linux64)\n",
            "\n",
            "CPU model: Intel(R) Xeon(R) CPU @ 2.20GHz, instruction set [SSE2|AVX|AVX2]\n",
            "Thread count: 1 physical cores, 2 logical processors, using up to 2 threads\n",
            "\n",
            "Optimize a model with 33 rows, 32 columns and 87 nonzeros\n",
            "Model fingerprint: 0xcc6c60f9\n",
            "Model has 8 quadratic objective terms\n",
            "Coefficient statistics:\n",
            "  Matrix range     [3e-01, 2e+00]\n",
            "  Objective range  [1e-01, 5e-01]\n",
            "  QObjective range [2e+00, 2e+00]\n",
            "  Bounds range     [2e-01, 1e+01]\n",
            "  RHS range        [2e+00, 3e+01]\n",
            "Presolve removed 12 rows and 0 columns\n",
            "\n",
            "Continuous model is non-convex -- solving as a MIP\n",
            "\n",
            "Presolve removed 23 rows and 15 columns\n",
            "Presolve time: 0.00s\n",
            "Presolved: 19 rows, 22 columns, 47 nonzeros\n",
            "Presolved model has 4 bilinear constraint(s)\n",
            "Variable types: 22 continuous, 0 integer (0 binary)\n",
            "\n",
            "Root relaxation: objective 5.350299e+01, 15 iterations, 0.00 seconds (0.00 work units)\n",
            "\n",
            "    Nodes    |    Current Node    |     Objective Bounds      |     Work\n",
            " Expl Unexpl |  Obj  Depth IntInf | Incumbent    BestBd   Gap | It/Node Time\n",
            "\n",
            "     0     0   53.50299    0    4          -   53.50299      -     -    0s\n",
            "H    0     0                      38.3449727   53.50299  39.5%     -    0s\n",
            "H    0     0                      53.5029949   53.50299  0.00%     -    0s\n",
            "\n",
            "Explored 1 nodes (15 simplex iterations) in 0.08 seconds (0.00 work units)\n",
            "Thread count was 2 (of 2 available processors)\n",
            "\n",
            "Solution count 2: 53.503 38.345 \n",
            "\n",
            "Optimal solution found (tolerance 1.00e-04)\n",
            "Best objective 5.350299489901e+01, best bound 5.350299492400e+01, gap 0.0000%\n"
          ]
        }
      ],
      "source": [
        "m.Params.NonConvex = 2 \n",
        "m.optimize() "
      ]
    },
    {
      "cell_type": "markdown",
      "id": "aed67953",
      "metadata": {
        "id": "aed67953"
      },
      "source": [
        "The solver solved the optimization problem in less than a second.\n",
        "Let us now analyze the optimal solution by storing it in a Pandas dataframe."
      ]
    },
    {
      "cell_type": "code",
      "execution_count": 210,
      "id": "3f7ff154",
      "metadata": {
        "colab": {
          "base_uri": "https://localhost:8080/",
          "height": 331
        },
        "id": "3f7ff154",
        "outputId": "0caba471-b6a0-404c-92f4-ea1741bd48af"
      },
      "outputs": [
        {
          "output_type": "stream",
          "name": "stdout",
          "text": [
            "\n",
            " The optimal net revenue: $53.502995 million\n"
          ]
        },
        {
          "output_type": "execute_result",
          "data": {
            "text/plain": [
              "                 Region  Price  Allocated      Sold  Wasted  \\\n",
              "0           Great_Lakes    2.0   2.063574  2.063574     0.0   \n",
              "1              Midsouth    2.0   6.168572  6.168572     0.0   \n",
              "2             Northeast    2.0   2.364425  2.364425     0.0   \n",
              "3  Northern_New_England    2.0   0.219690  0.219690     0.0   \n",
              "4          SouthCentral    2.0   3.687130  3.687130     0.0   \n",
              "5             Southeast    2.0   5.413664  5.413664     0.0   \n",
              "6                  West    2.0   7.100918  7.100918     0.0   \n",
              "7                Plains    2.0   2.982028  2.982028     0.0   \n",
              "\n",
              "                                         Pred_demand  \n",
              "0             6.999790216386522 + 0.0 p[Great_Lakes]  \n",
              "1  6.371498125719493 + 0.3224032749669148 p[Midso...  \n",
              "2  9.335226324528271 + -0.693713314427292 p[North...  \n",
              "3  1.772152911306124 + 1.7596481770353365 p[North...  \n",
              "4  10.516880624958114 + -2.0113882162737537 p[Sou...  \n",
              "5  8.382038435628962 + -0.7048191606326024 p[Sout...  \n",
              "6   11.242138325126785 + -1.5411908055695434 p[West]  \n",
              "7   3.930170799791563 + 1.1036468237712322 p[Plains]  "
            ],
            "text/html": [
              "\n",
              "  <div id=\"df-b00870aa-8c49-4f47-bf00-ee05be080588\">\n",
              "    <div class=\"colab-df-container\">\n",
              "      <div>\n",
              "<style scoped>\n",
              "    .dataframe tbody tr th:only-of-type {\n",
              "        vertical-align: middle;\n",
              "    }\n",
              "\n",
              "    .dataframe tbody tr th {\n",
              "        vertical-align: top;\n",
              "    }\n",
              "\n",
              "    .dataframe thead th {\n",
              "        text-align: right;\n",
              "    }\n",
              "</style>\n",
              "<table border=\"1\" class=\"dataframe\">\n",
              "  <thead>\n",
              "    <tr style=\"text-align: right;\">\n",
              "      <th></th>\n",
              "      <th>Region</th>\n",
              "      <th>Price</th>\n",
              "      <th>Allocated</th>\n",
              "      <th>Sold</th>\n",
              "      <th>Wasted</th>\n",
              "      <th>Pred_demand</th>\n",
              "    </tr>\n",
              "  </thead>\n",
              "  <tbody>\n",
              "    <tr>\n",
              "      <th>0</th>\n",
              "      <td>Great_Lakes</td>\n",
              "      <td>2.0</td>\n",
              "      <td>2.063574</td>\n",
              "      <td>2.063574</td>\n",
              "      <td>0.0</td>\n",
              "      <td>6.999790216386522 + 0.0 p[Great_Lakes]</td>\n",
              "    </tr>\n",
              "    <tr>\n",
              "      <th>1</th>\n",
              "      <td>Midsouth</td>\n",
              "      <td>2.0</td>\n",
              "      <td>6.168572</td>\n",
              "      <td>6.168572</td>\n",
              "      <td>0.0</td>\n",
              "      <td>6.371498125719493 + 0.3224032749669148 p[Midso...</td>\n",
              "    </tr>\n",
              "    <tr>\n",
              "      <th>2</th>\n",
              "      <td>Northeast</td>\n",
              "      <td>2.0</td>\n",
              "      <td>2.364425</td>\n",
              "      <td>2.364425</td>\n",
              "      <td>0.0</td>\n",
              "      <td>9.335226324528271 + -0.693713314427292 p[North...</td>\n",
              "    </tr>\n",
              "    <tr>\n",
              "      <th>3</th>\n",
              "      <td>Northern_New_England</td>\n",
              "      <td>2.0</td>\n",
              "      <td>0.219690</td>\n",
              "      <td>0.219690</td>\n",
              "      <td>0.0</td>\n",
              "      <td>1.772152911306124 + 1.7596481770353365 p[North...</td>\n",
              "    </tr>\n",
              "    <tr>\n",
              "      <th>4</th>\n",
              "      <td>SouthCentral</td>\n",
              "      <td>2.0</td>\n",
              "      <td>3.687130</td>\n",
              "      <td>3.687130</td>\n",
              "      <td>0.0</td>\n",
              "      <td>10.516880624958114 + -2.0113882162737537 p[Sou...</td>\n",
              "    </tr>\n",
              "    <tr>\n",
              "      <th>5</th>\n",
              "      <td>Southeast</td>\n",
              "      <td>2.0</td>\n",
              "      <td>5.413664</td>\n",
              "      <td>5.413664</td>\n",
              "      <td>0.0</td>\n",
              "      <td>8.382038435628962 + -0.7048191606326024 p[Sout...</td>\n",
              "    </tr>\n",
              "    <tr>\n",
              "      <th>6</th>\n",
              "      <td>West</td>\n",
              "      <td>2.0</td>\n",
              "      <td>7.100918</td>\n",
              "      <td>7.100918</td>\n",
              "      <td>0.0</td>\n",
              "      <td>11.242138325126785 + -1.5411908055695434 p[West]</td>\n",
              "    </tr>\n",
              "    <tr>\n",
              "      <th>7</th>\n",
              "      <td>Plains</td>\n",
              "      <td>2.0</td>\n",
              "      <td>2.982028</td>\n",
              "      <td>2.982028</td>\n",
              "      <td>0.0</td>\n",
              "      <td>3.930170799791563 + 1.1036468237712322 p[Plains]</td>\n",
              "    </tr>\n",
              "  </tbody>\n",
              "</table>\n",
              "</div>\n",
              "      <button class=\"colab-df-convert\" onclick=\"convertToInteractive('df-b00870aa-8c49-4f47-bf00-ee05be080588')\"\n",
              "              title=\"Convert this dataframe to an interactive table.\"\n",
              "              style=\"display:none;\">\n",
              "        \n",
              "  <svg xmlns=\"http://www.w3.org/2000/svg\" height=\"24px\"viewBox=\"0 0 24 24\"\n",
              "       width=\"24px\">\n",
              "    <path d=\"M0 0h24v24H0V0z\" fill=\"none\"/>\n",
              "    <path d=\"M18.56 5.44l.94 2.06.94-2.06 2.06-.94-2.06-.94-.94-2.06-.94 2.06-2.06.94zm-11 1L8.5 8.5l.94-2.06 2.06-.94-2.06-.94L8.5 2.5l-.94 2.06-2.06.94zm10 10l.94 2.06.94-2.06 2.06-.94-2.06-.94-.94-2.06-.94 2.06-2.06.94z\"/><path d=\"M17.41 7.96l-1.37-1.37c-.4-.4-.92-.59-1.43-.59-.52 0-1.04.2-1.43.59L10.3 9.45l-7.72 7.72c-.78.78-.78 2.05 0 2.83L4 21.41c.39.39.9.59 1.41.59.51 0 1.02-.2 1.41-.59l7.78-7.78 2.81-2.81c.8-.78.8-2.07 0-2.86zM5.41 20L4 18.59l7.72-7.72 1.47 1.35L5.41 20z\"/>\n",
              "  </svg>\n",
              "      </button>\n",
              "      \n",
              "  <style>\n",
              "    .colab-df-container {\n",
              "      display:flex;\n",
              "      flex-wrap:wrap;\n",
              "      gap: 12px;\n",
              "    }\n",
              "\n",
              "    .colab-df-convert {\n",
              "      background-color: #E8F0FE;\n",
              "      border: none;\n",
              "      border-radius: 50%;\n",
              "      cursor: pointer;\n",
              "      display: none;\n",
              "      fill: #1967D2;\n",
              "      height: 32px;\n",
              "      padding: 0 0 0 0;\n",
              "      width: 32px;\n",
              "    }\n",
              "\n",
              "    .colab-df-convert:hover {\n",
              "      background-color: #E2EBFA;\n",
              "      box-shadow: 0px 1px 2px rgba(60, 64, 67, 0.3), 0px 1px 3px 1px rgba(60, 64, 67, 0.15);\n",
              "      fill: #174EA6;\n",
              "    }\n",
              "\n",
              "    [theme=dark] .colab-df-convert {\n",
              "      background-color: #3B4455;\n",
              "      fill: #D2E3FC;\n",
              "    }\n",
              "\n",
              "    [theme=dark] .colab-df-convert:hover {\n",
              "      background-color: #434B5C;\n",
              "      box-shadow: 0px 1px 3px 1px rgba(0, 0, 0, 0.15);\n",
              "      filter: drop-shadow(0px 1px 2px rgba(0, 0, 0, 0.3));\n",
              "      fill: #FFFFFF;\n",
              "    }\n",
              "  </style>\n",
              "\n",
              "      <script>\n",
              "        const buttonEl =\n",
              "          document.querySelector('#df-b00870aa-8c49-4f47-bf00-ee05be080588 button.colab-df-convert');\n",
              "        buttonEl.style.display =\n",
              "          google.colab.kernel.accessAllowed ? 'block' : 'none';\n",
              "\n",
              "        async function convertToInteractive(key) {\n",
              "          const element = document.querySelector('#df-b00870aa-8c49-4f47-bf00-ee05be080588');\n",
              "          const dataTable =\n",
              "            await google.colab.kernel.invokeFunction('convertToInteractive',\n",
              "                                                     [key], {});\n",
              "          if (!dataTable) return;\n",
              "\n",
              "          const docLinkHtml = 'Like what you see? Visit the ' +\n",
              "            '<a target=\"_blank\" href=https://colab.research.google.com/notebooks/data_table.ipynb>data table notebook</a>'\n",
              "            + ' to learn more about interactive tables.';\n",
              "          element.innerHTML = '';\n",
              "          dataTable['output_type'] = 'display_data';\n",
              "          await google.colab.output.renderOutput(dataTable, element);\n",
              "          const docLink = document.createElement('div');\n",
              "          docLink.innerHTML = docLinkHtml;\n",
              "          element.appendChild(docLink);\n",
              "        }\n",
              "      </script>\n",
              "    </div>\n",
              "  </div>\n",
              "  "
            ]
          },
          "metadata": {},
          "execution_count": 210
        }
      ],
      "source": [
        "solution = pd.DataFrame() \n",
        "solution['Region'] = R\n",
        "solution['Price'] = [p[r].X for r in R]\n",
        "solution['Allocated'] = [round(x[r].X,8) for r in R]\n",
        "solution['Sold'] = [round(s[r].X,8) for r in R]\n",
        "solution['Wasted'] = [round(w[r].X,8) for r in R]  \n",
        "solution['Pred_demand'] = [(coef_dict['Intercept'] + coef_dict['price:C(region)[T.%s]' % r] * p[r] + coef_dict['C(region)[T.%s]'%r] + coef_dict['year_index'] * (year-2015) + coef_dict['peak']*peak_or_not) for r in regions]\n",
        "opt_revenue = m.ObjVal\n",
        "print(\"\\n The optimal net revenue: $%f million\"%opt_revenue) \n",
        "solution"
      ]
    },
    {
      "cell_type": "markdown",
      "id": "f475012d",
      "metadata": {
        "id": "f475012d"
      },
      "source": [
        "Let us now visualize a scatter plot between the price and the number of avocados sold (in millions) for the eight regions."
      ]
    },
    {
      "cell_type": "code",
      "execution_count": 211,
      "id": "551f4eb6",
      "metadata": {
        "colab": {
          "base_uri": "https://localhost:8080/",
          "height": 472
        },
        "id": "551f4eb6",
        "outputId": "187810ee-f817-482c-cde8-5c6332512904"
      },
      "outputs": [
        {
          "output_type": "display_data",
          "data": {
            "text/plain": [
              "<Figure size 640x480 with 1 Axes>"
            ],
            "image/png": "[encoded data removed]"
          },
          "metadata": {}
        },
        {
          "output_type": "stream",
          "name": "stdout",
          "text": [
            "The circles represent sales quantity and the cross markers represent the wasted quantity.\n"
          ]
        }
      ],
      "source": [
        "fig, ax = plt.subplots(1,1) \n",
        "plot_sol = sns.scatterplot(data=solution,x='Price',y='Sold',hue='Region',s=100)\n",
        "plot_waste = sns.scatterplot(data=solution,x='Price',y='Wasted',marker='x',hue='Region',s=100,legend = False)\n",
        "\n",
        "plot_sol.legend(loc='center left', bbox_to_anchor=(1.25, 0.5), ncol=1)\n",
        "plot_waste.legend(loc='center left', bbox_to_anchor=(1.25, 0.5), ncol=1)\n",
        "plt.ylim(0, 5)\n",
        "plt.xlim(1, 2.2)\n",
        "ax.set_xlabel('Price per avocado ($)')\n",
        "ax.set_ylabel('Number of avocados sold (millions)')\n",
        "plt.show() \n",
        "print(\"The circles represent sales quantity and the cross markers represent the wasted quantity.\")"
      ]
    },
    {
      "cell_type": "code",
      "source": [
        "%time"
      ],
      "metadata": {
        "colab": {
          "base_uri": "https://localhost:8080/"
        },
        "id": "QKLoSecGGxJX",
        "outputId": "9d50ff49-67e1-495b-f5eb-dd91d4635388"
      },
      "id": "QKLoSecGGxJX",
      "execution_count": 212,
      "outputs": [
        {
          "output_type": "stream",
          "name": "stdout",
          "text": [
            "CPU times: user 4 µs, sys: 0 ns, total: 4 µs\n",
            "Wall time: 10.3 µs\n"
          ]
        }
      ]
    },
    {
      "cell_type": "markdown",
      "id": "e0888fb6",
      "metadata": {
        "id": "e0888fb6"
      },
      "source": [
        "Copyright © 2022 Gurobi Optimization, LLC"
      ]
    }
  ],
  "metadata": {
    "kernelspec": {
      "display_name": "Python 3 (ipykernel)",
      "language": "python",
      "name": "python3"
    },
    "language_info": {
      "codemirror_mode": {
        "name": "ipython",
        "version": 3
      },
      "file_extension": ".py",
      "mimetype": "text/x-python",
      "name": "python",
      "nbconvert_exporter": "python",
      "pygments_lexer": "ipython3",
      "version": "3.9.7"
    },
    "colab": {
      "provenance": []
    }
  },
  "nbformat": 4,
  "nbformat_minor": 5
}